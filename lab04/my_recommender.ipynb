{
  "nbformat": 4,
  "nbformat_minor": 0,
  "metadata": {
    "colab": {
      "name": "my_recommender.ipynb",
      "provenance": [],
      "mount_file_id": "1Y2RlzEU2N-kyJKyBDZaPpY2yiRc_SPNP",
      "authorship_tag": "ABX9TyMETkzwKYzq326pG5PpJ/qS",
      "include_colab_link": true
    },
    "kernelspec": {
      "name": "python3",
      "display_name": "Python 3"
    }
  },
  "cells": [
    {
      "cell_type": "markdown",
      "metadata": {
        "id": "view-in-github",
        "colab_type": "text"
      },
      "source": [
        "<a href=\"https://colab.research.google.com/github/confusedolive/Jeronimo-CE888/blob/main/lab04/my_recommender.ipynb\" target=\"_parent\"><img src=\"https://colab.research.google.com/assets/colab-badge.svg\" alt=\"Open In Colab\"/></a>"
      ]
    },
    {
      "cell_type": "code",
      "metadata": {
        "id": "hJTDTtolA9-X"
      },
      "source": [
        "import pandas as pd\r\n",
        "import numpy as np\r\n",
        "np.set_printoptions(precision=3)"
      ],
      "execution_count": null,
      "outputs": []
    },
    {
      "cell_type": "code",
      "metadata": {
        "colab": {
          "base_uri": "https://localhost:8080/"
        },
        "id": "koSi5CkuBwN_",
        "outputId": "ae2393cd-1b70-408d-e2aa-36b186e877d0"
      },
      "source": [
        "jester_data = pd.read_csv(r'https://raw.githubusercontent.com/albanda/CE888/master/lab4-recommender/jester-data-1.csv', na_values=99)\r\n",
        "jester_df = jester_data.copy()\r\n",
        "\r\n",
        "'''number of users is 24983 , 100 jokes , values to be treated as\r\n",
        "nans are 99, column 74 to be dropped as its the amount of jokes rated by user'''\r\n",
        "\r\n",
        "#drop column which contains number of jokes rated by user\r\n",
        "jester_df.drop(labels='74',inplace=True, axis=1)\r\n",
        "#print(jester_df)\r\n",
        "\r\n",
        "#best and worst rated jokes\r\n",
        "best_rating_joke = jester_df.mean().idxmax()\r\n",
        "worst_rating_joke = jester_df.mean().idxmin()\r\n",
        "\r\n",
        "print(jester_df[worst_rating_joke].mean())\r\n",
        "print(jester_df.iloc[2143, 54])"
      ],
      "execution_count": null,
      "outputs": [
        {
          "output_type": "stream",
          "text": [
            "-3.833520447530859\n",
            "2.18\n"
          ],
          "name": "stdout"
        }
      ]
    },
    {
      "cell_type": "code",
      "metadata": {
        "colab": {
          "base_uri": "https://localhost:8080/"
        },
        "id": "e878V6isZJQF",
        "outputId": "ada077fe-a5f5-4168-f793-3901b627cb44"
      },
      "source": [
        "#Helper function\r\n",
        "''' Label 10% of the dataset cells that are not Nans as 99, validation set\r\n",
        "Keep actual values of the cells so you can use them later'''\r\n",
        "\r\n",
        "arr = jester_df.values\r\n",
        "rated = np.where(~np.isnan(arr))\r\n",
        "\r\n",
        "\r\n",
        "def replace(orig, percentage=0.1):\r\n",
        "  \"\"\"\r\n",
        "  Replaces 'percentage'% of the original values in 'orig' with 99's\r\n",
        "  :param orig: original data array\r\n",
        "  :param percentage: percentage of values to replace (0<percentage<1)\r\n",
        "  \"\"\"\r\n",
        "  new_data = orig.copy()\r\n",
        "  rated = np.where(~np.isnan(arr))\r\n",
        "  n_rated = len(rated[0])\r\n",
        "  idx = np.random.choice(n_rated, size=int(percentage*n_rated), replace=False)\r\n",
        "  new_data[rated[0][idx], rated[1][idx]] = 99\r\n",
        "  \r\n",
        "  return new_data, (rated[0][idx], rated[1][idx])\r\n",
        "\r\n",
        "\r\n",
        "new_arr, idx = replace(arr)\r\n",
        "print(new_arr)\r\n",
        "print(rated)"
      ],
      "execution_count": null,
      "outputs": [
        {
          "output_type": "stream",
          "text": [
            "[[ 4.08 -0.29  6.36 ...  0.34 -4.32  1.07]\n",
            " [  nan   nan   nan ...   nan   nan   nan]\n",
            " [  nan  8.35   nan ...   nan   nan   nan]\n",
            " ...\n",
            " [  nan   nan   nan ...   nan   nan   nan]\n",
            " [  nan   nan   nan ...   nan   nan   nan]\n",
            " [ 2.43 99.   -3.98 ...   nan   nan   nan]]\n",
            "(array([    0,     0,     0, ..., 24981, 24981, 24981]), array([ 0,  1,  2, ..., 69, 70, 86]))\n"
          ],
          "name": "stdout"
        }
      ]
    },
    {
      "cell_type": "code",
      "metadata": {
        "colab": {
          "base_uri": "https://localhost:8080/"
        },
        "id": "rlimEgw8eF4T",
        "outputId": "cf16da95-ebae-4b2f-c5e4-fd3b3e199b18"
      },
      "source": [
        "\r\n",
        "user_ratings = new_arr\r\n",
        "arr = jester_df.values\r\n",
        "\r\n",
        "latent_user_preferences = np.random.random((user_ratings.shape[0], 5))\r\n",
        "latent_item_features = np.random.random((user_ratings.shape[1], 5))\r\n",
        "\r\n",
        "\r\n",
        "def predict_rating(user_id, item_id):\r\n",
        "    \"\"\" Predict a rating given a user_id and an item_id.\r\n",
        "    \"\"\"\r\n",
        "    user_preference = latent_user_preferences[user_id]\r\n",
        "    item_preference = latent_item_features[item_id]\r\n",
        "    return user_preference.dot(item_preference)\r\n",
        "\r\n",
        "\r\n",
        "def train(user_id, item_id, rating, alpha=0.0004):\r\n",
        "    #print(item_id)\r\n",
        "    predicted_rating = predict_rating(user_id, item_id)\r\n",
        "    err =  predicted_rating - rating\r\n",
        "    #print(err)\r\n",
        "    user_pref_values = latent_user_preferences[user_id]\r\n",
        "    latent_user_preferences[user_id] -= alpha * err * latent_item_features[item_id]\r\n",
        "    latent_item_features[item_id] -= alpha * err * user_pref_values\r\n",
        "    return err\r\n",
        "    \r\n",
        "\r\n",
        "def sgd(iterations):\r\n",
        "    \"\"\" Iterate over all users and all items and train for \r\n",
        "        a certain number of iterations\r\n",
        "    \"\"\"\r\n",
        "    mse_history = []\r\n",
        "    for iteration in range(iterations):\r\n",
        "        error = []\r\n",
        "        for user_id in range(latent_user_preferences.shape[0]):\r\n",
        "            for item_id in range(latent_item_features.shape[0]):\r\n",
        "                rating = arr[user_id, item_id]\r\n",
        "                if not np.isnan(rating):\r\n",
        "                    err = train(user_id, item_id, rating)\r\n",
        "                    error.append(err)\r\n",
        "        mse = (np.array(error) ** 2).mean()   \r\n",
        "        #if (iteration % 10000) == 0:\r\n",
        "        print('Iteration %d/%d:\\tMSE=%.6f' % (iteration, iterations, mse))\r\n",
        "        mse_history.append(mse)\r\n",
        "    return mse_history\r\n",
        "\r\n",
        "\r\n",
        "# values = [zip(user_ratings[i], predictions[i]) for i in range(predictions.shape[0])]\r\n",
        "# comparison_data = pd.DataFrame(values)\r\n",
        "# print(comparison_data)\r\n",
        "sgd(10)\r\n"
      ],
      "execution_count": null,
      "outputs": [
        {
          "output_type": "stream",
          "text": [
            "Iteration 0/10:\tMSE=25.026114\n",
            "Iteration 1/10:\tMSE=24.498123\n",
            "Iteration 2/10:\tMSE=24.070436\n",
            "Iteration 3/10:\tMSE=23.575935\n",
            "Iteration 4/10:\tMSE=22.801752\n",
            "Iteration 5/10:\tMSE=21.263625\n",
            "Iteration 6/10:\tMSE=19.309714\n",
            "Iteration 7/10:\tMSE=18.200498\n",
            "Iteration 8/10:\tMSE=17.791976\n",
            "Iteration 9/10:\tMSE=17.606034\n"
          ],
          "name": "stdout"
        },
        {
          "output_type": "execute_result",
          "data": {
            "text/plain": [
              "[25.02611432096978,\n",
              " 24.49812349570876,\n",
              " 24.07043564366498,\n",
              " 23.575935492205026,\n",
              " 22.80175151666691,\n",
              " 21.263624988162235,\n",
              " 19.309713538913773,\n",
              " 18.200498375671053,\n",
              " 17.791975546003982,\n",
              " 17.606034354655712]"
            ]
          },
          "metadata": {
            "tags": []
          },
          "execution_count": 9
        }
      ]
    },
    {
      "cell_type": "code",
      "metadata": {
        "colab": {
          "base_uri": "https://localhost:8080/"
        },
        "id": "bU7hoC_T2nNo",
        "outputId": "6ee73965-35d1-4d03-bdd5-859e84ccc8a4"
      },
      "source": [
        "movies_items = pd.read_excel('movies_latent_factors.xlsx',sheet_name = 'Items', index_col='Movie ID')\r\n",
        "movie_users = pd.read_excel('movies_latent_factors.xlsx', sheet_name = 'Users', index_col='User')\r\n",
        "\r\n",
        "#print(movies_items.loc[movies_items['Factor3'].idxmax()])\r\n",
        "#print(movies_items.loc[122])\r\n",
        "\r\n",
        "user_rating = movie_users.loc[5338].values\r\n",
        "movie_rating = movies_items.loc[36657].values[1:]\r\n",
        "print(user_rating.dot(movie_rating))\r\n",
        "\r\n",
        "val = movie_users.loc[3878].values\r\n",
        "test = {}\r\n",
        "for x in movies_items.values:\r\n",
        "  test[x[0]] = val.dot(x[1:])\r\n",
        "  \r\n",
        "\r\n",
        "sort_dict= dict(sorted(test.items(), key=lambda item: item[1])) \r\n",
        "c = list(sort_dict.keys())\r\n",
        "for x in c[-2:]:\r\n",
        "  print(f'{x} {movies_items.loc[movies_items[\"Title\"] == x].index[0]}')\r\n",
        "print(sort_dict)"
      ],
      "execution_count": null,
      "outputs": [
        {
          "output_type": "stream",
          "text": [
            "-0.2280152087189911\n",
            "Dumb & Dumber (1994) 8467\n",
            "Back to the Future (1985) 105\n",
            "{'The Lord of the Rings: The Two Towers (2002)': -2.0611500084617242, 'The Lord of the Rings: The Fellowship of the Ring (2001)': -1.9924328167852676, 'The Lord of the Rings: The Return of the King (2003)': -1.9801680405720616, 'The Matrix Reloaded (2003)': -1.7920124797821286, \"Charlie's Angels (2000)\": -1.2345129694860018, 'Batman Forever (1995)': -1.0779532025164928, 'Spider-Man 2 (2004)': -1.0023885156591041, 'Star Wars: Episode II - Attack of the Clones (2002)': -0.966949811337707, 'Mission: Impossible II (2000)': -0.8003154498975374, 'Pirates of the Caribbean: The Curse of the Black Pearl (2003)': -0.6860519680580948, 'Spider-Man (2002)': -0.6804796103520693, 'Crouching Tiger Hidden Dragon (Wo hu cang long) (2000)': -0.5593304269773673, 'X2: X-Men United (2003)': -0.5556356202530627, 'Shrek 2 (2004)': -0.4305716435120944, 'Twister (1996)': -0.38504843791260945, 'X-Men (2000)': -0.3762269856652471, 'The Patriot (2000)': -0.3371177517923271, 'The Matrix (1999)': -0.3099762324029999, 'Unbreakable (2000)': -0.2569869114804868, 'Minority Report (2002)': -0.24835988700466155, 'Erin Brockovich (2000)': -0.19742961753958876, 'Harry Potter and the Chamber of Secrets (2002)': -0.18067339292601814, 'Chicken Run (2000)': -0.17710519200492136, 'Mission: Impossible (1996)': -0.14450304182323512, 'Amelie (2001)': -0.13831651115852983, \"Harry Potter and the Sorcerer's Stone (a.k.a. Harry Potter and the Philosopher's Stone) (2001)\": -0.1371991651274818, 'Lost in Translation (2003)': -0.13080924876687397, 'Titanic (1997)': -0.12694327407966147, 'A Beautiful Mind (2001)': -0.11940769909991505, 'Dances with Wolves (1990)': -0.11642104076050243, 'Sin City (2005)': -0.11385677011212622, 'V for Vendetta (2006)': -0.09388509455611047, 'Almost Famous (2000)': -0.09219970048965453, 'The Rock (1996)': -0.08458146804468505, 'American Beauty (1999)': -0.0784492731659206, 'Pretty Woman (1990)': -0.06531048279385665, 'Traffic (2000)': -0.060595676641487725, 'Shrek (2001)': -0.043637551127351605, 'Men in Black (a.k.a. MIB) (1997)': -0.030390591728894537, 'Clear and Present Danger (1994)': -0.01870434666927357, 'Stargate (1994)': -0.006431111719128954, 'Cast Away (2000)': -0.0008286106303326893, 'Batman (1989)': 0.01005389032349982, 'The Bourne Supremacy (2004)': 0.020210232515006272, \"Ocean's Eleven (2001)\": 0.0321202544990628, 'Braveheart (1995)': 0.03692185415440773, 'Kill Bill: Vol. 2 (2004)': 0.03955728181136961, 'Speed (1994)': 0.04292203314878035, 'The Mask (1994)': 0.05120099844159513, 'High Fidelity (2000)': 0.07023403266848333, 'Mrs. Doubtfire (1993)': 0.0714742357960561, 'Eternal Sunshine of the Spotless Mind (2004)': 0.07344598757436599, 'Requiem for a Dream (2000)': 0.07924719952974374, 'Beauty and the Beast (1991)': 0.12930619034729204, 'Monsters Inc. (2001)': 0.13024020048964657, 'Gladiator (2000)': 0.1360758671451469, 'O Brother Where Art Thou? (2000)': 0.13674022652577703, 'Twelve Monkeys (a.k.a. 12 Monkeys) (1995)': 0.1548498732476549, 'Meet the Parents (2000)': 0.17129886425420637, 'The Bourne Identity (2002)': 0.18996040722720386, 'True Lies (1994)': 0.19339604888087905, 'Donnie Darko (2001)': 0.19994383071403984, 'Forrest Gump (1994)': 0.20578390310086556, 'Apollo 13 (1995)': 0.21594967356813405, 'Saving Private Ryan (1998)': 0.2160295841663219, 'Kill Bill: Vol. 1 (2003)': 0.2215966637294177, 'Die Hard: With a Vengeance (1995)': 0.228385452754468, 'The Sixth Sense (1999)': 0.22854824696579945, 'Aladdin (1992)': 0.2855588012695347, 'Catch Me If You Can (2002)': 0.29270778159314165, 'Independence Day (a.k.a. ID4) (1996)': 0.3078745125620054, 'Snatch (2000)': 0.3264372101232125, 'The Silence of the Lambs (1991)': 0.3374975080835834, \"Schindler's List (1993)\": 0.3453192119053143, 'Fargo (1996)': 0.3624056459330558, 'The Incredibles (2004)': 0.3637910488225392, 'The Fugitive (1993)': 0.36413854238105636, 'E.T. the Extra-Terrestrial (1982)': 0.3875908264542145, 'Finding Nemo (2003)': 0.39621405328277337, 'The Lion King (1994)': 0.4106696864616991, 'Seven (a.k.a. Se7en) (1995)': 0.41605571271449, 'The Godfather (1972)': 0.41701799180327226, 'Memento (2000)': 0.4239371848700813, 'Star Wars: Episode VI - Return of the Jedi (1983)': 0.47127479435226227, 'The Usual Suspects (1995)': 0.4916547251154643, 'The Departed (2006)': 0.5062301923691203, 'Fight Club (1999)': 0.5524312582073144, 'The Shawshank Redemption (1994)': 0.5581406574824395, 'Star Wars: Episode V - The Empire Strikes Back (1980)': 0.5628884713569223, 'Pulp Fiction (1994)': 0.583364688917746, 'Batman Begins (2005)': 0.6049423929494843, 'Star Wars: Episode IV - A New Hope (1977)': 0.6193442889135593, 'Terminator 2: Judgment Day (1991)': 0.6318509920675643, 'Ace Ventura: Pet Detective (1994)': 0.6709333063251898, 'Toy Story (1995)': 0.6756176132445193, 'Raiders of the Lost Ark (Indiana Jones and the Raiders of the Lost Ark) (1981)': 0.7742921990961825, 'Jurassic Park (1993)': 0.8176041714079991, 'The Dark Knight (2008)': 0.8446214397134304, 'Dumb & Dumber (1994)': 0.8744649007369028, 'Back to the Future (1985)': 0.9289827867793357}\n"
          ],
          "name": "stdout"
        }
      ]
    }
  ]
}