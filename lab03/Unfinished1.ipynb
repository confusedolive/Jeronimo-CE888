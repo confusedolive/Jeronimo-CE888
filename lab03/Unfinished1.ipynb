{
  "nbformat": 4,
  "nbformat_minor": 0,
  "metadata": {
    "colab": {
      "name": "Untitled1.ipynb",
      "provenance": [],
      "authorship_tag": "ABX9TyMksjJzlLWsKK62D6ou/+0H",
      "include_colab_link": true
    },
    "kernelspec": {
      "name": "python3",
      "display_name": "Python 3"
    },
    "accelerator": "GPU"
  },
  "cells": [
    {
      "cell_type": "markdown",
      "metadata": {
        "id": "view-in-github",
        "colab_type": "text"
      },
      "source": [
        "<a href=\"https://colab.research.google.com/github/confusedolive/Jeronimo-CE888/blob/main/lab03/Unfinished1.ipynb\" target=\"_parent\"><img src=\"https://colab.research.google.com/assets/colab-badge.svg\" alt=\"Open In Colab\"/></a>"
      ]
    },
    {
      "cell_type": "code",
      "metadata": {
        "id": "gPpzdOojJke_"
      },
      "source": [
        "import pandas as pd\r\n",
        "import numpy as np\r\n",
        "import seaborn as sns\r\n",
        "import matplotlib.pyplot as plt\r\n",
        "from sklearn.preprocessing import LabelEncoder\r\n",
        "from sklearn.ensemble import RandomForestClassifier\r\n",
        "from sklearn.tree import DecisionTreeClassifier\r\n",
        "from sklearn.model_selection import train_test_split, GridSearchCV\r\n",
        "from sklearn.dummy import DummyClassifier\r\n",
        "from sklearn import metrics\r\n",
        "from sklearn.model_selection import cross_val_score, StratifiedKFold \r\n"
      ],
      "execution_count": 6,
      "outputs": []
    },
    {
      "cell_type": "markdown",
      "metadata": {
        "id": "21loBlS9LaNa"
      },
      "source": [
        " preprocessing "
      ]
    },
    {
      "cell_type": "code",
      "metadata": {
        "id": "-BO_SK7_JtyY"
      },
      "source": [
        "df = pd.read_csv('https://raw.githubusercontent.com/albanda/CE888/master/lab3/bank-additional-full.csv', sep = ';')\r\n",
        "output = 'y'\r\n",
        "\r\n",
        "df_1 = df.copy()\r\n",
        "df_1 = df_1.dropna()\r\n",
        "del df_1['duration']\r\n",
        "\r\n",
        "categorical = df_1.columns[(df_1.dtypes == object) & (df_1.columns != output)]\r\n",
        "features = df_1.columns[df_1.columns != output]\r\n",
        "\r\n",
        "le = LabelEncoder()\r\n",
        "df_1[[output]] = df_1[[output]].apply(le.fit_transform)\r\n",
        "\r\n",
        "X_df = df_1[features].copy()\r\n",
        "y_df = df_1[[output]].copy()\r\n",
        "df_dummies = pd.get_dummies(X_df, columns = categorical )"
      ],
      "execution_count": 8,
      "outputs": []
    },
    {
      "cell_type": "markdown",
      "metadata": {
        "id": "YMjAGgcAMLpP"
      },
      "source": [
        "plotting label inbalance"
      ]
    },
    {
      "cell_type": "code",
      "metadata": {
        "colab": {
          "base_uri": "https://localhost:8080/",
          "height": 295
        },
        "id": "WA3pC5kTMFNh",
        "outputId": "95a2519d-fc44-40ed-e009-4601eed3ba84"
      },
      "source": [
        "\r\n",
        "sns.histplot(df_1, x = 'y',discrete=True, shrink = 1,  hue='y')\r\n",
        "plt.title('label balance')\r\n",
        "plt.xticks([0,1])\r\n",
        "plt.show()"
      ],
      "execution_count": 9,
      "outputs": [
        {
          "output_type": "display_data",
          "data": {
            "image/png": "[encoded data removed]",
            "text/plain": [
              "<Figure size 432x288 with 1 Axes>"
            ]
          },
          "metadata": {
            "tags": [],
            "needs_background": "light"
          }
        }
      ]
    },
    {
      "cell_type": "code",
      "metadata": {
        "colab": {
          "base_uri": "https://localhost:8080/"
        },
        "id": "lSHa7EzbMKzZ",
        "outputId": "75212042-3b30-41b9-b33c-0c23f5444836"
      },
      "source": [
        "x = df_dummies.values\r\n",
        "y = y_df.values\r\n",
        "\r\n",
        "X_train, X_test, y_train, y_test = train_test_split(x, y, test_size=0.20, random_state=50, stratify=y)\r\n",
        "#checking label is stratified\r\n",
        "unique_real, counts_real = np.unique(y, return_counts=True)\r\n",
        "unique_train, counts_train = np.unique(y_train, return_counts=True)\r\n",
        "unique_test, counts_test = np.unique(y_test, return_counts=True)\r\n",
        "balance_train = dict(zip(unique_train,counts_train))\r\n",
        "balance_test = dict(zip(unique_test, counts_test))\r\n",
        "balance_real = dict(zip(unique_real, counts_real))\r\n",
        "\r\n",
        "print(f'Dataset label inbalance: {balance_real[0]/ len(y):.2f}')\r\n",
        "print(f'label ratio in real dataframe no : yes = {balance_real[0]/balance_real[1]:.2f}: 1')\r\n",
        "print(f'label ratio in train data no : yes = {balance_train[0]/balance_train[1]:.2f}: 1')\r\n",
        "print(f'label ratio in test data no : yes = {balance_test[0]/ balance_test[1]:.2f}: 1')"
      ],
      "execution_count": 24,
      "outputs": [
        {
          "output_type": "stream",
          "text": [
            "Dataset label inbalance: 0.89\n",
            "label ratio in real dataframe no : yes = 7.88: 1\n",
            "label ratio in train data no : yes = 7.88: 1\n",
            "label ratio in test data no : yes = 7.88: 1\n"
          ],
          "name": "stdout"
        }
      ]
    },
    {
      "cell_type": "markdown",
      "metadata": {
        "id": "SKD3BqBDPEOj"
      },
      "source": [
        "Random Forest classifier depth=3 n_estimators=100 on train set with 10fold cv"
      ]
    },
    {
      "cell_type": "code",
      "metadata": {
        "colab": {
          "base_uri": "https://localhost:8080/"
        },
        "id": "sBoX5qkqOe45",
        "outputId": "f012ca6f-4537-46fa-8314-35bebc95e2b4"
      },
      "source": [
        "clf = RandomForestClassifier(max_depth=3, n_estimators=100)\r\n",
        "dmf = DummyClassifier(strategy='stratified')\r\n",
        "scores = cross_val_score(clf, X_train, y_train.ravel(), cv=10, scoring=metrics.make_scorer(metrics.f1_score))\r\n",
        "dmf_scores = cross_val_score(dmf, X_train, y_train.ravel(), cv=10, scoring=metrics.make_scorer(metrics.f1_score))\r\n",
        "\r\n",
        "print(f'F1_scores mean: {np.mean(scores):.2f} +/- {np.std(scores):.2f}')\r\n",
        "print(f'dummy F1_scores mean: {np.mean(dmf_scores):.2f} +/- {np.std(dmf_scores):.2f}')"
      ],
      "execution_count": 20,
      "outputs": [
        {
          "output_type": "stream",
          "text": [
            "F1_scores mean: 0.25 +/- 0.04\n",
            "dummy F1_scores mean: 0.12 +/- 0.01\n"
          ],
          "name": "stdout"
        }
      ]
    },
    {
      "cell_type": "markdown",
      "metadata": {
        "id": "IBnPlmriQmZ8"
      },
      "source": [
        "Using gridsearch to find best parameters for random forest classifier"
      ]
    },
    {
      "cell_type": "code",
      "metadata": {
        "colab": {
          "base_uri": "https://localhost:8080/"
        },
        "id": "RewYTCLWPDQf",
        "outputId": "e4bce0b6-57c8-4587-eb61-53549fd783f8"
      },
      "source": [
        "params = {'max_depth':[3,6,8], 'n_estimators':list(range(100,501,100))}\r\n",
        "grid_s = GridSearchCV(clf, param_grid=params, scoring=metrics.make_scorer(metrics.f1_score))\r\n",
        "grid_s.fit(X_train, y_train.ravel())\r\n",
        "print(grid_s.best_params_)"
      ],
      "execution_count": 21,
      "outputs": [
        {
          "output_type": "stream",
          "text": [
            "{'max_depth': 8, 'n_estimators': 400}\n"
          ],
          "name": "stdout"
        }
      ]
    },
    {
      "cell_type": "code",
      "metadata": {
        "colab": {
          "base_uri": "https://localhost:8080/"
        },
        "id": "A0LVaL6rQyEe",
        "outputId": "1be914af-7d8d-412b-cb3f-2185b21ff3aa"
      },
      "source": [
        "clf = RandomForestClassifier(max_depth=8, n_estimators=400)\r\n",
        "dmf = DummyClassifier(strategy='stratified')\r\n",
        "scores = cross_val_score(clf, X_train, y_train.ravel(), cv=10, scoring=metrics.make_scorer(metrics.f1_score))\r\n",
        "dmf_scores = cross_val_score(dmf, X_train, y_train.ravel(), cv=10, scoring=metrics.make_scorer(metrics.f1_score))\r\n",
        "\r\n",
        "print(f'F1_scores mean: {np.mean(scores):.2f} +/- {np.std(scores):.2f}')\r\n",
        "print(f'dummy F1_scores mean: {np.mean(dmf_scores):.2f} +/- {np.std(dmf_scores):.2f}')"
      ],
      "execution_count": 25,
      "outputs": [
        {
          "output_type": "stream",
          "text": [
            "F1_scores mean: 0.30 +/- 0.04\n",
            "dummy F1_scores mean: 0.11 +/- 0.01\n"
          ],
          "name": "stdout"
        }
      ]
    },
    {
      "cell_type": "markdown",
      "metadata": {
        "id": "E1dK4s0zSWAI"
      },
      "source": [
        "Finding top 3 features"
      ]
    },
    {
      "cell_type": "code",
      "metadata": {
        "colab": {
          "base_uri": "https://localhost:8080/"
        },
        "id": "AufovVsIRIhV",
        "outputId": "bf201b88-8a25-4165-a30e-f3052a1dedc5"
      },
      "source": [
        "clf.fit(X_train, y_train.ravel())\r\n",
        "importances = clf.feature_importances_\r\n",
        "\r\n",
        "std = np.std([tree.feature_importances_ for tree in clf.estimators_],\r\n",
        "            axis=0)\r\n",
        "indices = np.argsort(importances)[::-1]\r\n",
        "print('Top 3 features:')\r\n",
        "for f in range(3):\r\n",
        "    print(f'{f + 1}:  {df_dummies.columns[indices[f]]} ({importances[indices[f]]:.2f})')\r\n"
      ],
      "execution_count": 31,
      "outputs": [
        {
          "output_type": "stream",
          "text": [
            "Top 3 features:\n",
            "1:  nr.employed (0.17)\n",
            "2:  euribor3m (0.16)\n",
            "3:  pdays (0.11)\n"
          ],
          "name": "stdout"
        }
      ]
    },
    {
      "cell_type": "code",
      "metadata": {
        "colab": {
          "base_uri": "https://localhost:8080/"
        },
        "id": "ZcMuLnHrSNxN",
        "outputId": "9a5fda2f-5c2e-465b-ce9b-79028c4ac3dc"
      },
      "source": [
        "clf = RandomForestClassifier(max_depth=8, n_estimators=400)\r\n",
        "clf.fit(X_test, y_test.ravel())\r\n",
        "y_pred = clf.predict(X_test)\r\n",
        "F1_score = metrics.f1_score(y_test.ravel(), y_pred) \r\n",
        "print(f'F1 : {F1_score:.2f}')   "
      ],
      "execution_count": 36,
      "outputs": [
        {
          "output_type": "stream",
          "text": [
            "F1 : 0.49\n"
          ],
          "name": "stdout"
        }
      ]
    }
  ]
}