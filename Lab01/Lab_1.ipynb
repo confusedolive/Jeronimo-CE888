{
  "nbformat": 4,
  "nbformat_minor": 0,
  "metadata": {
    "colab": {
      "name": "Copy of Lab_1.ipynb",
      "provenance": [],
      "include_colab_link": true
    },
    "kernelspec": {
      "name": "python3",
      "display_name": "Python 3"
    }
  },
  "cells": [
    {
      "cell_type": "markdown",
      "metadata": {
        "id": "view-in-github",
        "colab_type": "text"
      },
      "source": [
        "<a href=\"https://colab.research.google.com/github/confusedolive/Jeronimo-CE888/blob/main/Lab01/Lab_1.ipynb\" target=\"_parent\"><img src=\"https://colab.research.google.com/assets/colab-badge.svg\" alt=\"Open In Colab\"/></a>"
      ]
    },
    {
      "cell_type": "markdown",
      "metadata": {
        "id": "u9rBYuqkfFZi"
      },
      "source": [
        "## Introduction to Numerical Computing with Numpy and Matplotlib\n",
        "\n",
        "### What is Matplotlib\n",
        "\n",
        "Matplotlib is a Python 2D plotting library which produces publication quality figures in a variety of hardcopy formats and interactive environments across platforms. Matplotlib can be used in Python scripts, the Python and IPython shells, the Jupyter notebook, web application servers, and four graphical user interface toolkits. Matplotlib tries to make easy things easy and hard things possible. You can generate plots, histograms, power spectra, bar charts, errorcharts, scatterplots, etc., with just a few lines of code.\n",
        "![Ref: Javatpoint ](https://static.javatpoint.com/tutorial/matplotlib/images/matplotlib-data-visualization2.png)\n",
        "For more infomration: [Matplotlib Webpage](https://matplotlib.org/)\n",
        "\n",
        "#### Malplotlib Object Model\n",
        "\n",
        "![alt text](https://matplotlib.org/_images/anatomy1.png)"
      ]
    },
    {
      "cell_type": "markdown",
      "metadata": {
        "id": "Q2EQMEEphhQv"
      },
      "source": [
        "#### Matplotlib State's Machine\n",
        "Matplotlib behaves like a state machine. Any command is applied to the current plotting area. "
      ]
    },
    {
      "cell_type": "code",
      "metadata": {
        "id": "OECaZLqAe07m"
      },
      "source": [
        "import matplotlib.pyplot as plt\n",
        "import numpy as np\n",
        "\n",
        "t = np.linspace(0, 2*np.pi, 50)\n",
        "x = np.sin(t)\n",
        "y = np.cos(t)"
      ],
      "execution_count": null,
      "outputs": []
    },
    {
      "cell_type": "code",
      "metadata": {
        "id": "eo8NGcByiCrg",
        "colab": {
          "base_uri": "https://localhost:8080/",
          "height": 282
        },
        "outputId": "f9d9549d-bd43-4bf2-f152-a210dc19982f"
      },
      "source": [
        "# Now create a figure\n",
        "plt.figure()\n",
        "# and plot x inside it\n",
        "plt.plot(x)"
      ],
      "execution_count": null,
      "outputs": [
        {
          "output_type": "execute_result",
          "data": {
            "text/plain": [
              "[<matplotlib.lines.Line2D at 0x7f21abe7beb8>]"
            ]
          },
          "metadata": {
            "tags": []
          },
          "execution_count": 3
        },
        {
          "output_type": "display_data",
          "data": {
            "image/png": "[encoded data removed]",
            "text/plain": [
              "<Figure size 432x288 with 1 Axes>"
            ]
          },
          "metadata": {
            "tags": []
          }
        }
      ]
    },
    {
      "cell_type": "code",
      "metadata": {
        "id": "_zB4dMJLiNaw",
        "colab": {
          "base_uri": "https://localhost:8080/",
          "height": 298
        },
        "outputId": "04264240-38e3-4de0-cd26-eef7c9bb469c"
      },
      "source": [
        "# Now create a new figure\n",
        "plt.figure()\n",
        "# and plot y inside it...\n",
        "plt.plot(y)\n",
        "# Add a title\n",
        "plt.title(\"Cos\")"
      ],
      "execution_count": null,
      "outputs": [
        {
          "output_type": "execute_result",
          "data": {
            "text/plain": [
              "Text(0.5, 1.0, 'Cos')"
            ]
          },
          "metadata": {
            "tags": []
          },
          "execution_count": 7
        },
        {
          "output_type": "display_data",
          "data": {
            "image/png": "[encoded data removed]",
            "text/plain": [
              "<Figure size 432x288 with 1 Axes>"
            ]
          },
          "metadata": {
            "tags": []
          }
        }
      ]
    },
    {
      "cell_type": "markdown",
      "metadata": {
        "id": "EIqiAerCilvv"
      },
      "source": [
        "### Line Plot"
      ]
    },
    {
      "cell_type": "code",
      "metadata": {
        "id": "Ufz8Q830ijqy",
        "colab": {
          "base_uri": "https://localhost:8080/",
          "height": 282
        },
        "outputId": "ad3e5031-0ee3-4659-927d-aa3996109558"
      },
      "source": [
        "x = np.linspace(0, 2*np.pi, 50)\n",
        "y1 = np.sin(x)\n",
        "y2 = np.sin(2*x)\n",
        "plt.figure() # Create figure\n",
        "plt.plot(y1)\n",
        "plt.plot(x, y1)\n",
        "\n",
        "# red dot-dash circle\n",
        "plt.plot(x, y1, 'r')\n",
        "\n",
        "# red marker only circle\n",
        "plt.plot(x, y1, 'r-o')\n",
        "\n",
        "# clear figure then plot 2 curves\n",
        "plt.clf()\n",
        "plt.plot(x, y1, 'g-o', x, y2, 'b-+')\n",
        "plt.legend(['sin(x)','sin(2x)'])\n",
        "\n",
        "\n"
      ],
      "execution_count": null,
      "outputs": [
        {
          "output_type": "execute_result",
          "data": {
            "text/plain": [
              "<matplotlib.legend.Legend at 0x7f21ab59ba90>"
            ]
          },
          "metadata": {
            "tags": []
          },
          "execution_count": 15
        },
        {
          "output_type": "display_data",
          "data": {
            "image/png": "[encoded data removed]",
            "text/plain": [
              "<Figure size 432x288 with 1 Axes>"
            ]
          },
          "metadata": {
            "tags": []
          }
        }
      ]
    },
    {
      "cell_type": "markdown",
      "metadata": {
        "id": "tEqnyiLnj-oX"
      },
      "source": [
        "### Scatter Plot \n"
      ]
    },
    {
      "cell_type": "code",
      "metadata": {
        "id": "E4545t4pj8mo",
        "colab": {
          "base_uri": "https://localhost:8080/",
          "height": 298
        },
        "outputId": "695cf805-f510-4db7-e893-c9b7cf0c76d4"
      },
      "source": [
        "N = 50 # no. of points\n",
        "x = np.linspace(0, 10, N)\n",
        "#print(x)\n",
        "from numpy.random import rand\n",
        "e = rand(N)*5.0 # noise\n",
        "y1 = x + e\n",
        "areas = rand(N)*300\n",
        "plt.scatter(x, y1, s=areas)\n",
        "colors = rand(N)\n",
        "plt.scatter(x, y1, s=areas,c=colors)\n",
        "plt.colorbar()\n",
        "plt.title(\"Random scatter\")\n"
      ],
      "execution_count": null,
      "outputs": [
        {
          "output_type": "execute_result",
          "data": {
            "text/plain": [
              "Text(0.5, 1.0, 'Random scatter')"
            ]
          },
          "metadata": {
            "tags": []
          },
          "execution_count": 19
        },
        {
          "output_type": "display_data",
          "data": {
            "image/png": "[encoded data removed]",
            "text/plain": [
              "<Figure size 432x288 with 2 Axes>"
            ]
          },
          "metadata": {
            "tags": []
          }
        }
      ]
    },
    {
      "cell_type": "markdown",
      "metadata": {
        "id": "eYKeyHYglP_r"
      },
      "source": [
        "### Image Plot: Correlation Plot"
      ]
    },
    {
      "cell_type": "code",
      "metadata": {
        "id": "7mhFfKMOlYb0",
        "colab": {
          "base_uri": "https://localhost:8080/",
          "height": 354
        },
        "outputId": "25daa4a7-3738-409f-e7b5-9785aac9dc60"
      },
      "source": [
        "# Create some data\n",
        "e1 = rand(100)\n",
        "e2 = rand(100)*2\n",
        "e3 = rand(100)*50\n",
        "e4 = rand(100)*100\n",
        "corrmatrix = np.corrcoef([e1, e2, e3, e4])\n",
        "print(corrmatrix)\n",
        "# Plot corr matrix as image\n",
        "plt.imshow(corrmatrix, cmap='GnBu')\n",
        "plt.colorbar()"
      ],
      "execution_count": null,
      "outputs": [
        {
          "output_type": "stream",
          "text": [
            "[[ 1.          0.11927474  0.049266    0.02849791]\n",
            " [ 0.11927474  1.          0.02444701  0.0252238 ]\n",
            " [ 0.049266    0.02444701  1.         -0.19692395]\n",
            " [ 0.02849791  0.0252238  -0.19692395  1.        ]]\n"
          ],
          "name": "stdout"
        },
        {
          "output_type": "execute_result",
          "data": {
            "text/plain": [
              "<matplotlib.colorbar.Colorbar at 0x7f21a889f240>"
            ]
          },
          "metadata": {
            "tags": []
          },
          "execution_count": 22
        },
        {
          "output_type": "display_data",
          "data": {
            "image/png": "[encoded data removed]",
            "text/plain": [
              "<Figure size 432x288 with 2 Axes>"
            ]
          },
          "metadata": {
            "tags": []
          }
        }
      ]
    },
    {
      "cell_type": "markdown",
      "metadata": {
        "id": "dRmo6yZWmkt_"
      },
      "source": [
        "### Multiple plots using subplot"
      ]
    },
    {
      "cell_type": "code",
      "metadata": {
        "id": "Ahcz1LKUmvPr",
        "colab": {
          "base_uri": "https://localhost:8080/",
          "height": 282
        },
        "outputId": "6642723f-c84f-4c6b-d59a-67ab61e1a672"
      },
      "source": [
        "t = np.linspace(0, 2*np.pi)\n",
        "x = np.sin(t)\n",
        "y = np.cos(t)\n",
        "# To divide the plotting area\n",
        "plt.subplot(2, 1, 1)\n",
        "plt.plot(x)\n",
        "# Now activate a new plot\n",
        "# area.\n",
        "plt.subplot(2, 1, 2)\n",
        "plt.plot(y)"
      ],
      "execution_count": null,
      "outputs": [
        {
          "output_type": "execute_result",
          "data": {
            "text/plain": [
              "[<matplotlib.lines.Line2D at 0x7f21a8846390>]"
            ]
          },
          "metadata": {
            "tags": []
          },
          "execution_count": 23
        },
        {
          "output_type": "display_data",
          "data": {
            "image/png": "[encoded data removed]",
            "text/plain": [
              "<Figure size 432x288 with 2 Axes>"
            ]
          },
          "metadata": {
            "tags": []
          }
        }
      ]
    },
    {
      "cell_type": "markdown",
      "metadata": {
        "id": "36ev2RH0nMe2"
      },
      "source": [
        "### Histogram plot"
      ]
    },
    {
      "cell_type": "code",
      "metadata": {
        "id": "lWJfHc4hnK9r",
        "colab": {
          "base_uri": "https://localhost:8080/",
          "height": 350
        },
        "outputId": "94f9d404-076b-4794-d306-09cf403fe7a9"
      },
      "source": [
        "# Create array of data\n",
        "from numpy.random import randint\n",
        "data = randint(10000, size=(10,1000))\n",
        "# Approx norm distribution\n",
        "x = np.sum(data, axis=0)\n",
        "# Set up for stacked plots\n",
        "plt.subplot(2,1,1)\n",
        "plt.hist(x, color='r')\n",
        "# Plot cumulative dist\n",
        "plt.subplot(2,1,2)\n",
        "plt.hist(x, cumulative=True)"
      ],
      "execution_count": null,
      "outputs": [
        {
          "output_type": "execute_result",
          "data": {
            "text/plain": [
              "(array([   7.,   48.,  122.,  298.,  527.,  768.,  913.,  972.,  994.,\n",
              "        1000.]),\n",
              " array([21860. , 27703.1, 33546.2, 39389.3, 45232.4, 51075.5, 56918.6,\n",
              "        62761.7, 68604.8, 74447.9, 80291. ]),\n",
              " <a list of 10 Patch objects>)"
            ]
          },
          "metadata": {
            "tags": []
          },
          "execution_count": 25
        },
        {
          "output_type": "display_data",
          "data": {
            "image/png": "[encoded data removed]",
            "text/plain": [
              "<Figure size 432x288 with 2 Axes>"
            ]
          },
          "metadata": {
            "tags": []
          }
        }
      ]
    },
    {
      "cell_type": "markdown",
      "metadata": {
        "id": "He7rHWDrn3GO"
      },
      "source": [
        "### Legend, Title, and Label Axis"
      ]
    },
    {
      "cell_type": "code",
      "metadata": {
        "id": "Nnn50-1Ln9ef",
        "colab": {
          "base_uri": "https://localhost:8080/",
          "height": 282
        },
        "outputId": "6f76d81c-6b38-4482-ef90-19a373dc8fed"
      },
      "source": [
        "# Add labels in plot command.\n",
        "plt.plot(np.sin(t), label='sin')\n",
        "plt.plot(np.cos(t), label='cos')\n",
        "plt.legend()"
      ],
      "execution_count": null,
      "outputs": [
        {
          "output_type": "execute_result",
          "data": {
            "text/plain": [
              "<matplotlib.legend.Legend at 0x7f21a89e09b0>"
            ]
          },
          "metadata": {
            "tags": []
          },
          "execution_count": 26
        },
        {
          "output_type": "display_data",
          "data": {
            "image/png": "[encoded data removed]",
            "text/plain": [
              "<Figure size 432x288 with 1 Axes>"
            ]
          },
          "metadata": {
            "tags": []
          }
        }
      ]
    },
    {
      "cell_type": "code",
      "metadata": {
        "id": "o2QXAZ4zoI9p",
        "colab": {
          "base_uri": "https://localhost:8080/",
          "height": 312
        },
        "outputId": "4d2f25b8-1f3a-4605-c10a-9a12bcae5655"
      },
      "source": [
        "plt.plot(t, np.sin(t))\n",
        "plt.xlabel('radians')\n",
        "# Keywords set text properties.\n",
        "plt.ylabel('amplitude',fontsize='large')\n",
        "plt.title('Sin(x)')"
      ],
      "execution_count": null,
      "outputs": [
        {
          "output_type": "execute_result",
          "data": {
            "text/plain": [
              "Text(0.5, 1.0, 'Sin(x)')"
            ]
          },
          "metadata": {
            "tags": []
          },
          "execution_count": 27
        },
        {
          "output_type": "display_data",
          "data": {
            "image/png": "[encoded data removed]",
            "text/plain": [
              "<Figure size 432x288 with 1 Axes>"
            ]
          },
          "metadata": {
            "tags": []
          }
        }
      ]
    },
    {
      "cell_type": "markdown",
      "metadata": {
        "id": "yRdzCbrVojNI"
      },
      "source": [
        "#### Other Visualization Libraries: \n",
        "\n",
        "**Seaborn**:  Better looking, high-level, plot-based on matplotlib [Seaborn](https://seaborn.pydata.org/)\n",
        "\n",
        "**Bokeh**: D3 like visulization in web browser [Bokeh](https://github.com/bokeh/bokeh)\n"
      ]
    },
    {
      "cell_type": "markdown",
      "metadata": {
        "id": "DZz7nrjeqBVb"
      },
      "source": [
        "## NumPy Array\n",
        "\n",
        "Numpy is the core library for scientific computing in Python. It provides a high-performance multidimensional array object, and tools for working with these arrays. A numpy array is a grid of values, all of the same type, and is indexed by a tuple of nonnegative integers. The number of dimensions is the rank of the array; the shape of an array is a tuple of integers giving the size of the array along each dimension.\n",
        "\n",
        "The Python core library provided Lists. A list is the Python equivalent of an array, but is resizeable and can contain elements of different types.\n",
        "\n",
        "**Why NumPy array**?\n",
        "\n",
        "Size - Numpy data structures take up less space\n",
        "Performance - they have a need for speed and are faster than lists\n",
        "Functionality - SciPy and NumPy have optimized functions such as linear algebra operations built in.\n",
        "\n",
        "\n",
        "#### Introducing NumPy Array\n",
        "\n",
        "\n"
      ]
    },
    {
      "cell_type": "code",
      "metadata": {
        "id": "APvlYZXzwdbC",
        "colab": {
          "base_uri": "https://localhost:8080/",
          "height": 34
        },
        "outputId": "f458d74c-e210-4533-8649-bcc5be03e8a7"
      },
      "source": [
        "import numpy as np\n",
        "\n",
        "# Simple array creation\n",
        "a = np.array([0, 1, 2, 3, 4, 5])\n",
        "print(a)"
      ],
      "execution_count": null,
      "outputs": [
        {
          "output_type": "stream",
          "text": [
            "[0 1 2 3 4 5]\n"
          ],
          "name": "stdout"
        }
      ]
    },
    {
      "cell_type": "code",
      "metadata": {
        "id": "nNo9IyREwnDR",
        "colab": {
          "base_uri": "https://localhost:8080/",
          "height": 51
        },
        "outputId": "c8071bd8-acee-43d5-a0f6-6d48d61a3cba"
      },
      "source": [
        "# Checking the type and type of elements\n",
        "print(type(a))\n",
        "print(a.dtype)"
      ],
      "execution_count": null,
      "outputs": [
        {
          "output_type": "stream",
          "text": [
            "<class 'numpy.ndarray'>\n",
            "int64\n"
          ],
          "name": "stdout"
        }
      ]
    },
    {
      "cell_type": "code",
      "metadata": {
        "id": "V_uPUZC-xArO",
        "colab": {
          "base_uri": "https://localhost:8080/",
          "height": 51
        },
        "outputId": "f1f82279-cfa1-47f3-d185-63d67d1c32fa"
      },
      "source": [
        "# Check dimensions and shape\n",
        "print(a.ndim)\n",
        "print(a.shape)"
      ],
      "execution_count": null,
      "outputs": [
        {
          "output_type": "stream",
          "text": [
            "1\n",
            "(6,)\n"
          ],
          "name": "stdout"
        }
      ]
    },
    {
      "cell_type": "code",
      "metadata": {
        "id": "glOQteJPxL1q",
        "colab": {
          "base_uri": "https://localhost:8080/",
          "height": 51
        },
        "outputId": "2112728e-0373-44fe-8f55-26b3dafbb49c"
      },
      "source": [
        "# Check Bytes per element and Bytes of memory use\n",
        "print(a.itemsize)\n",
        "print(a.nbytes)"
      ],
      "execution_count": null,
      "outputs": [
        {
          "output_type": "stream",
          "text": [
            "8\n",
            "48\n"
          ],
          "name": "stdout"
        }
      ]
    },
    {
      "cell_type": "markdown",
      "metadata": {
        "id": "O7xzeIWdxy-9"
      },
      "source": [
        "#### Array Operations"
      ]
    },
    {
      "cell_type": "code",
      "metadata": {
        "id": "N_aWdYftx1iL",
        "colab": {
          "base_uri": "https://localhost:8080/",
          "height": 85
        },
        "outputId": "72613dde-7e00-47d3-9321-2e86c994f59f"
      },
      "source": [
        "a = np.array([1, 2, 3, 4])\n",
        "b = np.array([2, 3, 4, 5])\n",
        "\n",
        "print(a*b)\n",
        "print(a**b)\n",
        "print(a+b)\n",
        "print(a/b)"
      ],
      "execution_count": null,
      "outputs": [
        {
          "output_type": "stream",
          "text": [
            "[ 2  6 12 20]\n",
            "[   1    8   81 1024]\n",
            "[3 5 7 9]\n",
            "[0.5        0.66666667 0.75       0.8       ]\n"
          ],
          "name": "stdout"
        }
      ]
    },
    {
      "cell_type": "code",
      "metadata": {
        "id": "_uA3AT0RyjPv",
        "colab": {
          "base_uri": "https://localhost:8080/",
          "height": 68
        },
        "outputId": "111beb24-085f-457d-a4fd-7785db02263d"
      },
      "source": [
        "# Setting array elements\n",
        "print(a[0])\n",
        "a[0] = 10\n",
        "print(a[0])\n",
        "print(a)"
      ],
      "execution_count": null,
      "outputs": [
        {
          "output_type": "stream",
          "text": [
            "10\n",
            "10\n",
            "[10  2  3  4]\n"
          ],
          "name": "stdout"
        }
      ]
    },
    {
      "cell_type": "code",
      "metadata": {
        "id": "a94VoeIny30D",
        "colab": {
          "base_uri": "https://localhost:8080/",
          "height": 51
        },
        "outputId": "4fc334e1-ad5f-4339-b5cc-33a4b5e9beff"
      },
      "source": [
        "# Multi-dimensional array\n",
        "\n",
        "a = np.array([[ 0, 1, 2, 3],\n",
        "              [10,11,12,13]])\n",
        "print(a)"
      ],
      "execution_count": null,
      "outputs": [
        {
          "output_type": "stream",
          "text": [
            "[[ 0  1  2  3]\n",
            " [10 11 12 13]]\n"
          ],
          "name": "stdout"
        }
      ]
    },
    {
      "cell_type": "code",
      "metadata": {
        "id": "lmCwIR1jy-1Q",
        "colab": {
          "base_uri": "https://localhost:8080/",
          "height": 68
        },
        "outputId": "93e915c7-0db4-4135-e62e-b540b3397dbc"
      },
      "source": [
        "print(a.shape)\n",
        "print(a.size)\n",
        "print(a.ndim)"
      ],
      "execution_count": null,
      "outputs": [
        {
          "output_type": "stream",
          "text": [
            "(2, 4)\n",
            "8\n",
            "2\n"
          ],
          "name": "stdout"
        }
      ]
    },
    {
      "cell_type": "code",
      "metadata": {
        "id": "a-xnWSjVzP0z",
        "colab": {
          "base_uri": "https://localhost:8080/",
          "height": 51
        },
        "outputId": "fafe6b6c-4f83-4150-a5e0-64c699c9adce"
      },
      "source": [
        "# Get and set elements in Multi-dimensional array\n",
        "print(a[1, 3])\n",
        "a[1, 3] = -1\n",
        "print(a[1, 3])"
      ],
      "execution_count": null,
      "outputs": [
        {
          "output_type": "stream",
          "text": [
            "13\n",
            "-1\n"
          ],
          "name": "stdout"
        }
      ]
    },
    {
      "cell_type": "code",
      "metadata": {
        "id": "ICn13beyzhLW",
        "colab": {
          "base_uri": "https://localhost:8080/",
          "height": 34
        },
        "outputId": "0375bf9d-4e3c-4c4d-c758-a2df6b332b38"
      },
      "source": [
        "print(a[1])"
      ],
      "execution_count": null,
      "outputs": [
        {
          "output_type": "stream",
          "text": [
            "[10 11 12 -1]\n"
          ],
          "name": "stdout"
        }
      ]
    },
    {
      "cell_type": "markdown",
      "metadata": {
        "id": "DMk5FPVD1CK0"
      },
      "source": [
        "#### Slicing array\n",
        "\n",
        "![Slicing array](https://scipy-lectures.org/_images/numpy_indexing.png)"
      ]
    },
    {
      "cell_type": "code",
      "metadata": {
        "id": "s_F3padj1Pcp",
        "colab": {
          "base_uri": "https://localhost:8080/",
          "height": 153
        },
        "outputId": "922da8ef-037a-4ceb-a866-53dae77be7cc"
      },
      "source": [
        "# Slicing array\n",
        "print(a)\n",
        "\n",
        "# print all row and 3rd column\n",
        "print(a[:,2])\n",
        "\n",
        "# print first row and all column \n",
        "print(a[0,:])\n",
        "\n",
        "# negative indices work also\n",
        "print(a)\n",
        "print(a[:,:-2])"
      ],
      "execution_count": null,
      "outputs": [
        {
          "output_type": "stream",
          "text": [
            "[[ 0  1  2  3]\n",
            " [10 11 12 -1]]\n",
            "[ 2 12]\n",
            "[0 1 2 3]\n",
            "[[ 0  1  2  3]\n",
            " [10 11 12 -1]]\n",
            "[[ 0  1]\n",
            " [10 11]]\n"
          ],
          "name": "stdout"
        }
      ]
    }
  ]
}