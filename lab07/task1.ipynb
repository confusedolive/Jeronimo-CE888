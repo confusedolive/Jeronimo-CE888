{
  "nbformat": 4,
  "nbformat_minor": 0,
  "metadata": {
    "kernelspec": {
      "display_name": "Python 3",
      "language": "python",
      "name": "python3"
    },
    "language_info": {
      "codemirror_mode": {
        "name": "ipython",
        "version": 3
      },
      "file_extension": ".py",
      "mimetype": "text/x-python",
      "name": "python",
      "nbconvert_exporter": "python",
      "pygments_lexer": "ipython3",
      "version": "3.6.5"
    },
    "colab": {
      "name": "Copy of CNN.ipynb",
      "provenance": [],
      "include_colab_link": true
    }
  },
  "cells": [
    {
      "cell_type": "markdown",
      "metadata": {
        "id": "view-in-github",
        "colab_type": "text"
      },
      "source": [
        "<a href=\"https://colab.research.google.com/github/confusedolive/Jeronimo-CE888/blob/main/lab07/task1.ipynb\" target=\"_parent\"><img src=\"https://colab.research.google.com/assets/colab-badge.svg\" alt=\"Open In Colab\"/></a>"
      ]
    },
    {
      "cell_type": "markdown",
      "metadata": {
        "id": "vwRGEQbzGpYQ"
      },
      "source": [
        "# First CNN model for MNIST Dataset\n",
        "\n",
        "* MNIST Dataset is ''Hello World'' of Image Recognition\n",
        "\n",
        "* [Dataset HomePage](http://yann.lecun.com/exdb/mnist/)\n",
        "\n",
        "* History of MNIST Dataset [Watch here](https://www.youtube.com/watch?v=oKzNUGz21JM)\n",
        "\n",
        "\n",
        "---\n",
        "The MNIST database of handwritten digits, available from this page, has a training set of 60,000 examples, and a \n",
        "test set of 10,000 examples. It is a subset of a larger set available from NIST. The digits have been size-normalized and centered in a fixed-size image.\n",
        "\n",
        "![Kitten](https://camo.githubusercontent.com/01c057a753e92a9bc70b8c45d62b295431851c09cffadf53106fc0aea7e2843f/687474703a2f2f692e7974696d672e636f6d2f76692f3051493378675875422d512f687164656661756c742e6a7067)\n"
      ]
    },
    {
      "cell_type": "markdown",
      "metadata": {
        "id": "PhmJOHCpJD_w"
      },
      "source": [
        "# Let's start building our first CNN Model"
      ]
    },
    {
      "cell_type": "code",
      "metadata": {
        "id": "lSyHCSV7jymI"
      },
      "source": [
        "from keras import layers\n",
        "from keras import models"
      ],
      "execution_count": 1,
      "outputs": []
    },
    {
      "cell_type": "markdown",
      "metadata": {
        "id": "oWNzCYUUjymN"
      },
      "source": [
        "Importantly, a convnet takes as input tensors of shape (image_height, image_width,\n",
        "image_channels) (not including the batch dimension). In this case, we’ll configure\n",
        "the convnet to process inputs of size (28, 28, 1), which is the format of MNIST\n",
        "images. We’ll do this by passing the argument input_shape=(28, 28, 1) to the first\n",
        "layer."
      ]
    },
    {
      "cell_type": "markdown",
      "metadata": {
        "id": "dM4JLEpwjymN"
      },
      "source": [
        "#### Instantiating a small convnet"
      ]
    },
    {
      "cell_type": "code",
      "metadata": {
        "id": "p-OnpExGjymO",
        "outputId": "8392b0db-f0be-4f83-e019-0dffd4a5648c"
      },
      "source": [
        "model = models.Sequential()\n",
        "model.add(layers.Conv2D(32, (3, 3), activation='relu', input_shape=(28, 28, 1)))\n",
        "model.add(layers.MaxPooling2D((2, 2)))\n",
        "model.add(layers.Conv2D(64, (3, 3), activation='relu'))\n",
        "model.add(layers.MaxPooling2D((2, 2)))\n",
        "model.add(layers.Conv2D(64, (3, 3), activation='relu'))\n",
        "model.summary()"
      ],
      "execution_count": null,
      "outputs": [
        {
          "output_type": "stream",
          "text": [
            "_________________________________________________________________\n",
            "Layer (type)                 Output Shape              Param #   \n",
            "=================================================================\n",
            "conv2d_1 (Conv2D)            (None, 26, 26, 32)        320       \n",
            "_________________________________________________________________\n",
            "max_pooling2d_1 (MaxPooling2 (None, 13, 13, 32)        0         \n",
            "_________________________________________________________________\n",
            "conv2d_2 (Conv2D)            (None, 11, 11, 64)        18496     \n",
            "_________________________________________________________________\n",
            "max_pooling2d_2 (MaxPooling2 (None, 5, 5, 64)          0         \n",
            "_________________________________________________________________\n",
            "conv2d_3 (Conv2D)            (None, 3, 3, 64)          36928     \n",
            "=================================================================\n",
            "Total params: 55,744\n",
            "Trainable params: 55,744\n",
            "Non-trainable params: 0\n",
            "_________________________________________________________________\n"
          ],
          "name": "stdout"
        }
      ]
    },
    {
      "cell_type": "markdown",
      "metadata": {
        "id": "7gcVG3xkjymR"
      },
      "source": [
        "#### Adding a classifier on top of the convnet"
      ]
    },
    {
      "cell_type": "code",
      "metadata": {
        "id": "C2DfhDJYjymR",
        "outputId": "1b8f9f3b-a6f9-4c22-ed9b-71f9d50a39ff"
      },
      "source": [
        "model.add(layers.Flatten())\n",
        "model.add(layers.Dense(64, activation='relu'))\n",
        "model.add(layers.Dense(10, activation='softmax'))\n",
        "model.summary()"
      ],
      "execution_count": null,
      "outputs": [
        {
          "output_type": "stream",
          "text": [
            "_________________________________________________________________\n",
            "Layer (type)                 Output Shape              Param #   \n",
            "=================================================================\n",
            "conv2d_1 (Conv2D)            (None, 26, 26, 32)        320       \n",
            "_________________________________________________________________\n",
            "max_pooling2d_1 (MaxPooling2 (None, 13, 13, 32)        0         \n",
            "_________________________________________________________________\n",
            "conv2d_2 (Conv2D)            (None, 11, 11, 64)        18496     \n",
            "_________________________________________________________________\n",
            "max_pooling2d_2 (MaxPooling2 (None, 5, 5, 64)          0         \n",
            "_________________________________________________________________\n",
            "conv2d_3 (Conv2D)            (None, 3, 3, 64)          36928     \n",
            "_________________________________________________________________\n",
            "flatten_1 (Flatten)          (None, 576)               0         \n",
            "_________________________________________________________________\n",
            "dense_1 (Dense)              (None, 64)                36928     \n",
            "_________________________________________________________________\n",
            "dense_2 (Dense)              (None, 10)                650       \n",
            "=================================================================\n",
            "Total params: 93,322\n",
            "Trainable params: 93,322\n",
            "Non-trainable params: 0\n",
            "_________________________________________________________________\n"
          ],
          "name": "stdout"
        }
      ]
    },
    {
      "cell_type": "markdown",
      "metadata": {
        "id": "NOKVF4nKjymU"
      },
      "source": [
        "### Training the convnet on MNIST images"
      ]
    },
    {
      "cell_type": "code",
      "metadata": {
        "id": "oIcgUbbUjymV"
      },
      "source": [
        "from keras.datasets import mnist\n",
        "from keras.utils import to_categorical"
      ],
      "execution_count": 2,
      "outputs": []
    },
    {
      "cell_type": "markdown",
      "metadata": {
        "id": "ZnJ2Pfs_jymX"
      },
      "source": [
        "#### Load Data"
      ]
    },
    {
      "cell_type": "code",
      "metadata": {
        "id": "JpHGHE9MjymY"
      },
      "source": [
        "(train_images, train_labels), (test_images, test_labels) = mnist.load_data()\n",
        "train_images = train_images.reshape((60000, 28, 28, 1))\n",
        "train_images = train_images.astype('float32') / 255\n",
        "test_images = test_images.reshape((10000, 28, 28, 1))\n",
        "test_images = test_images.astype('float32') / 255\n",
        "train_labels = to_categorical(train_labels)\n",
        "test_labels = to_categorical(test_labels)"
      ],
      "execution_count": 7,
      "outputs": []
    },
    {
      "cell_type": "markdown",
      "metadata": {
        "id": "4HoTLrfSjymd"
      },
      "source": [
        "#### compile and fit model "
      ]
    },
    {
      "cell_type": "code",
      "metadata": {
        "id": "i23FDtC9jyme",
        "outputId": "47c9f2ec-c8e6-462d-f8e5-ad1a339e09e3"
      },
      "source": [
        "model.compile(optimizer='rmsprop', \n",
        "              loss='categorical_crossentropy',\n",
        "              metrics=['accuracy'])\n",
        "history = model.fit(train_images, train_labels, epochs=5, batch_size=64, validation_split=0.2)"
      ],
      "execution_count": null,
      "outputs": [
        {
          "output_type": "stream",
          "text": [
            "Train on 48000 samples, validate on 12000 samples\n",
            "Epoch 1/5\n",
            "48000/48000 [==============================] - 15s - loss: 0.0080 - acc: 0.9975 - val_loss: 0.0109 - val_acc: 0.9972\n",
            "Epoch 2/5\n",
            "48000/48000 [==============================] - 15s - loss: 0.0051 - acc: 0.9984 - val_loss: 0.0102 - val_acc: 0.9972\n",
            "Epoch 3/5\n",
            "48000/48000 [==============================] - 15s - loss: 0.0053 - acc: 0.9985 - val_loss: 0.0092 - val_acc: 0.9978\n",
            "Epoch 4/5\n",
            "48000/48000 [==============================] - 15s - loss: 0.0037 - acc: 0.9989 - val_loss: 0.0143 - val_acc: 0.9970\n",
            "Epoch 5/5\n",
            "48000/48000 [==============================] - 15s - loss: 0.0042 - acc: 0.9987 - val_loss: 0.0194 - val_acc: 0.9963\n"
          ],
          "name": "stdout"
        }
      ]
    },
    {
      "cell_type": "markdown",
      "metadata": {
        "id": "9zU8iI5ojymg"
      },
      "source": [
        "#### evaluate model"
      ]
    },
    {
      "cell_type": "code",
      "metadata": {
        "id": "Z3VeaL1Njymh",
        "outputId": "63082eae-02a9-40eb-e233-6c27ee8a8b27"
      },
      "source": [
        "test_loss, test_acc = model.evaluate(test_images, test_labels)\n",
        "test_acc"
      ],
      "execution_count": null,
      "outputs": [
        {
          "output_type": "stream",
          "text": [
            " 9664/10000 [===========================>..] - ETA: 0s"
          ],
          "name": "stdout"
        },
        {
          "output_type": "execute_result",
          "data": {
            "text/plain": [
              "0.9921"
            ]
          },
          "metadata": {
            "tags": []
          },
          "execution_count": 11
        }
      ]
    },
    {
      "cell_type": "code",
      "metadata": {
        "id": "wXNZOY7Sjymj",
        "outputId": "12f44f5c-a566-44d5-df4a-0ea359c7f413"
      },
      "source": [
        "import matplotlib.pyplot as plt\n",
        "\n",
        "acc = history.history['acc']\n",
        "val_acc = history.history['val_acc']\n",
        "loss = history.history['loss']\n",
        "val_loss = history.history['val_loss']\n",
        "\n",
        "epochs = range(1, len(acc) + 1)\n",
        "\n",
        "plt.plot(epochs, acc, 'bo', label='Training acc')\n",
        "plt.plot(epochs, val_acc, 'b', label='Validation acc')\n",
        "plt.title('Training and validation accuracy')\n",
        "plt.legend()\n",
        "\n",
        "plt.figure()\n",
        "\n",
        "plt.plot(epochs, loss, 'bo', label='Training loss')\n",
        "plt.plot(epochs, val_loss, 'b', label='Validation loss')\n",
        "plt.title('Training and validation loss')\n",
        "plt.legend()\n",
        "\n",
        "plt.show()"
      ],
      "execution_count": null,
      "outputs": [
        {
          "output_type": "display_data",
          "data": {
            "image/png": "[encoded data removed]",
            "text/plain": [
              "<Figure size 432x288 with 1 Axes>"
            ]
          },
          "metadata": {
            "tags": []
          }
        },
        {
          "output_type": "display_data",
          "data": {
            "image/png": "[encoded data removed]",
            "text/plain": [
              "<Figure size 432x288 with 1 Axes>"
            ]
          },
          "metadata": {
            "tags": []
          }
        }
      ]
    },
    {
      "cell_type": "markdown",
      "metadata": {
        "id": "dsQMc0Iojyml"
      },
      "source": [
        "## Task 1\n",
        "\n",
        "Change the activation function and other parameters such as optimizer to see the effect on the network and it's performance. If possible create a grid search. "
      ]
    },
    {
      "cell_type": "code",
      "metadata": {
        "id": "owJ-29BrJXNa",
        "colab": {
          "base_uri": "https://localhost:8080/"
        },
        "outputId": "34913f41-21a2-4606-99b2-2ef7b7f939b3"
      },
      "source": [
        "from tensorflow.keras.wrappers.scikit_learn import KerasClassifier\n",
        "from tensorflow.keras.callbacks import EarlyStopping\n",
        "from sklearn.model_selection import GridSearchCV\n",
        "\n",
        "def get_model(act='relu', opt='rmsprop'):\n",
        "  '''Returns a cnn model with parameters:\n",
        "      act = activation function to be evaluated for hidden/input layers\n",
        "      opt = optimzer to be evaluated '''\n",
        "  model = models.Sequential()\n",
        "  model.add(layers.Conv2D(32, (3, 3), activation=act, input_shape=(28, 28, 1)))\n",
        "  model.add(layers.MaxPooling2D((2, 2)))\n",
        "\n",
        "  model.add(layers.Conv2D(64, (3, 3), activation=act))\n",
        "  model.add(layers.MaxPooling2D((2, 2)))\n",
        "  \n",
        "  model.add(layers.Conv2D(64, (3, 3), activation=act))\n",
        "  model.add(layers.Flatten())\n",
        "  \n",
        "  model.add(layers.Dense(64, activation=act))\n",
        "  model.add(layers.Dense(10, activation='softmax'))\n",
        "\n",
        "  model.compile(optimizer=opt, \n",
        "              loss='categorical_crossentropy',\n",
        "              metrics=['accuracy'])\n",
        "  \n",
        "  return model\n",
        "\n",
        "#Set of parameters to evaluate, 3 activation functions and 3 optimizers\n",
        "params = {'act':  ['relu', 'tanh', 'linear'],\n",
        "          'opt' : ['rmsprop', 'adam', 'sgd']}\n",
        "\n",
        "#Uses Kerasclassifier wrapper to build a model object to fit to SKlearns GridSarchCV\n",
        "model = KerasClassifier(build_fn=get_model, epochs=5, batch_size=64,\n",
        "                        validation_split=0.2)\n",
        "\n",
        "\n",
        "grid = GridSearchCV(model, params, cv=3, n_jobs=1)\n",
        "results = grid.fit(train_images, train_labels)\n",
        "\n",
        "print(f'Optimal accuracy results: {results.best_score_} with parameters: {results.best_params_} ')\n",
        "\n",
        "#print the results of all tested optimizers and activation functions\n",
        "means = results.cv_results_['mean_test_score']\n",
        "params = results.cv_results_['params']\n",
        "for x, y in zip(means,params):\n",
        "  print(f'{params} gave {x}')"
      ],
      "execution_count": 10,
      "outputs": [
        {
          "output_type": "stream",
          "text": [
            "Epoch 1/5\n",
            "500/500 [==============================] - 31s 61ms/step - loss: 0.5959 - accuracy: 0.8078 - val_loss: 0.0729 - val_accuracy: 0.9771\n",
            "Epoch 2/5\n",
            "500/500 [==============================] - 31s 61ms/step - loss: 0.0757 - accuracy: 0.9764 - val_loss: 0.0624 - val_accuracy: 0.9821\n",
            "Epoch 3/5\n",
            "500/500 [==============================] - 31s 61ms/step - loss: 0.0494 - accuracy: 0.9845 - val_loss: 0.0513 - val_accuracy: 0.9847\n",
            "Epoch 4/5\n",
            "500/500 [==============================] - 31s 62ms/step - loss: 0.0326 - accuracy: 0.9895 - val_loss: 0.0579 - val_accuracy: 0.9862\n",
            "Epoch 5/5\n",
            "500/500 [==============================] - 31s 62ms/step - loss: 0.0242 - accuracy: 0.9922 - val_loss: 0.0570 - val_accuracy: 0.9861\n",
            "313/313 [==============================] - 6s 17ms/step - loss: 0.0507 - accuracy: 0.9851\n",
            "Epoch 1/5\n",
            "500/500 [==============================] - 32s 62ms/step - loss: 0.5538 - accuracy: 0.8242 - val_loss: 0.0917 - val_accuracy: 0.9705\n",
            "Epoch 2/5\n",
            "500/500 [==============================] - 31s 61ms/step - loss: 0.0767 - accuracy: 0.9755 - val_loss: 0.0509 - val_accuracy: 0.9849\n",
            "Epoch 3/5\n",
            "500/500 [==============================] - 31s 61ms/step - loss: 0.0448 - accuracy: 0.9860 - val_loss: 0.0605 - val_accuracy: 0.9839\n",
            "Epoch 4/5\n",
            "500/500 [==============================] - 31s 62ms/step - loss: 0.0315 - accuracy: 0.9904 - val_loss: 0.0434 - val_accuracy: 0.9885\n",
            "Epoch 5/5\n",
            "500/500 [==============================] - 31s 61ms/step - loss: 0.0208 - accuracy: 0.9925 - val_loss: 0.0401 - val_accuracy: 0.9894\n",
            "313/313 [==============================] - 6s 18ms/step - loss: 0.0385 - accuracy: 0.9889\n",
            "Epoch 1/5\n",
            "500/500 [==============================] - 32s 63ms/step - loss: 0.5742 - accuracy: 0.8103 - val_loss: 0.1517 - val_accuracy: 0.9540\n",
            "Epoch 2/5\n",
            "500/500 [==============================] - 31s 61ms/step - loss: 0.0778 - accuracy: 0.9752 - val_loss: 0.0642 - val_accuracy: 0.9797\n",
            "Epoch 3/5\n",
            "500/500 [==============================] - 31s 62ms/step - loss: 0.0458 - accuracy: 0.9862 - val_loss: 0.0626 - val_accuracy: 0.9816\n",
            "Epoch 4/5\n",
            "500/500 [==============================] - 31s 62ms/step - loss: 0.0341 - accuracy: 0.9894 - val_loss: 0.0491 - val_accuracy: 0.9854\n",
            "Epoch 5/5\n",
            "500/500 [==============================] - 31s 62ms/step - loss: 0.0230 - accuracy: 0.9921 - val_loss: 0.0424 - val_accuracy: 0.9896\n",
            "313/313 [==============================] - 6s 17ms/step - loss: 0.0436 - accuracy: 0.9879\n",
            "Epoch 1/5\n",
            "500/500 [==============================] - 32s 62ms/step - loss: 0.6081 - accuracy: 0.8190 - val_loss: 0.0817 - val_accuracy: 0.9776\n",
            "Epoch 2/5\n",
            "500/500 [==============================] - 30s 61ms/step - loss: 0.0773 - accuracy: 0.9766 - val_loss: 0.0686 - val_accuracy: 0.9805\n",
            "Epoch 3/5\n",
            "500/500 [==============================] - 30s 60ms/step - loss: 0.0520 - accuracy: 0.9836 - val_loss: 0.0467 - val_accuracy: 0.9858\n",
            "Epoch 4/5\n",
            "500/500 [==============================] - 30s 60ms/step - loss: 0.0381 - accuracy: 0.9883 - val_loss: 0.0531 - val_accuracy: 0.9849\n",
            "Epoch 5/5\n",
            "500/500 [==============================] - 31s 61ms/step - loss: 0.0286 - accuracy: 0.9910 - val_loss: 0.0422 - val_accuracy: 0.9880\n",
            "313/313 [==============================] - 6s 18ms/step - loss: 0.0386 - accuracy: 0.9891\n",
            "Epoch 1/5\n",
            "500/500 [==============================] - 31s 61ms/step - loss: 0.6262 - accuracy: 0.8056 - val_loss: 0.0828 - val_accuracy: 0.9747\n",
            "Epoch 2/5\n",
            "500/500 [==============================] - 29s 58ms/step - loss: 0.0836 - accuracy: 0.9727 - val_loss: 0.0602 - val_accuracy: 0.9843\n",
            "Epoch 3/5\n",
            "500/500 [==============================] - 30s 59ms/step - loss: 0.0475 - accuracy: 0.9846 - val_loss: 0.0467 - val_accuracy: 0.9847\n",
            "Epoch 4/5\n",
            "500/500 [==============================] - 30s 60ms/step - loss: 0.0402 - accuracy: 0.9873 - val_loss: 0.0438 - val_accuracy: 0.9865\n",
            "Epoch 5/5\n",
            "500/500 [==============================] - 30s 61ms/step - loss: 0.0304 - accuracy: 0.9902 - val_loss: 0.0508 - val_accuracy: 0.9854\n",
            "313/313 [==============================] - 6s 17ms/step - loss: 0.0545 - accuracy: 0.9838\n",
            "Epoch 1/5\n",
            "500/500 [==============================] - 31s 61ms/step - loss: 0.6197 - accuracy: 0.8161 - val_loss: 0.1169 - val_accuracy: 0.9654\n",
            "Epoch 2/5\n",
            "500/500 [==============================] - 30s 60ms/step - loss: 0.0762 - accuracy: 0.9765 - val_loss: 0.0642 - val_accuracy: 0.9809\n",
            "Epoch 3/5\n",
            "500/500 [==============================] - 30s 60ms/step - loss: 0.0479 - accuracy: 0.9844 - val_loss: 0.0607 - val_accuracy: 0.9831\n",
            "Epoch 4/5\n",
            "500/500 [==============================] - 29s 58ms/step - loss: 0.0352 - accuracy: 0.9882 - val_loss: 0.0504 - val_accuracy: 0.9852\n",
            "Epoch 5/5\n",
            "500/500 [==============================] - 30s 61ms/step - loss: 0.0248 - accuracy: 0.9921 - val_loss: 0.0528 - val_accuracy: 0.9830\n",
            "313/313 [==============================] - 6s 18ms/step - loss: 0.0538 - accuracy: 0.9839\n",
            "Epoch 1/5\n",
            "500/500 [==============================] - 31s 61ms/step - loss: 2.0270 - accuracy: 0.3961 - val_loss: 0.4487 - val_accuracy: 0.8624\n",
            "Epoch 2/5\n",
            "500/500 [==============================] - 31s 61ms/step - loss: 0.4365 - accuracy: 0.8693 - val_loss: 0.2572 - val_accuracy: 0.9202\n",
            "Epoch 3/5\n",
            "500/500 [==============================] - 31s 61ms/step - loss: 0.2636 - accuracy: 0.9202 - val_loss: 0.2003 - val_accuracy: 0.9390\n",
            "Epoch 4/5\n",
            "500/500 [==============================] - 29s 58ms/step - loss: 0.1914 - accuracy: 0.9416 - val_loss: 0.1479 - val_accuracy: 0.9557\n",
            "Epoch 5/5\n",
            "500/500 [==============================] - 30s 60ms/step - loss: 0.1582 - accuracy: 0.9523 - val_loss: 0.1268 - val_accuracy: 0.9622\n",
            "313/313 [==============================] - 6s 18ms/step - loss: 0.1455 - accuracy: 0.9563\n",
            "Epoch 1/5\n",
            "500/500 [==============================] - 30s 60ms/step - loss: 1.8923 - accuracy: 0.3939 - val_loss: 0.4567 - val_accuracy: 0.8526\n",
            "Epoch 2/5\n",
            "500/500 [==============================] - 29s 58ms/step - loss: 0.3964 - accuracy: 0.8755 - val_loss: 0.2553 - val_accuracy: 0.9233\n",
            "Epoch 3/5\n",
            "500/500 [==============================] - 29s 59ms/step - loss: 0.2526 - accuracy: 0.9217 - val_loss: 0.1867 - val_accuracy: 0.9459\n",
            "Epoch 4/5\n",
            "500/500 [==============================] - 29s 58ms/step - loss: 0.1941 - accuracy: 0.9417 - val_loss: 0.1725 - val_accuracy: 0.9473\n",
            "Epoch 5/5\n",
            "500/500 [==============================] - 29s 59ms/step - loss: 0.1487 - accuracy: 0.9550 - val_loss: 0.1271 - val_accuracy: 0.9645\n",
            "313/313 [==============================] - 6s 17ms/step - loss: 0.1387 - accuracy: 0.9576\n",
            "Epoch 1/5\n",
            "500/500 [==============================] - 30s 59ms/step - loss: 1.8097 - accuracy: 0.4991 - val_loss: 0.4174 - val_accuracy: 0.8760\n",
            "Epoch 2/5\n",
            "500/500 [==============================] - 29s 57ms/step - loss: 0.3473 - accuracy: 0.8971 - val_loss: 0.2553 - val_accuracy: 0.9175\n",
            "Epoch 3/5\n",
            "500/500 [==============================] - 29s 57ms/step - loss: 0.2252 - accuracy: 0.9316 - val_loss: 0.1838 - val_accuracy: 0.9449\n",
            "Epoch 4/5\n",
            "500/500 [==============================] - 29s 58ms/step - loss: 0.1609 - accuracy: 0.9525 - val_loss: 0.1495 - val_accuracy: 0.9517\n",
            "Epoch 5/5\n",
            "500/500 [==============================] - 29s 58ms/step - loss: 0.1384 - accuracy: 0.9596 - val_loss: 0.1332 - val_accuracy: 0.9578\n",
            "313/313 [==============================] - 5s 16ms/step - loss: 0.1383 - accuracy: 0.9582\n",
            "Epoch 1/5\n",
            "500/500 [==============================] - 31s 60ms/step - loss: 0.4635 - accuracy: 0.8604 - val_loss: 0.0770 - val_accuracy: 0.9784\n",
            "Epoch 2/5\n",
            "500/500 [==============================] - 30s 60ms/step - loss: 0.0743 - accuracy: 0.9772 - val_loss: 0.0710 - val_accuracy: 0.9800\n",
            "Epoch 3/5\n",
            "500/500 [==============================] - 30s 60ms/step - loss: 0.0461 - accuracy: 0.9857 - val_loss: 0.0542 - val_accuracy: 0.9850\n",
            "Epoch 4/5\n",
            "500/500 [==============================] - 31s 61ms/step - loss: 0.0311 - accuracy: 0.9906 - val_loss: 0.0466 - val_accuracy: 0.9861\n",
            "Epoch 5/5\n",
            "500/500 [==============================] - 30s 59ms/step - loss: 0.0226 - accuracy: 0.9934 - val_loss: 0.0489 - val_accuracy: 0.9858\n",
            "313/313 [==============================] - 5s 17ms/step - loss: 0.0491 - accuracy: 0.9849\n",
            "Epoch 1/5\n",
            "500/500 [==============================] - 31s 61ms/step - loss: 0.4299 - accuracy: 0.8786 - val_loss: 0.0930 - val_accuracy: 0.9719\n",
            "Epoch 2/5\n",
            "500/500 [==============================] - 30s 61ms/step - loss: 0.0699 - accuracy: 0.9789 - val_loss: 0.0630 - val_accuracy: 0.9824\n",
            "Epoch 3/5\n",
            "500/500 [==============================] - 30s 60ms/step - loss: 0.0402 - accuracy: 0.9883 - val_loss: 0.0550 - val_accuracy: 0.9849\n",
            "Epoch 4/5\n",
            "500/500 [==============================] - 30s 60ms/step - loss: 0.0280 - accuracy: 0.9918 - val_loss: 0.0542 - val_accuracy: 0.9843\n",
            "Epoch 5/5\n",
            "500/500 [==============================] - 30s 59ms/step - loss: 0.0207 - accuracy: 0.9936 - val_loss: 0.0447 - val_accuracy: 0.9872\n",
            "313/313 [==============================] - 5s 17ms/step - loss: 0.0472 - accuracy: 0.9862\n",
            "Epoch 1/5\n",
            "500/500 [==============================] - 30s 59ms/step - loss: 0.4249 - accuracy: 0.8725 - val_loss: 0.0899 - val_accuracy: 0.9728\n",
            "Epoch 2/5\n",
            "500/500 [==============================] - 30s 60ms/step - loss: 0.0647 - accuracy: 0.9796 - val_loss: 0.0886 - val_accuracy: 0.9722\n",
            "Epoch 3/5\n",
            "500/500 [==============================] - 30s 60ms/step - loss: 0.0426 - accuracy: 0.9870 - val_loss: 0.0585 - val_accuracy: 0.9825\n",
            "Epoch 4/5\n",
            "500/500 [==============================] - 31s 61ms/step - loss: 0.0291 - accuracy: 0.9912 - val_loss: 0.0540 - val_accuracy: 0.9839\n",
            "Epoch 5/5\n",
            "500/500 [==============================] - 30s 60ms/step - loss: 0.0191 - accuracy: 0.9942 - val_loss: 0.0515 - val_accuracy: 0.9856\n",
            "313/313 [==============================] - 6s 18ms/step - loss: 0.0481 - accuracy: 0.9858\n",
            "Epoch 1/5\n",
            "500/500 [==============================] - 31s 60ms/step - loss: 0.5067 - accuracy: 0.8530 - val_loss: 0.0809 - val_accuracy: 0.9780\n",
            "Epoch 2/5\n",
            "500/500 [==============================] - 30s 60ms/step - loss: 0.0727 - accuracy: 0.9789 - val_loss: 0.0595 - val_accuracy: 0.9824\n",
            "Epoch 3/5\n",
            "500/500 [==============================] - 30s 61ms/step - loss: 0.0436 - accuracy: 0.9868 - val_loss: 0.0525 - val_accuracy: 0.9861\n",
            "Epoch 4/5\n",
            "500/500 [==============================] - 30s 60ms/step - loss: 0.0345 - accuracy: 0.9890 - val_loss: 0.0511 - val_accuracy: 0.9856\n",
            "Epoch 5/5\n",
            "500/500 [==============================] - 30s 61ms/step - loss: 0.0235 - accuracy: 0.9932 - val_loss: 0.0529 - val_accuracy: 0.9844\n",
            "313/313 [==============================] - 6s 17ms/step - loss: 0.0526 - accuracy: 0.9838\n",
            "Epoch 1/5\n",
            "500/500 [==============================] - 31s 60ms/step - loss: 0.5180 - accuracy: 0.8459 - val_loss: 0.0911 - val_accuracy: 0.9743\n",
            "Epoch 2/5\n",
            "500/500 [==============================] - 30s 60ms/step - loss: 0.0703 - accuracy: 0.9807 - val_loss: 0.0579 - val_accuracy: 0.9830\n",
            "Epoch 3/5\n",
            "500/500 [==============================] - 30s 61ms/step - loss: 0.0397 - accuracy: 0.9890 - val_loss: 0.0639 - val_accuracy: 0.9820\n",
            "Epoch 4/5\n",
            "500/500 [==============================] - 30s 61ms/step - loss: 0.0301 - accuracy: 0.9899 - val_loss: 0.0513 - val_accuracy: 0.9866\n",
            "Epoch 5/5\n",
            "500/500 [==============================] - 31s 62ms/step - loss: 0.0198 - accuracy: 0.9945 - val_loss: 0.0568 - val_accuracy: 0.9835\n",
            "313/313 [==============================] - 5s 16ms/step - loss: 0.0584 - accuracy: 0.9826\n",
            "Epoch 1/5\n",
            "500/500 [==============================] - 31s 61ms/step - loss: 0.4946 - accuracy: 0.8594 - val_loss: 0.0792 - val_accuracy: 0.9771\n",
            "Epoch 2/5\n",
            "500/500 [==============================] - 31s 61ms/step - loss: 0.0646 - accuracy: 0.9815 - val_loss: 0.0615 - val_accuracy: 0.9806\n",
            "Epoch 3/5\n",
            "500/500 [==============================] - 30s 60ms/step - loss: 0.0409 - accuracy: 0.9882 - val_loss: 0.0538 - val_accuracy: 0.9836\n",
            "Epoch 4/5\n",
            "500/500 [==============================] - 30s 60ms/step - loss: 0.0284 - accuracy: 0.9916 - val_loss: 0.0509 - val_accuracy: 0.9854\n",
            "Epoch 5/5\n",
            "500/500 [==============================] - 30s 61ms/step - loss: 0.0201 - accuracy: 0.9946 - val_loss: 0.0459 - val_accuracy: 0.9861\n",
            "313/313 [==============================] - 6s 17ms/step - loss: 0.0433 - accuracy: 0.9873\n",
            "Epoch 1/5\n",
            "500/500 [==============================] - 31s 61ms/step - loss: 1.6245 - accuracy: 0.5537 - val_loss: 0.4531 - val_accuracy: 0.8906\n",
            "Epoch 2/5\n",
            "500/500 [==============================] - 30s 61ms/step - loss: 0.4530 - accuracy: 0.8840 - val_loss: 0.3004 - val_accuracy: 0.9239\n",
            "Epoch 3/5\n",
            "500/500 [==============================] - 31s 61ms/step - loss: 0.3155 - accuracy: 0.9158 - val_loss: 0.2320 - val_accuracy: 0.9405\n",
            "Epoch 4/5\n",
            "500/500 [==============================] - 31s 62ms/step - loss: 0.2398 - accuracy: 0.9370 - val_loss: 0.1903 - val_accuracy: 0.9501\n",
            "Epoch 5/5\n",
            "500/500 [==============================] - 30s 61ms/step - loss: 0.1971 - accuracy: 0.9477 - val_loss: 0.1608 - val_accuracy: 0.9575\n",
            "313/313 [==============================] - 6s 18ms/step - loss: 0.1810 - accuracy: 0.9497\n",
            "Epoch 1/5\n",
            "500/500 [==============================] - 31s 62ms/step - loss: 1.6267 - accuracy: 0.5417 - val_loss: 0.4759 - val_accuracy: 0.8800\n",
            "Epoch 2/5\n",
            "500/500 [==============================] - 30s 61ms/step - loss: 0.4627 - accuracy: 0.8777 - val_loss: 0.3149 - val_accuracy: 0.9185\n",
            "Epoch 3/5\n",
            "500/500 [==============================] - 31s 61ms/step - loss: 0.3272 - accuracy: 0.9140 - val_loss: 0.2459 - val_accuracy: 0.9360\n",
            "Epoch 4/5\n",
            "500/500 [==============================] - 32s 64ms/step - loss: 0.2603 - accuracy: 0.9294 - val_loss: 0.2038 - val_accuracy: 0.9479\n",
            "Epoch 5/5\n",
            "500/500 [==============================] - 31s 62ms/step - loss: 0.2136 - accuracy: 0.9411 - val_loss: 0.1742 - val_accuracy: 0.9538\n",
            "313/313 [==============================] - 6s 17ms/step - loss: 0.1967 - accuracy: 0.9449\n",
            "Epoch 1/5\n",
            "500/500 [==============================] - 30s 59ms/step - loss: 1.6520 - accuracy: 0.5593 - val_loss: 0.5107 - val_accuracy: 0.8745\n",
            "Epoch 2/5\n",
            "500/500 [==============================] - 30s 60ms/step - loss: 0.4411 - accuracy: 0.8876 - val_loss: 0.3374 - val_accuracy: 0.9104\n",
            "Epoch 3/5\n",
            "500/500 [==============================] - 30s 59ms/step - loss: 0.3121 - accuracy: 0.9154 - val_loss: 0.2635 - val_accuracy: 0.9286\n",
            "Epoch 4/5\n",
            "500/500 [==============================] - 30s 60ms/step - loss: 0.2477 - accuracy: 0.9327 - val_loss: 0.2179 - val_accuracy: 0.9386\n",
            "Epoch 5/5\n",
            "500/500 [==============================] - 30s 60ms/step - loss: 0.2055 - accuracy: 0.9438 - val_loss: 0.1864 - val_accuracy: 0.9473\n",
            "313/313 [==============================] - 5s 17ms/step - loss: 0.1835 - accuracy: 0.9492\n",
            "Epoch 1/5\n",
            "500/500 [==============================] - 29s 56ms/step - loss: 0.4127 - accuracy: 0.8675 - val_loss: 0.0861 - val_accuracy: 0.9759\n",
            "Epoch 2/5\n",
            "500/500 [==============================] - 29s 57ms/step - loss: 0.0944 - accuracy: 0.9717 - val_loss: 0.0789 - val_accuracy: 0.9785\n",
            "Epoch 3/5\n",
            "500/500 [==============================] - 29s 58ms/step - loss: 0.0659 - accuracy: 0.9791 - val_loss: 0.0717 - val_accuracy: 0.9794\n",
            "Epoch 4/5\n",
            "500/500 [==============================] - 28s 56ms/step - loss: 0.0545 - accuracy: 0.9818 - val_loss: 0.0715 - val_accuracy: 0.9812\n",
            "Epoch 5/5\n",
            "500/500 [==============================] - 28s 56ms/step - loss: 0.0444 - accuracy: 0.9851 - val_loss: 0.0820 - val_accuracy: 0.9814\n",
            "313/313 [==============================] - 5s 17ms/step - loss: 0.0785 - accuracy: 0.9791\n",
            "Epoch 1/5\n",
            "500/500 [==============================] - 28s 55ms/step - loss: 0.4159 - accuracy: 0.8710 - val_loss: 0.1050 - val_accuracy: 0.9697\n",
            "Epoch 2/5\n",
            "500/500 [==============================] - 27s 55ms/step - loss: 0.0879 - accuracy: 0.9722 - val_loss: 0.1204 - val_accuracy: 0.9686\n",
            "Epoch 3/5\n",
            "500/500 [==============================] - 28s 57ms/step - loss: 0.0667 - accuracy: 0.9804 - val_loss: 0.0853 - val_accuracy: 0.9758\n",
            "Epoch 4/5\n",
            "500/500 [==============================] - 28s 56ms/step - loss: 0.0546 - accuracy: 0.9824 - val_loss: 0.0838 - val_accuracy: 0.9783\n",
            "Epoch 5/5\n",
            "500/500 [==============================] - 28s 56ms/step - loss: 0.0468 - accuracy: 0.9851 - val_loss: 0.0799 - val_accuracy: 0.9796\n",
            "313/313 [==============================] - 5s 17ms/step - loss: 0.0779 - accuracy: 0.9787\n",
            "Epoch 1/5\n",
            "500/500 [==============================] - 29s 56ms/step - loss: 0.4167 - accuracy: 0.8706 - val_loss: 0.0899 - val_accuracy: 0.9712\n",
            "Epoch 2/5\n",
            "500/500 [==============================] - 27s 55ms/step - loss: 0.0820 - accuracy: 0.9741 - val_loss: 0.0835 - val_accuracy: 0.9739\n",
            "Epoch 3/5\n",
            "500/500 [==============================] - 27s 54ms/step - loss: 0.0686 - accuracy: 0.9794 - val_loss: 0.1069 - val_accuracy: 0.9695\n",
            "Epoch 4/5\n",
            "500/500 [==============================] - 28s 56ms/step - loss: 0.0506 - accuracy: 0.9838 - val_loss: 0.0993 - val_accuracy: 0.9699\n",
            "Epoch 5/5\n",
            "500/500 [==============================] - 28s 56ms/step - loss: 0.0419 - accuracy: 0.9872 - val_loss: 0.0780 - val_accuracy: 0.9784\n",
            "313/313 [==============================] - 6s 17ms/step - loss: 0.0820 - accuracy: 0.9787\n",
            "Epoch 1/5\n",
            "500/500 [==============================] - 28s 54ms/step - loss: 0.4872 - accuracy: 0.8436 - val_loss: 0.1059 - val_accuracy: 0.9697\n",
            "Epoch 2/5\n",
            "500/500 [==============================] - 27s 55ms/step - loss: 0.0867 - accuracy: 0.9740 - val_loss: 0.0836 - val_accuracy: 0.9766\n",
            "Epoch 3/5\n",
            "500/500 [==============================] - 27s 54ms/step - loss: 0.0665 - accuracy: 0.9798 - val_loss: 0.0755 - val_accuracy: 0.9785\n",
            "Epoch 4/5\n",
            "500/500 [==============================] - 28s 55ms/step - loss: 0.0593 - accuracy: 0.9812 - val_loss: 0.0753 - val_accuracy: 0.9801\n",
            "Epoch 5/5\n",
            "500/500 [==============================] - 27s 54ms/step - loss: 0.0447 - accuracy: 0.9853 - val_loss: 0.0785 - val_accuracy: 0.9791\n",
            "313/313 [==============================] - 6s 18ms/step - loss: 0.0722 - accuracy: 0.9776\n",
            "Epoch 1/5\n",
            "500/500 [==============================] - 28s 55ms/step - loss: 0.4766 - accuracy: 0.8570 - val_loss: 0.0938 - val_accuracy: 0.9737\n",
            "Epoch 2/5\n",
            "500/500 [==============================] - 27s 55ms/step - loss: 0.0841 - accuracy: 0.9733 - val_loss: 0.1179 - val_accuracy: 0.9694\n",
            "Epoch 3/5\n",
            "500/500 [==============================] - 28s 56ms/step - loss: 0.0684 - accuracy: 0.9774 - val_loss: 0.0783 - val_accuracy: 0.9771\n",
            "Epoch 4/5\n",
            "500/500 [==============================] - 27s 54ms/step - loss: 0.0541 - accuracy: 0.9824 - val_loss: 0.0836 - val_accuracy: 0.9762\n",
            "Epoch 5/5\n",
            "500/500 [==============================] - 27s 54ms/step - loss: 0.0511 - accuracy: 0.9834 - val_loss: 0.0825 - val_accuracy: 0.9775\n",
            "313/313 [==============================] - 5s 17ms/step - loss: 0.0799 - accuracy: 0.9777\n",
            "Epoch 1/5\n",
            "500/500 [==============================] - 28s 55ms/step - loss: 0.4838 - accuracy: 0.8517 - val_loss: 0.0958 - val_accuracy: 0.9699\n",
            "Epoch 2/5\n",
            "500/500 [==============================] - 28s 55ms/step - loss: 0.0829 - accuracy: 0.9741 - val_loss: 0.0803 - val_accuracy: 0.9750\n",
            "Epoch 3/5\n",
            "500/500 [==============================] - 28s 57ms/step - loss: 0.0630 - accuracy: 0.9799 - val_loss: 0.0828 - val_accuracy: 0.9744\n",
            "Epoch 4/5\n",
            "500/500 [==============================] - 28s 55ms/step - loss: 0.0533 - accuracy: 0.9834 - val_loss: 0.0798 - val_accuracy: 0.9759\n",
            "Epoch 5/5\n",
            "500/500 [==============================] - 29s 58ms/step - loss: 0.0429 - accuracy: 0.9857 - val_loss: 0.0751 - val_accuracy: 0.9778\n",
            "313/313 [==============================] - 5s 17ms/step - loss: 0.0764 - accuracy: 0.9787\n",
            "Epoch 1/5\n",
            "500/500 [==============================] - 29s 57ms/step - loss: 1.4314 - accuracy: 0.5872 - val_loss: 0.3141 - val_accuracy: 0.9095\n",
            "Epoch 2/5\n",
            "500/500 [==============================] - 28s 56ms/step - loss: 0.3126 - accuracy: 0.9069 - val_loss: 0.2113 - val_accuracy: 0.9384\n",
            "Epoch 3/5\n",
            "500/500 [==============================] - 27s 55ms/step - loss: 0.2266 - accuracy: 0.9317 - val_loss: 0.1623 - val_accuracy: 0.9565\n",
            "Epoch 4/5\n",
            "500/500 [==============================] - 27s 55ms/step - loss: 0.1702 - accuracy: 0.9498 - val_loss: 0.1342 - val_accuracy: 0.9624\n",
            "Epoch 5/5\n",
            "500/500 [==============================] - 28s 56ms/step - loss: 0.1412 - accuracy: 0.9582 - val_loss: 0.1261 - val_accuracy: 0.9646\n",
            "313/313 [==============================] - 5s 16ms/step - loss: 0.1430 - accuracy: 0.9582\n",
            "Epoch 1/5\n",
            "500/500 [==============================] - 29s 56ms/step - loss: 1.3590 - accuracy: 0.6121 - val_loss: 0.3015 - val_accuracy: 0.9137\n",
            "Epoch 2/5\n",
            "500/500 [==============================] - 27s 54ms/step - loss: 0.3141 - accuracy: 0.9083 - val_loss: 0.2128 - val_accuracy: 0.9373\n",
            "Epoch 3/5\n",
            "500/500 [==============================] - 28s 56ms/step - loss: 0.2058 - accuracy: 0.9395 - val_loss: 0.1554 - val_accuracy: 0.9531\n",
            "Epoch 4/5\n",
            "500/500 [==============================] - 27s 54ms/step - loss: 0.1690 - accuracy: 0.9504 - val_loss: 0.1263 - val_accuracy: 0.9644\n",
            "Epoch 5/5\n",
            "500/500 [==============================] - 28s 56ms/step - loss: 0.1337 - accuracy: 0.9602 - val_loss: 0.1093 - val_accuracy: 0.9691\n",
            "313/313 [==============================] - 5s 16ms/step - loss: 0.1250 - accuracy: 0.9641\n",
            "Epoch 1/5\n",
            "500/500 [==============================] - 28s 55ms/step - loss: 1.3729 - accuracy: 0.6269 - val_loss: 0.3454 - val_accuracy: 0.8963\n",
            "Epoch 2/5\n",
            "500/500 [==============================] - 28s 56ms/step - loss: 0.3077 - accuracy: 0.9098 - val_loss: 0.2717 - val_accuracy: 0.9175\n",
            "Epoch 3/5\n",
            "500/500 [==============================] - 28s 56ms/step - loss: 0.2160 - accuracy: 0.9397 - val_loss: 0.1819 - val_accuracy: 0.9440\n",
            "Epoch 4/5\n",
            "500/500 [==============================] - 28s 55ms/step - loss: 0.1754 - accuracy: 0.9470 - val_loss: 0.1467 - val_accuracy: 0.9564\n",
            "Epoch 5/5\n",
            "500/500 [==============================] - 28s 56ms/step - loss: 0.1407 - accuracy: 0.9573 - val_loss: 0.1294 - val_accuracy: 0.9611\n",
            "313/313 [==============================] - 5s 16ms/step - loss: 0.1289 - accuracy: 0.9614\n",
            "Epoch 1/5\n",
            "750/750 [==============================] - 47s 62ms/step - loss: 0.4761 - accuracy: 0.8465 - val_loss: 0.0764 - val_accuracy: 0.9759\n",
            "Epoch 2/5\n",
            "750/750 [==============================] - 45s 60ms/step - loss: 0.0536 - accuracy: 0.9833 - val_loss: 0.0614 - val_accuracy: 0.9815\n",
            "Epoch 3/5\n",
            "750/750 [==============================] - 46s 61ms/step - loss: 0.0358 - accuracy: 0.9892 - val_loss: 0.0448 - val_accuracy: 0.9862\n",
            "Epoch 4/5\n",
            "750/750 [==============================] - 46s 62ms/step - loss: 0.0274 - accuracy: 0.9918 - val_loss: 0.0461 - val_accuracy: 0.9872\n",
            "Epoch 5/5\n",
            "750/750 [==============================] - 46s 61ms/step - loss: 0.0212 - accuracy: 0.9933 - val_loss: 0.0401 - val_accuracy: 0.9893\n",
            "Optimal accuracy results: 0.9873166680335999 with parameters: {'act': 'relu', 'opt': 'rmsprop'} \n",
            "[{'act': 'relu', 'opt': 'rmsprop'}, {'act': 'relu', 'opt': 'adam'}, {'act': 'relu', 'opt': 'sgd'}, {'act': 'tanh', 'opt': 'rmsprop'}, {'act': 'tanh', 'opt': 'adam'}, {'act': 'tanh', 'opt': 'sgd'}, {'act': 'linear', 'opt': 'rmsprop'}, {'act': 'linear', 'opt': 'adam'}, {'act': 'linear', 'opt': 'sgd'}] gave 0.9873166680335999\n",
            "[{'act': 'relu', 'opt': 'rmsprop'}, {'act': 'relu', 'opt': 'adam'}, {'act': 'relu', 'opt': 'sgd'}, {'act': 'tanh', 'opt': 'rmsprop'}, {'act': 'tanh', 'opt': 'adam'}, {'act': 'tanh', 'opt': 'sgd'}, {'act': 'linear', 'opt': 'rmsprop'}, {'act': 'linear', 'opt': 'adam'}, {'act': 'linear', 'opt': 'sgd'}] gave 0.9855833252271017\n",
            "[{'act': 'relu', 'opt': 'rmsprop'}, {'act': 'relu', 'opt': 'adam'}, {'act': 'relu', 'opt': 'sgd'}, {'act': 'tanh', 'opt': 'rmsprop'}, {'act': 'tanh', 'opt': 'adam'}, {'act': 'tanh', 'opt': 'sgd'}, {'act': 'linear', 'opt': 'rmsprop'}, {'act': 'linear', 'opt': 'adam'}, {'act': 'linear', 'opt': 'sgd'}] gave 0.9573833346366882\n",
            "[{'act': 'relu', 'opt': 'rmsprop'}, {'act': 'relu', 'opt': 'adam'}, {'act': 'relu', 'opt': 'sgd'}, {'act': 'tanh', 'opt': 'rmsprop'}, {'act': 'tanh', 'opt': 'adam'}, {'act': 'tanh', 'opt': 'sgd'}, {'act': 'linear', 'opt': 'rmsprop'}, {'act': 'linear', 'opt': 'adam'}, {'act': 'linear', 'opt': 'sgd'}] gave 0.9856666525204977\n",
            "[{'act': 'relu', 'opt': 'rmsprop'}, {'act': 'relu', 'opt': 'adam'}, {'act': 'relu', 'opt': 'sgd'}, {'act': 'tanh', 'opt': 'rmsprop'}, {'act': 'tanh', 'opt': 'adam'}, {'act': 'tanh', 'opt': 'sgd'}, {'act': 'linear', 'opt': 'rmsprop'}, {'act': 'linear', 'opt': 'adam'}, {'act': 'linear', 'opt': 'sgd'}] gave 0.98458331823349\n",
            "[{'act': 'relu', 'opt': 'rmsprop'}, {'act': 'relu', 'opt': 'adam'}, {'act': 'relu', 'opt': 'sgd'}, {'act': 'tanh', 'opt': 'rmsprop'}, {'act': 'tanh', 'opt': 'adam'}, {'act': 'tanh', 'opt': 'sgd'}, {'act': 'linear', 'opt': 'rmsprop'}, {'act': 'linear', 'opt': 'adam'}, {'act': 'linear', 'opt': 'sgd'}] gave 0.9479499856630961\n",
            "[{'act': 'relu', 'opt': 'rmsprop'}, {'act': 'relu', 'opt': 'adam'}, {'act': 'relu', 'opt': 'sgd'}, {'act': 'tanh', 'opt': 'rmsprop'}, {'act': 'tanh', 'opt': 'adam'}, {'act': 'tanh', 'opt': 'sgd'}, {'act': 'linear', 'opt': 'rmsprop'}, {'act': 'linear', 'opt': 'adam'}, {'act': 'linear', 'opt': 'sgd'}] gave 0.978849987188975\n",
            "[{'act': 'relu', 'opt': 'rmsprop'}, {'act': 'relu', 'opt': 'adam'}, {'act': 'relu', 'opt': 'sgd'}, {'act': 'tanh', 'opt': 'rmsprop'}, {'act': 'tanh', 'opt': 'adam'}, {'act': 'tanh', 'opt': 'sgd'}, {'act': 'linear', 'opt': 'rmsprop'}, {'act': 'linear', 'opt': 'adam'}, {'act': 'linear', 'opt': 'sgd'}] gave 0.9779999852180481\n",
            "[{'act': 'relu', 'opt': 'rmsprop'}, {'act': 'relu', 'opt': 'adam'}, {'act': 'relu', 'opt': 'sgd'}, {'act': 'tanh', 'opt': 'rmsprop'}, {'act': 'tanh', 'opt': 'adam'}, {'act': 'tanh', 'opt': 'sgd'}, {'act': 'linear', 'opt': 'rmsprop'}, {'act': 'linear', 'opt': 'adam'}, {'act': 'linear', 'opt': 'sgd'}] gave 0.9612000187238058\n"
          ],
          "name": "stdout"
        }
      ]
    }
  ]
}