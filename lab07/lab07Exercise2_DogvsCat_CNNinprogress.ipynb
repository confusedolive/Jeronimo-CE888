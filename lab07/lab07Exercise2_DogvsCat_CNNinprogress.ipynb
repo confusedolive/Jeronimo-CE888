{
  "nbformat": 4,
  "nbformat_minor": 0,
  "metadata": {
    "colab": {
      "name": "lab07Exercise2_DogvsCat_CNN.ipynb",
      "provenance": [],
      "toc_visible": true,
      "include_colab_link": true
    },
    "kernelspec": {
      "name": "python3",
      "display_name": "Python 3"
    },
    "accelerator": "GPU"
  },
  "cells": [
    {
      "cell_type": "markdown",
      "metadata": {
        "id": "view-in-github",
        "colab_type": "text"
      },
      "source": [
        "<a href=\"https://colab.research.google.com/github/confusedolive/Jeronimo-CE888/blob/main/lab07/lab07Exercise2_DogvsCat_CNNinprogress.ipynb\" target=\"_parent\"><img src=\"https://colab.research.google.com/assets/colab-badge.svg\" alt=\"Open In Colab\"/></a>"
      ]
    },
    {
      "cell_type": "markdown",
      "metadata": {
        "id": "qTh9DiKVslsJ"
      },
      "source": [
        "## Dogs vs. Cats \n",
        "\n",
        "In this competition, you'll write an algorithm to classify whether images contain either a dog or a cat.  This is easy for humans, dogs, and cats. Your computer will find it a bit more difficult.\n",
        "\n",
        "![alt text](https://miro.medium.com/max/3000/1*bhFifratH9DjKqMBTeQG5A.gif)\n",
        "\n",
        "Ref: https://medium.com/@thegrigorian/rolling-in-the-deep-cnn-c8d3f7108c8c"
      ]
    },
    {
      "cell_type": "markdown",
      "metadata": {
        "id": "RSBI-_mSSY1g"
      },
      "source": [
        "Get your API Key from Kaggle using following steps:\n",
        "1. Login to [Kaggle](https://www.kaggle.com/) or Register if you don't have account\n",
        "2. Open Dataset (https://www.kaggle.com/c/dogs-vs-cats/rules) and accept terms and condition. \n",
        "3. On the top right corner click on your Icon and go to accounts and press a button \"Create New API Token\". It will download a JSON file containing your username and key. \n",
        "4. Now, paste both below. \n"
      ]
    },
    {
      "cell_type": "code",
      "metadata": {
        "id": "YmXSOc0tZIGA",
        "colab": {
          "base_uri": "https://localhost:8080/"
        },
        "outputId": "7635d51e-7d40-440c-bc59-ae15c07d445b"
      },
      "source": [
        "import os\n",
        "os.environ['KAGGLE_USERNAME'] = 'jeroolivacano'\n",
        "os.environ['KAGGLE_KEY'] = 'f107275d3b4d14df4f799fee1183e8bd'\n",
        "!kaggle competitions download -c dogs-vs-cats"
      ],
      "execution_count": 3,
      "outputs": [
        {
          "output_type": "stream",
          "text": [
            "Warning: Looks like you're using an outdated API Version, please consider updating (server 1.5.10 / client 1.5.4)\n",
            "Downloading sampleSubmission.csv to /content\n",
            "  0% 0.00/86.8k [00:00<?, ?B/s]\n",
            "100% 86.8k/86.8k [00:00<00:00, 58.4MB/s]\n",
            "Downloading test1.zip to /content\n",
            " 91% 248M/271M [00:01<00:00, 223MB/s]\n",
            "100% 271M/271M [00:01<00:00, 191MB/s]\n",
            "Downloading train.zip to /content\n",
            " 99% 539M/543M [00:02<00:00, 258MB/s]\n",
            "100% 543M/543M [00:02<00:00, 244MB/s]\n"
          ],
          "name": "stdout"
        }
      ]
    },
    {
      "cell_type": "code",
      "metadata": {
        "id": "PiwIL8d1n7eS",
        "colab": {
          "base_uri": "https://localhost:8080/"
        },
        "outputId": "69a7227f-043c-40ce-d871-45e2b483a423"
      },
      "source": [
        "# Unzip training data\n",
        "from zipfile import ZipFile\n",
        "file_name = \"/content/train.zip\"\n",
        "with ZipFile(file_name, 'r') as zip:\n",
        "  zip.extractall()\n",
        "  print('done')"
      ],
      "execution_count": 4,
      "outputs": [
        {
          "output_type": "stream",
          "text": [
            "done\n"
          ],
          "name": "stdout"
        }
      ]
    },
    {
      "cell_type": "code",
      "metadata": {
        "id": "sa2Bj5i7pPKV",
        "colab": {
          "base_uri": "https://localhost:8080/"
        },
        "outputId": "579db07a-8706-4e71-fd2b-5ef1b3226f7d"
      },
      "source": [
        "# Get all the paths\n",
        "data_dir_list = os.listdir('/content/train')\n",
        "#print(data_dir_list)\n",
        "path, dirs, files = next(os.walk(\"/content/train\"))\n",
        "file_count = len(files)\n",
        "print(file_count)"
      ],
      "execution_count": 5,
      "outputs": [
        {
          "output_type": "stream",
          "text": [
            "25000\n"
          ],
          "name": "stdout"
        }
      ]
    },
    {
      "cell_type": "code",
      "metadata": {
        "id": "0ERlHkfHqpK8"
      },
      "source": [
        "# Make new base directory\n",
        "original_dataset_dir = '/content/train'\n",
        "base_dir = '/content/cats_and_dogs_small'\n",
        "os.mkdir(base_dir)"
      ],
      "execution_count": 6,
      "outputs": []
    },
    {
      "cell_type": "code",
      "metadata": {
        "id": "AANB1UJ6rQhM"
      },
      "source": [
        "train_dir = os.path.join(base_dir, 'train')\n",
        "os.mkdir(train_dir)\n",
        "\n",
        "validation_dir = os.path.join(base_dir, 'validation')\n",
        "os.mkdir(validation_dir)\n",
        "\n",
        "test_dir = os.path.join(base_dir, 'test')\n",
        "os.mkdir(test_dir)\n",
        "\n",
        "train_cats_dir = os.path.join(train_dir, 'cats')\n",
        "os.mkdir(train_cats_dir)\n",
        "\n",
        "train_dogs_dir = os.path.join(train_dir, 'dogs')\n",
        "os.mkdir(train_dogs_dir)\n",
        "\n",
        "validation_cats_dir = os.path.join(validation_dir, 'cats')\n",
        "os.mkdir(validation_cats_dir)\n",
        "\n",
        "validation_dogs_dir = os.path.join(validation_dir, 'dogs')\n",
        "os.mkdir(validation_dogs_dir)\n",
        "\n",
        "test_cats_dir = os.path.join(test_dir, 'cats')\n",
        "os.mkdir(test_cats_dir)\n",
        "\n",
        "test_dogs_dir = os.path.join(test_dir, 'dogs')\n",
        "os.mkdir(test_dogs_dir)"
      ],
      "execution_count": 7,
      "outputs": []
    },
    {
      "cell_type": "code",
      "metadata": {
        "id": "ULRgL9s9rV8T"
      },
      "source": [
        "import shutil\n",
        "fnames = ['cat.{}.jpg'.format(i) for i in range(1000)]\n",
        "for fname in fnames:\n",
        "    src = os.path.join(original_dataset_dir, fname)\n",
        "    dst = os.path.join(train_cats_dir, fname)\n",
        "    #print(src,dst)\n",
        "    shutil.copyfile(src, dst)\n",
        "    \n",
        "fnames = ['cat.{}.jpg'.format(i) for i in range(1000, 1500)]\n",
        "for fname in fnames:\n",
        "    src = os.path.join(original_dataset_dir, fname)\n",
        "    dst = os.path.join(validation_cats_dir, fname)\n",
        "    shutil.copyfile(src, dst)\n",
        "\n",
        "fnames = ['cat.{}.jpg'.format(i) for i in range(1500, 2000)]\n",
        "for fname in fnames:\n",
        "    src = os.path.join(original_dataset_dir, fname)\n",
        "    dst = os.path.join(test_cats_dir, fname)\n",
        "    shutil.copyfile(src, dst)\n",
        "    \n",
        "fnames = ['dog.{}.jpg'.format(i) for i in range(1000)]\n",
        "for fname in fnames:\n",
        "    src = os.path.join(original_dataset_dir, fname)\n",
        "    dst = os.path.join(train_dogs_dir, fname)\n",
        "    shutil.copyfile(src, dst)\n",
        "\n",
        "fnames = ['dog.{}.jpg'.format(i) for i in range(1000, 1500)]\n",
        "for fname in fnames:\n",
        "    src = os.path.join(original_dataset_dir, fname)\n",
        "    dst = os.path.join(validation_dogs_dir, fname)\n",
        "    shutil.copyfile(src, dst)\n",
        "\n",
        "fnames = ['dog.{}.jpg'.format(i) for i in range(1500, 2000)]\n",
        "for fname in fnames:\n",
        "    src = os.path.join(original_dataset_dir, fname)\n",
        "    dst = os.path.join(test_dogs_dir, fname)\n",
        "    shutil.copyfile(src, dst)"
      ],
      "execution_count": 8,
      "outputs": []
    },
    {
      "cell_type": "code",
      "metadata": {
        "id": "ul3XAbIyr7vC",
        "colab": {
          "base_uri": "https://localhost:8080/"
        },
        "outputId": "6d2869ad-1407-4512-f550-6928bdabd0b5"
      },
      "source": [
        "print('total training cat images:', len(os.listdir(train_cats_dir)))\n",
        "print('total training dog images:', len(os.listdir(train_dogs_dir)))\n",
        "print('total validation cat images:', len(os.listdir(validation_cats_dir)))\n",
        "\n",
        "print('total validation dog images:', len(os.listdir(validation_dogs_dir)))\n",
        "print('total test cat images:', len(os.listdir(test_cats_dir)))\n",
        "print('total test dog images:', len(os.listdir(test_dogs_dir)))"
      ],
      "execution_count": 9,
      "outputs": [
        {
          "output_type": "stream",
          "text": [
            "total training cat images: 1000\n",
            "total training dog images: 1000\n",
            "total validation cat images: 500\n",
            "total validation dog images: 500\n",
            "total test cat images: 500\n",
            "total test dog images: 500\n"
          ],
          "name": "stdout"
        }
      ]
    },
    {
      "cell_type": "code",
      "metadata": {
        "id": "o9yTA21_r-ma",
        "colab": {
          "base_uri": "https://localhost:8080/"
        },
        "outputId": "7b29a52d-2509-4d59-aa99-5b42f6db219e"
      },
      "source": [
        "from keras import layers\n",
        "from keras import models\n",
        "\n",
        "model = models.Sequential()\n",
        "model.add(layers.Conv2D(32, (3, 3), activation='relu', input_shape=(150, 150, 3)))\n",
        "model.add(layers.MaxPooling2D((2, 2)))\n",
        "model.add(layers.Conv2D(64, (3, 3), activation='relu'))\n",
        "model.add(layers.MaxPooling2D((2, 2)))\n",
        "model.add(layers.Conv2D(128, (3, 3), activation='relu'))\n",
        "model.add(layers.MaxPooling2D((2, 2)))\n",
        "model.add(layers.Conv2D(128, (3, 3), activation='relu'))\n",
        "model.add(layers.MaxPooling2D((2, 2)))\n",
        "model.add(layers.Flatten())\n",
        "model.add(layers.Dense(512, activation='relu'))\n",
        "model.add(layers.Dense(1, activation='sigmoid'))\n",
        "model.summary()"
      ],
      "execution_count": null,
      "outputs": [
        {
          "output_type": "stream",
          "text": [
            "Model: \"sequential\"\n",
            "_________________________________________________________________\n",
            "Layer (type)                 Output Shape              Param #   \n",
            "=================================================================\n",
            "conv2d (Conv2D)              (None, 148, 148, 32)      896       \n",
            "_________________________________________________________________\n",
            "max_pooling2d (MaxPooling2D) (None, 74, 74, 32)        0         \n",
            "_________________________________________________________________\n",
            "conv2d_1 (Conv2D)            (None, 72, 72, 64)        18496     \n",
            "_________________________________________________________________\n",
            "max_pooling2d_1 (MaxPooling2 (None, 36, 36, 64)        0         \n",
            "_________________________________________________________________\n",
            "conv2d_2 (Conv2D)            (None, 34, 34, 128)       73856     \n",
            "_________________________________________________________________\n",
            "max_pooling2d_2 (MaxPooling2 (None, 17, 17, 128)       0         \n",
            "_________________________________________________________________\n",
            "conv2d_3 (Conv2D)            (None, 15, 15, 128)       147584    \n",
            "_________________________________________________________________\n",
            "max_pooling2d_3 (MaxPooling2 (None, 7, 7, 128)         0         \n",
            "_________________________________________________________________\n",
            "flatten (Flatten)            (None, 6272)              0         \n",
            "_________________________________________________________________\n",
            "dense (Dense)                (None, 512)               3211776   \n",
            "_________________________________________________________________\n",
            "dense_1 (Dense)              (None, 1)                 513       \n",
            "=================================================================\n",
            "Total params: 3,453,121\n",
            "Trainable params: 3,453,121\n",
            "Non-trainable params: 0\n",
            "_________________________________________________________________\n"
          ],
          "name": "stdout"
        }
      ]
    },
    {
      "cell_type": "code",
      "metadata": {
        "id": "2mG8wekxsBVS"
      },
      "source": [
        "from keras import optimizers\n",
        "model.compile(loss='binary_crossentropy', \n",
        "              optimizer=optimizers.RMSprop(lr=1e-4),\n",
        "              metrics=['acc'])"
      ],
      "execution_count": null,
      "outputs": []
    },
    {
      "cell_type": "markdown",
      "metadata": {
        "id": "7zS4Klm8qWp6"
      },
      "source": [
        "## Using ImageDataGenerator to read images from directories\n",
        "As you know by now, data should be formatted into appropriately preprocessed floatingpoint tensors before being fed into the network. Currently, the data sits on a drive as JPEG files, so the steps for getting it into the network are roughly as follows:\n",
        "\n",
        "* Read the picture files.\n",
        "* Decode the JPEG content to RGB grids of pixels.\n",
        "* Convert these into floating-point tensors.\n",
        "* Rescale the pixel values (between 0 and 255) to the [0, 1] interval (as you know, neural networks prefer to deal with small input values).\n",
        "\n",
        "It may seem a bit daunting, but fortunately Keras has utilities to take care of these steps automatically. Keras has a module with image-processing helper tools, located at keras.preprocessing.image. In particular, it contains the class ImageDataGenerator,which lets you quickly set up Python generators that can automatically turn image files on disk into batches of preprocessed tensors."
      ]
    },
    {
      "cell_type": "code",
      "metadata": {
        "id": "XJ7XU7t9sEh6",
        "colab": {
          "base_uri": "https://localhost:8080/"
        },
        "outputId": "5c4081b7-a0e9-4b30-9011-84b35d0f00d6"
      },
      "source": [
        "from keras.preprocessing.image import ImageDataGenerator\n",
        "\n",
        "train_datagen = ImageDataGenerator(rescale=1./255)\n",
        "test_datagen = ImageDataGenerator(rescale=1./255)\n",
        "\n",
        "train_generator = train_datagen.flow_from_directory(train_dir,\n",
        "                                                    target_size=(150, 150), \n",
        "                                                    batch_size=20,\n",
        "                                                    class_mode='binary')\n",
        "\n",
        "validation_generator = test_datagen.flow_from_directory(validation_dir,\n",
        "                                                        target_size=(150, 150),\n",
        "                                                        batch_size=20,\n",
        "                                                        class_mode='binary')"
      ],
      "execution_count": null,
      "outputs": [
        {
          "output_type": "stream",
          "text": [
            "Found 2000 images belonging to 2 classes.\n",
            "Found 1000 images belonging to 2 classes.\n"
          ],
          "name": "stdout"
        }
      ]
    },
    {
      "cell_type": "markdown",
      "metadata": {
        "id": "SEgLywySqm4u"
      },
      "source": [
        "Let’s fit the model to the data using the generator. You do so using the fit_generator method, the equivalent of fit for data generators like this one. It expects as its first argument a Python generator that will yield batches of inputs and targets indefinitely,like this one does. Because the data is being generated endlessly, the Keras model needs to know how many samples to draw from the generator before declaring anepoch over. This is the role of the `steps_per_epoch` argument: after having drawn `steps_per_epoch` batches from the generator—that is, after having run for `steps_per_epoch` gradient descent steps—the fitting process will go to the next epoch. In this case, batches are 20 samples, so it will take 100 batches until you see your target of 2,000 samples.\n",
        "\n",
        "When using fit_generator, you can pass a validation_data argument, much as with the fit method. It’s important to note that this argument is allowed to be a data generator, but it could also be a tuple of Numpy arrays. If you pass a generator as validation_data, then this generator is expected to yield batches of validation data endlessly; thus you should also specify the validation_steps argument, which tells the process how many batches to draw from the validation generator for evaluation."
      ]
    },
    {
      "cell_type": "code",
      "metadata": {
        "id": "yMyfPphJsJG6",
        "colab": {
          "base_uri": "https://localhost:8080/"
        },
        "outputId": "95ad8b83-f429-4045-b966-098f9b6eddc8"
      },
      "source": [
        "history = model.fit_generator(train_generator,\n",
        "                              steps_per_epoch=100,\n",
        "                              epochs=30,\n",
        "                              validation_data=validation_generator,\n",
        "                              validation_steps=10)"
      ],
      "execution_count": null,
      "outputs": [
        {
          "output_type": "stream",
          "text": [
            "/usr/local/lib/python3.7/dist-packages/tensorflow/python/keras/engine/training.py:1844: UserWarning: `Model.fit_generator` is deprecated and will be removed in a future version. Please use `Model.fit`, which supports generators.\n",
            "  warnings.warn('`Model.fit_generator` is deprecated and '\n"
          ],
          "name": "stderr"
        },
        {
          "output_type": "stream",
          "text": [
            "Epoch 1/30\n",
            "100/100 [==============================] - 40s 67ms/step - loss: 0.7025 - acc: 0.5181 - val_loss: 0.6768 - val_acc: 0.5850\n",
            "Epoch 2/30\n",
            "100/100 [==============================] - 7s 65ms/step - loss: 0.6669 - acc: 0.5985 - val_loss: 0.6671 - val_acc: 0.6000\n",
            "Epoch 3/30\n",
            "100/100 [==============================] - 7s 66ms/step - loss: 0.6267 - acc: 0.6585 - val_loss: 0.6187 - val_acc: 0.6550\n",
            "Epoch 4/30\n",
            "100/100 [==============================] - 7s 65ms/step - loss: 0.5817 - acc: 0.6975 - val_loss: 0.5829 - val_acc: 0.7000\n",
            "Epoch 5/30\n",
            "100/100 [==============================] - 7s 66ms/step - loss: 0.5346 - acc: 0.7342 - val_loss: 0.5461 - val_acc: 0.7200\n",
            "Epoch 6/30\n",
            "100/100 [==============================] - 7s 66ms/step - loss: 0.5212 - acc: 0.7430 - val_loss: 0.5732 - val_acc: 0.6700\n",
            "Epoch 7/30\n",
            "100/100 [==============================] - 7s 66ms/step - loss: 0.4830 - acc: 0.7606 - val_loss: 0.6504 - val_acc: 0.6800\n",
            "Epoch 8/30\n",
            "100/100 [==============================] - 7s 67ms/step - loss: 0.4529 - acc: 0.7809 - val_loss: 0.5698 - val_acc: 0.7000\n",
            "Epoch 9/30\n",
            "100/100 [==============================] - 7s 66ms/step - loss: 0.4149 - acc: 0.8199 - val_loss: 0.6036 - val_acc: 0.6800\n",
            "Epoch 10/30\n",
            "100/100 [==============================] - 7s 66ms/step - loss: 0.3974 - acc: 0.8207 - val_loss: 0.5286 - val_acc: 0.7400\n",
            "Epoch 11/30\n",
            "100/100 [==============================] - 7s 68ms/step - loss: 0.3692 - acc: 0.8353 - val_loss: 0.5717 - val_acc: 0.6950\n",
            "Epoch 12/30\n",
            "100/100 [==============================] - 7s 68ms/step - loss: 0.3293 - acc: 0.8510 - val_loss: 0.5781 - val_acc: 0.7200\n",
            "Epoch 13/30\n",
            "100/100 [==============================] - 7s 67ms/step - loss: 0.3180 - acc: 0.8679 - val_loss: 0.5625 - val_acc: 0.7250\n",
            "Epoch 14/30\n",
            "100/100 [==============================] - 7s 68ms/step - loss: 0.2971 - acc: 0.8816 - val_loss: 0.5819 - val_acc: 0.7500\n",
            "Epoch 15/30\n",
            "100/100 [==============================] - 7s 68ms/step - loss: 0.2667 - acc: 0.8874 - val_loss: 0.6290 - val_acc: 0.7050\n",
            "Epoch 16/30\n",
            "100/100 [==============================] - 7s 67ms/step - loss: 0.2465 - acc: 0.9118 - val_loss: 0.7211 - val_acc: 0.6950\n",
            "Epoch 17/30\n",
            "100/100 [==============================] - 7s 68ms/step - loss: 0.2245 - acc: 0.9194 - val_loss: 0.5781 - val_acc: 0.7650\n",
            "Epoch 18/30\n",
            "100/100 [==============================] - 7s 67ms/step - loss: 0.2060 - acc: 0.9228 - val_loss: 0.6575 - val_acc: 0.7050\n",
            "Epoch 19/30\n",
            "100/100 [==============================] - 7s 67ms/step - loss: 0.1918 - acc: 0.9303 - val_loss: 0.6784 - val_acc: 0.7200\n",
            "Epoch 20/30\n",
            "100/100 [==============================] - 7s 65ms/step - loss: 0.1522 - acc: 0.9536 - val_loss: 1.0874 - val_acc: 0.6950\n",
            "Epoch 21/30\n",
            "100/100 [==============================] - 7s 65ms/step - loss: 0.1767 - acc: 0.9342 - val_loss: 0.7149 - val_acc: 0.7400\n",
            "Epoch 22/30\n",
            "100/100 [==============================] - 7s 66ms/step - loss: 0.1329 - acc: 0.9578 - val_loss: 0.7391 - val_acc: 0.7400\n",
            "Epoch 23/30\n",
            "100/100 [==============================] - 7s 67ms/step - loss: 0.1181 - acc: 0.9589 - val_loss: 0.7322 - val_acc: 0.7500\n",
            "Epoch 24/30\n",
            "100/100 [==============================] - 7s 66ms/step - loss: 0.1037 - acc: 0.9660 - val_loss: 0.8230 - val_acc: 0.7400\n",
            "Epoch 25/30\n",
            "100/100 [==============================] - 7s 65ms/step - loss: 0.0728 - acc: 0.9822 - val_loss: 0.7502 - val_acc: 0.7450\n",
            "Epoch 26/30\n",
            "100/100 [==============================] - 7s 66ms/step - loss: 0.0661 - acc: 0.9855 - val_loss: 0.9497 - val_acc: 0.7300\n",
            "Epoch 27/30\n",
            "100/100 [==============================] - 7s 65ms/step - loss: 0.0615 - acc: 0.9819 - val_loss: 0.7097 - val_acc: 0.7850\n",
            "Epoch 28/30\n",
            "100/100 [==============================] - 7s 66ms/step - loss: 0.0535 - acc: 0.9876 - val_loss: 0.8334 - val_acc: 0.7550\n",
            "Epoch 29/30\n",
            "100/100 [==============================] - 7s 67ms/step - loss: 0.0528 - acc: 0.9878 - val_loss: 0.9818 - val_acc: 0.7000\n",
            "Epoch 30/30\n",
            "100/100 [==============================] - 7s 66ms/step - loss: 0.0353 - acc: 0.9929 - val_loss: 0.9964 - val_acc: 0.7450\n"
          ],
          "name": "stdout"
        }
      ]
    },
    {
      "cell_type": "code",
      "metadata": {
        "id": "MZaZ2HWZsNUi",
        "colab": {
          "base_uri": "https://localhost:8080/",
          "height": 545
        },
        "outputId": "e1c8d929-d45e-40dd-de2a-e9d936fa92d2"
      },
      "source": [
        "model.save('cats_and_dogs_small_1.h5')\n",
        "\n",
        "import matplotlib.pyplot as plt\n",
        "\n",
        "acc = history.history['acc']\n",
        "val_acc = history.history['val_acc']\n",
        "loss = history.history['loss']\n",
        "val_loss = history.history['val_loss']\n",
        "\n",
        "epochs = range(1, len(acc) + 1)\n",
        "\n",
        "plt.plot(epochs, acc, 'bo', label='Training acc')\n",
        "plt.plot(epochs, val_acc, 'b', label='Validation acc')\n",
        "plt.title('Training and validation accuracy')\n",
        "plt.legend()\n",
        "\n",
        "plt.figure()\n",
        "\n",
        "plt.plot(epochs, loss, 'bo', label='Training loss')\n",
        "plt.plot(epochs, val_loss, 'b', label='Validation loss')\n",
        "plt.title('Training and validation loss')\n",
        "plt.legend()\n",
        "\n",
        "plt.show()"
      ],
      "execution_count": null,
      "outputs": [
        {
          "output_type": "display_data",
          "data": {
            "image/png": "[encoded data removed]",
            "text/plain": [
              "<Figure size 432x288 with 1 Axes>"
            ]
          },
          "metadata": {
            "tags": [],
            "needs_background": "light"
          }
        },
        {
          "output_type": "display_data",
          "data": {
            "image/png": "[encoded data removed]",
            "text/plain": [
              "<Figure size 432x288 with 1 Axes>"
            ]
          },
          "metadata": {
            "tags": [],
            "needs_background": "light"
          }
        }
      ]
    },
    {
      "cell_type": "markdown",
      "metadata": {
        "id": "XKZmXmBcq_8-"
      },
      "source": [
        "## Convolutional Networks with Dropout\n",
        "\n",
        "![alt text](https://camo.githubusercontent.com/ee6fa1073247cd2c3d241300caf110d7a7541bc5/68747470733a2f2f63646e2d696d616765732d312e6d656469756d2e636f6d2f6d61782f3830302f312a4972644a355067684439596f4f7956415137334d4a772e676966)\n",
        "\n",
        "Ref: https://github.com/mneha4/Training-Neural-Nets---Guidelines"
      ]
    },
    {
      "cell_type": "code",
      "metadata": {
        "id": "wu3cqeYQrDeN"
      },
      "source": [
        "model = models.Sequential()\n",
        "model.add(layers.Conv2D(32, (3, 3), activation='relu',\n",
        "input_shape=(150, 150, 3)))\n",
        "model.add(layers.MaxPooling2D((2, 2)))\n",
        "model.add(layers.Conv2D(64, (3, 3), activation='relu'))\n",
        "model.add(layers.MaxPooling2D((2, 2)))\n",
        "model.add(layers.Conv2D(128, (3, 3), activation='relu'))\n",
        "model.add(layers.MaxPooling2D((2, 2)))\n",
        "model.add(layers.Conv2D(128, (3, 3), activation='relu'))\n",
        "model.add(layers.MaxPooling2D((2, 2)))\n",
        "model.add(layers.Flatten())\n",
        "model.add(layers.Dropout(0.5))\n",
        "model.add(layers.Dense(512, activation='relu'))\n",
        "model.add(layers.Dense(1, activation='sigmoid'))\n",
        "\n",
        "model.compile(loss='binary_crossentropy',\n",
        "              optimizer=optimizers.RMSprop(lr=1e-4),\n",
        "              metrics=['acc'])"
      ],
      "execution_count": null,
      "outputs": []
    },
    {
      "cell_type": "code",
      "metadata": {
        "id": "QSeLpvY0rH7F",
        "colab": {
          "base_uri": "https://localhost:8080/"
        },
        "outputId": "68bf56a8-a95f-402b-9e1f-a89ca2dd4617"
      },
      "source": [
        "train_datagen = ImageDataGenerator(rescale=1./255,\n",
        "                                   rotation_range=40,\n",
        "                                   width_shift_range=0.2,\n",
        "                                   height_shift_range=0.2,\n",
        "                                   shear_range=0.2,\n",
        "                                   zoom_range=0.2,\n",
        "                                   horizontal_flip=True,)\n",
        "\n",
        "test_datagen = ImageDataGenerator(rescale=1./255)\n",
        "\n",
        "train_generator = train_datagen.flow_from_directory(train_dir,\n",
        "                                                    target_size=(150, 150),\n",
        "                                                    batch_size=10,\n",
        "                                                    class_mode='binary')\n",
        "\n",
        "validation_generator = test_datagen.flow_from_directory(validation_dir,\n",
        "                                                        target_size=(150, 150),\n",
        "                                                        batch_size=10,\n",
        "                                                        class_mode='binary')\n",
        "\n",
        "history = model.fit_generator(train_generator,\n",
        "                              steps_per_epoch=200,\n",
        "                              epochs=20,\n",
        "                              validation_data=validation_generator,\n",
        "                              validation_steps=100)"
      ],
      "execution_count": 33,
      "outputs": [
        {
          "output_type": "stream",
          "text": [
            "Found 2000 images belonging to 2 classes.\n",
            "Found 1000 images belonging to 2 classes.\n"
          ],
          "name": "stdout"
        },
        {
          "output_type": "stream",
          "text": [
            "/usr/local/lib/python3.7/dist-packages/tensorflow/python/keras/engine/training.py:1844: UserWarning: `Model.fit_generator` is deprecated and will be removed in a future version. Please use `Model.fit`, which supports generators.\n",
            "  warnings.warn('`Model.fit_generator` is deprecated and '\n"
          ],
          "name": "stderr"
        },
        {
          "output_type": "stream",
          "text": [
            "Epoch 1/20\n",
            "200/200 [==============================] - 18s 87ms/step - loss: 0.5959 - acc: 0.7075 - val_loss: 0.5287 - val_acc: 0.7570\n",
            "Epoch 2/20\n",
            "200/200 [==============================] - 17s 86ms/step - loss: 0.5851 - acc: 0.7105 - val_loss: 0.5628 - val_acc: 0.6930\n",
            "Epoch 3/20\n",
            "200/200 [==============================] - 17s 86ms/step - loss: 0.5725 - acc: 0.7165 - val_loss: 0.5390 - val_acc: 0.7520\n",
            "Epoch 4/20\n",
            "200/200 [==============================] - 17s 86ms/step - loss: 0.5757 - acc: 0.7120 - val_loss: 0.5273 - val_acc: 0.7410\n",
            "Epoch 5/20\n",
            "200/200 [==============================] - 17s 86ms/step - loss: 0.5854 - acc: 0.7120 - val_loss: 0.5320 - val_acc: 0.7130\n",
            "Epoch 6/20\n",
            "200/200 [==============================] - 17s 86ms/step - loss: 0.5780 - acc: 0.7175 - val_loss: 0.5818 - val_acc: 0.6900\n",
            "Epoch 7/20\n",
            "200/200 [==============================] - 17s 86ms/step - loss: 0.5957 - acc: 0.7055 - val_loss: 0.5465 - val_acc: 0.7730\n",
            "Epoch 8/20\n",
            "200/200 [==============================] - 17s 87ms/step - loss: 0.5835 - acc: 0.7130 - val_loss: 0.6210 - val_acc: 0.6520\n",
            "Epoch 9/20\n",
            "200/200 [==============================] - 17s 86ms/step - loss: 0.5712 - acc: 0.7190 - val_loss: 0.5282 - val_acc: 0.7360\n",
            "Epoch 10/20\n",
            "200/200 [==============================] - 17s 87ms/step - loss: 0.5786 - acc: 0.7165 - val_loss: 1.8120 - val_acc: 0.6570\n",
            "Epoch 11/20\n",
            "200/200 [==============================] - 17s 85ms/step - loss: 0.6047 - acc: 0.7200 - val_loss: 0.5397 - val_acc: 0.7320\n",
            "Epoch 12/20\n",
            "200/200 [==============================] - 17s 86ms/step - loss: 0.5840 - acc: 0.7335 - val_loss: 0.4632 - val_acc: 0.7820\n",
            "Epoch 13/20\n",
            "200/200 [==============================] - 17s 86ms/step - loss: 0.5762 - acc: 0.7220 - val_loss: 0.5157 - val_acc: 0.7730\n",
            "Epoch 14/20\n",
            "200/200 [==============================] - 17s 86ms/step - loss: 0.5970 - acc: 0.7310 - val_loss: 0.5088 - val_acc: 0.7660\n",
            "Epoch 15/20\n",
            "200/200 [==============================] - 17s 86ms/step - loss: 0.5667 - acc: 0.7315 - val_loss: 0.5218 - val_acc: 0.7680\n",
            "Epoch 16/20\n",
            "200/200 [==============================] - 17s 86ms/step - loss: 0.5754 - acc: 0.7290 - val_loss: 0.4857 - val_acc: 0.7770\n",
            "Epoch 17/20\n",
            "200/200 [==============================] - 17s 86ms/step - loss: 0.5805 - acc: 0.7140 - val_loss: 0.5762 - val_acc: 0.7160\n",
            "Epoch 18/20\n",
            "200/200 [==============================] - 17s 87ms/step - loss: 0.5603 - acc: 0.7420 - val_loss: 0.5399 - val_acc: 0.7540\n",
            "Epoch 19/20\n",
            "200/200 [==============================] - 17s 86ms/step - loss: 0.5846 - acc: 0.7150 - val_loss: 0.5209 - val_acc: 0.7840\n",
            "Epoch 20/20\n",
            "200/200 [==============================] - 17s 86ms/step - loss: 0.5780 - acc: 0.7330 - val_loss: 0.5200 - val_acc: 0.7580\n"
          ],
          "name": "stdout"
        }
      ]
    },
    {
      "cell_type": "markdown",
      "metadata": {
        "id": "BRdU5yrkUF_b"
      },
      "source": [
        "# Task 2:\n",
        "\n",
        "We have used Dropout to enhance the performance of the CNN model. Can you please use whatever you like to further enhance the performance from `val_acc: 0.7506`? "
      ]
    },
    {
      "cell_type": "code",
      "metadata": {
        "id": "Zai6ITdm8eGL"
      },
      "source": [
        "from keras import layers\r\n",
        "from keras import models\r\n",
        "from keras import optimizers\r\n",
        "from keras import regularizers\r\n",
        "\r\n",
        "\r\n",
        "model = models.Sequential()\r\n",
        "model.add(layers.Conv2D(32, (3, 3), activation='relu',\r\n",
        "input_shape=(150, 150, 3)))\r\n",
        "model.add(layers.MaxPooling2D((2, 2)))\r\n",
        "model.add(layers.Conv2D(64, (3, 3), activation='relu'))\r\n",
        "model.add(layers.MaxPooling2D((2, 2)))\r\n",
        "model.add(layers.Conv2D(128, (3, 3), activation='relu'))\r\n",
        "model.add(layers.MaxPooling2D((2, 2)))\r\n",
        "model.add(layers.Conv2D(128, (3, 3), activation='relu'))\r\n",
        "model.add(layers.MaxPooling2D((2, 2)))\r\n",
        "model.add(layers.Conv2D(128, (3, 3), activation='relu'))\r\n",
        "model.add(layers.MaxPooling2D((2, 2)))\r\n",
        "model.add(layers.Flatten())\r\n",
        "model.add(layers.Dropout(0.5))\r\n",
        "model.add(layers.Dense(512, activation='relu'))\r\n",
        "model.add(layers.Dense(1, activation='sigmoid'))\r\n",
        "\r\n",
        "model.compile(loss='binary_crossentropy',\r\n",
        "              optimizer=optimizers.RMSprop(lr=0.0001),\r\n",
        "              metrics=['acc'])\r\n",
        "\r\n"
      ],
      "execution_count": 44,
      "outputs": []
    },
    {
      "cell_type": "code",
      "metadata": {
        "colab": {
          "base_uri": "https://localhost:8080/"
        },
        "id": "hEviNoOlwuZ8",
        "outputId": "9c0d9e19-734c-413d-a521-2ded09339ec9"
      },
      "source": [
        "from keras.preprocessing.image import ImageDataGenerator\r\n",
        "from keras import callbacks\r\n",
        "\r\n",
        "\r\n",
        "\r\n",
        "train_datagen = ImageDataGenerator(rescale=1./255,\r\n",
        "                                   rotation_range=40,\r\n",
        "                                   width_shift_range=0.2,\r\n",
        "                                   height_shift_range=0.2,\r\n",
        "                                   shear_range=0.2,\r\n",
        "                                   zoom_range=0.2,\r\n",
        "                                   horizontal_flip=True,)\r\n",
        "\r\n",
        "test_datagen = ImageDataGenerator(rescale=1./255)\r\n",
        "\r\n",
        "train_generator = train_datagen.flow_from_directory(train_dir,\r\n",
        "                                                    target_size=(150, 150),\r\n",
        "                                                    batch_size=10,\r\n",
        "                                                    class_mode='binary')\r\n",
        "\r\n",
        "validation_generator = test_datagen.flow_from_directory(validation_dir,\r\n",
        "                                                        target_size=(150, 150),\r\n",
        "                                                        batch_size=10,\r\n",
        "                                                        class_mode='binary')\r\n",
        "\r\n",
        "history = model.fit_generator(train_generator,\r\n",
        "                              steps_per_epoch=200,\r\n",
        "                              epochs=20,\r\n",
        "                              validation_data=validation_generator,\r\n",
        "                              validation_steps=100)\r\n",
        "\r\n"
      ],
      "execution_count": 46,
      "outputs": [
        {
          "output_type": "stream",
          "text": [
            "Found 2000 images belonging to 2 classes.\n",
            "Found 1000 images belonging to 2 classes.\n",
            "Epoch 1/20\n",
            "  1/200 [..............................] - ETA: 17s - loss: 0.5092 - acc: 0.7000"
          ],
          "name": "stdout"
        },
        {
          "output_type": "stream",
          "text": [
            "/usr/local/lib/python3.7/dist-packages/tensorflow/python/keras/engine/training.py:1844: UserWarning: `Model.fit_generator` is deprecated and will be removed in a future version. Please use `Model.fit`, which supports generators.\n",
            "  warnings.warn('`Model.fit_generator` is deprecated and '\n"
          ],
          "name": "stderr"
        },
        {
          "output_type": "stream",
          "text": [
            "200/200 [==============================] - 18s 88ms/step - loss: 0.5584 - acc: 0.7270 - val_loss: 0.5597 - val_acc: 0.7140\n",
            "Epoch 2/20\n",
            "200/200 [==============================] - 17s 87ms/step - loss: 0.5587 - acc: 0.7130 - val_loss: 0.5292 - val_acc: 0.7320\n",
            "Epoch 3/20\n",
            "200/200 [==============================] - 17s 87ms/step - loss: 0.5536 - acc: 0.7145 - val_loss: 0.6045 - val_acc: 0.6820\n",
            "Epoch 4/20\n",
            "200/200 [==============================] - 17s 87ms/step - loss: 0.5458 - acc: 0.7250 - val_loss: 0.5241 - val_acc: 0.7390\n",
            "Epoch 5/20\n",
            "200/200 [==============================] - 18s 88ms/step - loss: 0.5444 - acc: 0.7320 - val_loss: 0.5110 - val_acc: 0.7510\n",
            "Epoch 6/20\n",
            "200/200 [==============================] - 17s 86ms/step - loss: 0.5339 - acc: 0.7285 - val_loss: 0.6888 - val_acc: 0.6380\n",
            "Epoch 7/20\n",
            "200/200 [==============================] - 18s 88ms/step - loss: 0.5376 - acc: 0.7400 - val_loss: 0.6016 - val_acc: 0.6730\n",
            "Epoch 8/20\n",
            "200/200 [==============================] - 17s 87ms/step - loss: 0.5247 - acc: 0.7340 - val_loss: 0.5127 - val_acc: 0.7520\n",
            "Epoch 9/20\n",
            "200/200 [==============================] - 17s 87ms/step - loss: 0.5144 - acc: 0.7610 - val_loss: 0.5422 - val_acc: 0.7360\n",
            "Epoch 10/20\n",
            "200/200 [==============================] - 17s 87ms/step - loss: 0.5134 - acc: 0.7520 - val_loss: 0.5158 - val_acc: 0.7400\n",
            "Epoch 11/20\n",
            "200/200 [==============================] - 17s 87ms/step - loss: 0.5262 - acc: 0.7375 - val_loss: 0.5040 - val_acc: 0.7540\n",
            "Epoch 12/20\n",
            "200/200 [==============================] - 17s 87ms/step - loss: 0.5129 - acc: 0.7575 - val_loss: 0.5056 - val_acc: 0.7570\n",
            "Epoch 13/20\n",
            "200/200 [==============================] - 17s 86ms/step - loss: 0.5089 - acc: 0.7460 - val_loss: 0.6131 - val_acc: 0.6880\n",
            "Epoch 14/20\n",
            "200/200 [==============================] - 17s 87ms/step - loss: 0.5131 - acc: 0.7530 - val_loss: 0.4849 - val_acc: 0.7630\n",
            "Epoch 15/20\n",
            "200/200 [==============================] - 17s 87ms/step - loss: 0.4891 - acc: 0.7645 - val_loss: 0.5233 - val_acc: 0.7360\n",
            "Epoch 16/20\n",
            "200/200 [==============================] - 17s 86ms/step - loss: 0.4960 - acc: 0.7635 - val_loss: 0.6077 - val_acc: 0.6970\n",
            "Epoch 17/20\n",
            "200/200 [==============================] - 17s 87ms/step - loss: 0.4816 - acc: 0.7655 - val_loss: 0.4966 - val_acc: 0.7610\n",
            "Epoch 18/20\n",
            "200/200 [==============================] - 17s 87ms/step - loss: 0.4951 - acc: 0.7680 - val_loss: 0.5578 - val_acc: 0.7510\n",
            "Epoch 19/20\n",
            "200/200 [==============================] - 17s 87ms/step - loss: 0.4979 - acc: 0.7645 - val_loss: 0.5116 - val_acc: 0.7590\n",
            "Epoch 20/20\n",
            "200/200 [==============================] - 17s 87ms/step - loss: 0.4871 - acc: 0.7690 - val_loss: 0.5980 - val_acc: 0.7040\n"
          ],
          "name": "stdout"
        }
      ]
    },
    {
      "cell_type": "code",
      "metadata": {
        "colab": {
          "base_uri": "https://localhost:8080/",
          "height": 545
        },
        "id": "-ge2t9AB2WNy",
        "outputId": "4da3a4e7-9183-4cad-d0d5-a12450a43cc5"
      },
      "source": [
        "import matplotlib.pyplot as plt\r\n",
        "\r\n",
        "acc = history.history['acc']\r\n",
        "val_acc = history.history['val_acc']\r\n",
        "loss = history.history['loss']\r\n",
        "val_loss = history.history['val_loss']\r\n",
        "\r\n",
        "epochs = range(1, len(acc) + 1)\r\n",
        "\r\n",
        "plt.plot(epochs, acc, 'bo', label='Training acc')\r\n",
        "plt.plot(epochs, val_acc, 'b', label='Validation acc')\r\n",
        "plt.title('Training and validation accuracy')\r\n",
        "plt.legend()\r\n",
        "\r\n",
        "plt.figure()\r\n",
        "\r\n",
        "plt.plot(epochs, loss, 'bo', label='Training loss')\r\n",
        "plt.plot(epochs, val_loss, 'b', label='Validation loss')\r\n",
        "plt.title('Training and validation loss')\r\n",
        "plt.legend()\r\n",
        "\r\n",
        "plt.show()"
      ],
      "execution_count": 40,
      "outputs": [
        {
          "output_type": "display_data",
          "data": {
            "image/png": "[encoded data removed]",
            "text/plain": [
              "<Figure size 432x288 with 1 Axes>"
            ]
          },
          "metadata": {
            "tags": [],
            "needs_background": "light"
          }
        },
        {
          "output_type": "display_data",
          "data": {
            "image/png": "[encoded data removed]",
            "text/plain": [
              "<Figure size 432x288 with 1 Axes>"
            ]
          },
          "metadata": {
            "tags": [],
            "needs_background": "light"
          }
        }
      ]
    }
  ]
}