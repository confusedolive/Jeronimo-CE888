{
  "nbformat": 4,
  "nbformat_minor": 0,
  "metadata": {
    "colab": {
      "name": "Untitled5.ipynb",
      "provenance": [],
      "authorship_tag": "ABX9TyNiMq/on9m5EnItC3+JzG1a",
      "include_colab_link": true
    },
    "kernelspec": {
      "name": "python3",
      "display_name": "Python 3"
    },
    "language_info": {
      "name": "python"
    }
  },
  "cells": [
    {
      "cell_type": "markdown",
      "metadata": {
        "id": "view-in-github",
        "colab_type": "text"
      },
      "source": [
        "<a href=\"https://colab.research.google.com/github/confusedolive/Jeronimo-CE888/blob/main/lab07/task3.ipynb\" target=\"_parent\"><img src=\"https://colab.research.google.com/assets/colab-badge.svg\" alt=\"Open In Colab\"/></a>"
      ]
    },
    {
      "cell_type": "markdown",
      "metadata": {
        "id": "OUONcL_NT4tF"
      },
      "source": [
        "\n",
        "##Task 3:\n",
        "Please consider this Time Series Prediction with LSTM Recurrent Neural Networks. We can see that the LSTM model in the code below has an average error of about 23 passengers (in thousands) on the training dataset, and about 53 passengers (in thousands) on the test dataset. Not that bad. Can you please improve the performance? Changed train / test size, number of neurons and improved perfromance\n",
        "\n",
        "#Dataset Discription\n",
        "The problem we are going to look at in this post is the International Airline Passengers prediction problem. This is a problem where, given a year and a month, the task is to predict the number of international airline passengers in units of 1,000. The data ranges from January 1949 to December 1960, or 12 years, with 144 observations."
      ]
    },
    {
      "cell_type": "code",
      "metadata": {
        "id": "v-qM1MELT3FG"
      },
      "source": [
        "from keras import layers, models\n",
        "from keras.datasets import mnist\n",
        "from keras.utils import to_categorical\n",
        "from keras.preprocessing.text import Tokenizer\n",
        "from keras.datasets import imdb\n",
        "from keras.preprocessing import sequence\n",
        "from keras.layers import Dense\n",
        "from keras.layers import Embedding, SimpleRNN\n",
        "import numpy\n",
        "import math\n",
        "import matplotlib.pyplot as plt\n",
        "from pandas import read_csv\n",
        "from keras.models import Sequential\n",
        "from keras.layers import Dense\n",
        "from keras.layers import LSTM\n",
        "from sklearn.preprocessing import MinMaxScaler\n",
        "from sklearn.metrics import mean_squared_error\n",
        "from keras.callbacks import EarlyStopping"
      ],
      "execution_count": 1,
      "outputs": []
    },
    {
      "cell_type": "markdown",
      "metadata": {
        "id": "mPJ5liENT_gM"
      },
      "source": [
        "convert an array of values into a dataset matrix"
      ]
    },
    {
      "cell_type": "code",
      "metadata": {
        "id": "sfaqXoSrT-68"
      },
      "source": [
        "def create_dataset(dataset, look_back=1):\n",
        "\tdataX, dataY = [], []\n",
        "\tfor i in range(len(dataset)-look_back-1):\n",
        "\t\ta = dataset[i:(i+look_back), 0]\n",
        "\t\tdataX.append(a)\n",
        "\t\tdataY.append(dataset[i + look_back, 0])\n",
        "\treturn numpy.array(dataX), numpy.array(dataY)\n",
        "# fix random seed for reproducibility\n",
        "numpy.random.seed(7)\n",
        "# load the dataset\n",
        "dataframe = read_csv('https://raw.githubusercontent.com/jbrownlee/Datasets/master/airline-passengers.csv', usecols=[1], engine='python')\n",
        "dataset = dataframe.values\n",
        "dataset = dataset.astype('float32')\n",
        "# normalize the dataset\n",
        "scaler = MinMaxScaler(feature_range=(0, 1))\n",
        "dataset = scaler.fit_transform(dataset)"
      ],
      "execution_count": 5,
      "outputs": []
    },
    {
      "cell_type": "markdown",
      "metadata": {
        "id": "M0RdsTa_UFU7"
      },
      "source": [
        "Normalize dataset adn reshape"
      ]
    },
    {
      "cell_type": "code",
      "metadata": {
        "id": "e89ILBQvUGyP"
      },
      "source": [
        "train_size = int(len(dataset) * 0.30) #change size of train and test size it showed an improvement in the model, anything below 30 train size would diminish the models abilities\n",
        "test_size = len(dataset) - train_size\n",
        "train, test = dataset[0:train_size,:], dataset[train_size:len(dataset),:]\n",
        "# reshape into X=t and Y=t+1\n",
        "look_back = 1\n",
        "trainX, trainY = create_dataset(train, look_back)\n",
        "testX, testY = create_dataset(test, look_back)\n",
        "# reshape input to be [samples, time steps, features]\n",
        "trainX = numpy.reshape(trainX, (trainX.shape[0], 1, trainX.shape[1]))\n",
        "testX = numpy.reshape(testX, (testX.shape[0], 1, testX.shape[1]))"
      ],
      "execution_count": 6,
      "outputs": []
    },
    {
      "cell_type": "code",
      "metadata": {
        "colab": {
          "base_uri": "https://localhost:8080/"
        },
        "id": "cXTt_icJUK5N",
        "outputId": "41da3f0b-cfa8-437e-9c7d-f4138c1346a4"
      },
      "source": [
        "callback = EarlyStopping(monitor='val_loss', patience=10, restore_best_weights=True) #Added callback to avoid overfitting\n",
        "# create and fit the LSTM network\n",
        "model = Sequential()\n",
        "model.add(LSTM(5, input_shape=(1, look_back))) #Five neurones performed better then 4\n",
        "model.add(Dense(1))\n",
        "model.compile(loss='mean_squared_error', optimizer='adam')\n",
        "mod = model.fit(trainX, trainY, epochs=100, batch_size=1, verbose=2, callbacks=callback, validation_data=(testX, testY)) #added validation to plot loss curve and address over or under fitting"
      ],
      "execution_count": 7,
      "outputs": [
        {
          "output_type": "stream",
          "text": [
            "Epoch 1/100\n",
            "41/41 - 2s - loss: 0.0081 - val_loss: 0.2000\n",
            "Epoch 2/100\n",
            "41/41 - 0s - loss: 0.0036 - val_loss: 0.1703\n",
            "Epoch 3/100\n",
            "41/41 - 0s - loss: 0.0029 - val_loss: 0.1580\n",
            "Epoch 4/100\n",
            "41/41 - 0s - loss: 0.0028 - val_loss: 0.1508\n",
            "Epoch 5/100\n",
            "41/41 - 0s - loss: 0.0028 - val_loss: 0.1464\n",
            "Epoch 6/100\n",
            "41/41 - 0s - loss: 0.0027 - val_loss: 0.1404\n",
            "Epoch 7/100\n",
            "41/41 - 0s - loss: 0.0027 - val_loss: 0.1403\n",
            "Epoch 8/100\n",
            "41/41 - 0s - loss: 0.0025 - val_loss: 0.1309\n",
            "Epoch 9/100\n",
            "41/41 - 0s - loss: 0.0025 - val_loss: 0.1294\n",
            "Epoch 10/100\n",
            "41/41 - 0s - loss: 0.0024 - val_loss: 0.1219\n",
            "Epoch 11/100\n",
            "41/41 - 0s - loss: 0.0024 - val_loss: 0.1182\n",
            "Epoch 12/100\n",
            "41/41 - 0s - loss: 0.0023 - val_loss: 0.1152\n",
            "Epoch 13/100\n",
            "41/41 - 0s - loss: 0.0023 - val_loss: 0.1120\n",
            "Epoch 14/100\n",
            "41/41 - 0s - loss: 0.0022 - val_loss: 0.1053\n",
            "Epoch 15/100\n",
            "41/41 - 0s - loss: 0.0022 - val_loss: 0.1035\n",
            "Epoch 16/100\n",
            "41/41 - 0s - loss: 0.0021 - val_loss: 0.0957\n",
            "Epoch 17/100\n",
            "41/41 - 0s - loss: 0.0021 - val_loss: 0.0934\n",
            "Epoch 18/100\n",
            "41/41 - 0s - loss: 0.0020 - val_loss: 0.0892\n",
            "Epoch 19/100\n",
            "41/41 - 0s - loss: 0.0019 - val_loss: 0.0857\n",
            "Epoch 20/100\n",
            "41/41 - 0s - loss: 0.0018 - val_loss: 0.0789\n",
            "Epoch 21/100\n",
            "41/41 - 0s - loss: 0.0018 - val_loss: 0.0747\n",
            "Epoch 22/100\n",
            "41/41 - 0s - loss: 0.0019 - val_loss: 0.0735\n",
            "Epoch 23/100\n",
            "41/41 - 0s - loss: 0.0018 - val_loss: 0.0675\n",
            "Epoch 24/100\n",
            "41/41 - 0s - loss: 0.0016 - val_loss: 0.0652\n",
            "Epoch 25/100\n",
            "41/41 - 0s - loss: 0.0016 - val_loss: 0.0588\n",
            "Epoch 26/100\n",
            "41/41 - 0s - loss: 0.0015 - val_loss: 0.0581\n",
            "Epoch 27/100\n",
            "41/41 - 0s - loss: 0.0015 - val_loss: 0.0517\n",
            "Epoch 28/100\n",
            "41/41 - 0s - loss: 0.0016 - val_loss: 0.0504\n",
            "Epoch 29/100\n",
            "41/41 - 0s - loss: 0.0014 - val_loss: 0.0455\n",
            "Epoch 30/100\n",
            "41/41 - 0s - loss: 0.0014 - val_loss: 0.0438\n",
            "Epoch 31/100\n",
            "41/41 - 0s - loss: 0.0014 - val_loss: 0.0411\n",
            "Epoch 32/100\n",
            "41/41 - 0s - loss: 0.0014 - val_loss: 0.0377\n",
            "Epoch 33/100\n",
            "41/41 - 0s - loss: 0.0013 - val_loss: 0.0346\n",
            "Epoch 34/100\n",
            "41/41 - 0s - loss: 0.0013 - val_loss: 0.0321\n",
            "Epoch 35/100\n",
            "41/41 - 0s - loss: 0.0012 - val_loss: 0.0272\n",
            "Epoch 36/100\n",
            "41/41 - 0s - loss: 0.0012 - val_loss: 0.0259\n",
            "Epoch 37/100\n",
            "41/41 - 0s - loss: 0.0011 - val_loss: 0.0247\n",
            "Epoch 38/100\n",
            "41/41 - 0s - loss: 0.0012 - val_loss: 0.0236\n",
            "Epoch 39/100\n",
            "41/41 - 0s - loss: 0.0011 - val_loss: 0.0214\n",
            "Epoch 40/100\n",
            "41/41 - 0s - loss: 0.0011 - val_loss: 0.0172\n",
            "Epoch 41/100\n",
            "41/41 - 0s - loss: 0.0010 - val_loss: 0.0183\n",
            "Epoch 42/100\n",
            "41/41 - 0s - loss: 0.0010 - val_loss: 0.0161\n",
            "Epoch 43/100\n",
            "41/41 - 0s - loss: 0.0010 - val_loss: 0.0139\n",
            "Epoch 44/100\n",
            "41/41 - 0s - loss: 9.9275e-04 - val_loss: 0.0131\n",
            "Epoch 45/100\n",
            "41/41 - 0s - loss: 0.0010 - val_loss: 0.0112\n",
            "Epoch 46/100\n",
            "41/41 - 0s - loss: 9.7618e-04 - val_loss: 0.0106\n",
            "Epoch 47/100\n",
            "41/41 - 0s - loss: 9.2054e-04 - val_loss: 0.0109\n",
            "Epoch 48/100\n",
            "41/41 - 0s - loss: 0.0010 - val_loss: 0.0098\n",
            "Epoch 49/100\n",
            "41/41 - 0s - loss: 0.0010 - val_loss: 0.0083\n",
            "Epoch 50/100\n",
            "41/41 - 0s - loss: 9.5960e-04 - val_loss: 0.0086\n",
            "Epoch 51/100\n",
            "41/41 - 0s - loss: 8.7859e-04 - val_loss: 0.0083\n",
            "Epoch 52/100\n",
            "41/41 - 0s - loss: 8.8209e-04 - val_loss: 0.0074\n",
            "Epoch 53/100\n",
            "41/41 - 0s - loss: 8.9695e-04 - val_loss: 0.0080\n",
            "Epoch 54/100\n",
            "41/41 - 0s - loss: 8.7584e-04 - val_loss: 0.0067\n",
            "Epoch 55/100\n",
            "41/41 - 0s - loss: 8.8481e-04 - val_loss: 0.0071\n",
            "Epoch 56/100\n",
            "41/41 - 0s - loss: 8.5517e-04 - val_loss: 0.0066\n",
            "Epoch 57/100\n",
            "41/41 - 0s - loss: 8.6272e-04 - val_loss: 0.0064\n",
            "Epoch 58/100\n",
            "41/41 - 0s - loss: 8.5502e-04 - val_loss: 0.0066\n",
            "Epoch 59/100\n",
            "41/41 - 0s - loss: 8.7381e-04 - val_loss: 0.0063\n",
            "Epoch 60/100\n",
            "41/41 - 0s - loss: 8.6224e-04 - val_loss: 0.0061\n",
            "Epoch 61/100\n",
            "41/41 - 0s - loss: 8.5602e-04 - val_loss: 0.0061\n",
            "Epoch 62/100\n",
            "41/41 - 0s - loss: 8.7241e-04 - val_loss: 0.0063\n",
            "Epoch 63/100\n",
            "41/41 - 0s - loss: 8.7221e-04 - val_loss: 0.0060\n",
            "Epoch 64/100\n",
            "41/41 - 0s - loss: 8.5490e-04 - val_loss: 0.0061\n",
            "Epoch 65/100\n",
            "41/41 - 0s - loss: 8.2822e-04 - val_loss: 0.0061\n",
            "Epoch 66/100\n",
            "41/41 - 0s - loss: 8.5175e-04 - val_loss: 0.0061\n",
            "Epoch 67/100\n",
            "41/41 - 0s - loss: 8.9433e-04 - val_loss: 0.0061\n",
            "Epoch 68/100\n",
            "41/41 - 0s - loss: 8.5219e-04 - val_loss: 0.0061\n",
            "Epoch 69/100\n",
            "41/41 - 0s - loss: 8.4991e-04 - val_loss: 0.0062\n",
            "Epoch 70/100\n",
            "41/41 - 0s - loss: 8.4616e-04 - val_loss: 0.0062\n",
            "Epoch 71/100\n",
            "41/41 - 0s - loss: 8.3791e-04 - val_loss: 0.0062\n",
            "Epoch 72/100\n",
            "41/41 - 0s - loss: 8.4851e-04 - val_loss: 0.0062\n",
            "Epoch 73/100\n",
            "41/41 - 0s - loss: 8.1954e-04 - val_loss: 0.0062\n"
          ],
          "name": "stdout"
        }
      ]
    },
    {
      "cell_type": "code",
      "metadata": {
        "colab": {
          "base_uri": "https://localhost:8080/"
        },
        "id": "ca5cGzZ6UOzA",
        "outputId": "19ac11a6-17ec-401f-bf84-8516884ee1dc"
      },
      "source": [
        "# make predictions\n",
        "trainPredict = model.predict(trainX)\n",
        "testPredict = model.predict(testX)\n",
        "# invert predictions\n",
        "trainPredict = scaler.inverse_transform(trainPredict)\n",
        "trainY = scaler.inverse_transform([trainY])\n",
        "testPredict = scaler.inverse_transform(testPredict)\n",
        "testY = scaler.inverse_transform([testY])\n",
        "# calculate root mean squared error\n",
        "trainScore = math.sqrt(mean_squared_error(trainY[0], trainPredict[:,0]))\n",
        "print('Train Score: %.2f RMSE' % (trainScore))\n",
        "testScore = math.sqrt(mean_squared_error(testY[0], testPredict[:,0]))\n",
        "print('Test Score: %.2f RMSE' % (testScore))"
      ],
      "execution_count": 8,
      "outputs": [
        {
          "output_type": "stream",
          "text": [
            "Train Score: 14.99 RMSE\n",
            "Test Score: 40.01 RMSE\n"
          ],
          "name": "stdout"
        }
      ]
    },
    {
      "cell_type": "code",
      "metadata": {
        "colab": {
          "base_uri": "https://localhost:8080/",
          "height": 265
        },
        "id": "AHB9j_SOUQ1O",
        "outputId": "023f3d92-6a9a-4380-8602-a0be58facc6d"
      },
      "source": [
        "# shift train predictions for plotting\n",
        "trainPredictPlot = numpy.empty_like(dataset)\n",
        "trainPredictPlot[:, :] = numpy.nan\n",
        "trainPredictPlot[look_back:len(trainPredict)+look_back, :] = trainPredict\n",
        "# shift test predictions for plotting\n",
        "testPredictPlot = numpy.empty_like(dataset)\n",
        "testPredictPlot[:, :] = numpy.nan\n",
        "testPredictPlot[len(trainPredict)+(look_back*2)+1:len(dataset)-1, :] = testPredict\n",
        "# plot baseline and predictions\n",
        "plt.plot(scaler.inverse_transform(dataset))\n",
        "plt.plot(trainPredictPlot)\n",
        "plt.plot(testPredictPlot)\n",
        "plt.show()"
      ],
      "execution_count": 9,
      "outputs": [
        {
          "output_type": "display_data",
          "data": {
            "image/png": "[encoded data removed]",
            "text/plain": [
              "<Figure size 432x288 with 1 Axes>"
            ]
          },
          "metadata": {
            "tags": [],
            "needs_background": "light"
          }
        }
      ]
    },
    {
      "cell_type": "code",
      "metadata": {
        "colab": {
          "base_uri": "https://localhost:8080/",
          "height": 295
        },
        "id": "m1nqlRKxURmw",
        "outputId": "57a4081f-f6d9-4518-fe04-2ff72817dc1e"
      },
      "source": [
        "def plot_curve(metric, save=False, saveas='test'):\n",
        "    '''Plots the learning curve for the model\n",
        "    based on history, metric takes any acceptable metric\n",
        "    by the model e.g. Loss, if save is set to true\n",
        "    saves a copy of the graph under the name specified\n",
        "    in saveas by default is test'''\n",
        "    plt.plot(mod.history[metric], label=f'{metric} in training set')\n",
        "    plt.plot(mod.history[f'val_{metric}'],\n",
        "             label=f'{metric} in validation set')\n",
        "    plt.title(metric)\n",
        "    plt.ylabel('Value')\n",
        "    plt.xlabel('Epoch')\n",
        "    plt.legend()\n",
        "    if save:\n",
        "        plt.savefig(f'{saveas}')\n",
        "    plt.show()\n",
        "plot_curve('loss')"
      ],
      "execution_count": 10,
      "outputs": [
        {
          "output_type": "display_data",
          "data": {
            "image/png": "[encoded data removed]",
            "text/plain": [
              "<Figure size 432x288 with 1 Axes>"
            ]
          },
          "metadata": {
            "tags": [],
            "needs_background": "light"
          }
        }
      ]
    },
    {
      "cell_type": "markdown",
      "metadata": {
        "id": "cdOzJeOWojEp"
      },
      "source": [
        "Increased performance from train score : 22:64 RMSE Test score: 52.71 RMSE, \n",
        "to Train Score: 14.99 RMSE Test Score: 40.01 RMSE by changing train size to 30% , lstm layer neurons 5, and adding a callback monitoring validation loss with patience 5"
      ]
    },
    {
      "cell_type": "markdown",
      "metadata": {
        "id": "81HrCt2cjdNI"
      },
      "source": [
        "Testign with lookback sizes\n"
      ]
    },
    {
      "cell_type": "code",
      "metadata": {
        "colab": {
          "base_uri": "https://localhost:8080/"
        },
        "id": "LzOk9AEUjgHM",
        "outputId": "60581731-a8ae-4292-c775-8bf2587e67d3"
      },
      "source": [
        "def create_dataset(dataset, look_back=1):\n",
        "\tdataX, dataY = [], []\n",
        "\tfor i in range(len(dataset)-look_back-1):\n",
        "\t\ta = dataset[i:(i+look_back), 0]\n",
        "\t\tdataX.append(a)\n",
        "\t\tdataY.append(dataset[i + look_back, 0])\n",
        "\treturn numpy.array(dataX), numpy.array(dataY)\n",
        "# fix random seed for reproducibility\n",
        "numpy.random.seed(7)\n",
        "# load the dataset\n",
        "dataframe = read_csv('https://raw.githubusercontent.com/jbrownlee/Datasets/master/airline-passengers.csv', usecols=[1], engine='python')\n",
        "dataset = dataframe.values\n",
        "dataset = dataset.astype('float32')\n",
        "# normalize the dataset\n",
        "scaler = MinMaxScaler(feature_range=(0, 1))\n",
        "dataset = scaler.fit_transform(dataset)\n",
        "train_size = int(len(dataset) * 0.70) \n",
        "test_size = len(dataset) - train_size\n",
        "train, test = dataset[0:train_size,:], dataset[train_size:len(dataset),:]\n",
        "# reshape into X=t and Y=t+1\n",
        "look_back = 40 #changed lookback to 40 to see effec it has\n",
        "trainX, trainY = create_dataset(train, look_back)\n",
        "testX, testY = create_dataset(test, look_back)\n",
        "# reshape input to be [samples, time steps, features]\n",
        "trainX = numpy.reshape(trainX, (trainX.shape[0], 1, trainX.shape[1]))\n",
        "testX = numpy.reshape(testX, (testX.shape[0], 1, testX.shape[1]))\n",
        "callback = EarlyStopping(monitor='val_loss', patience=10, restore_best_weights=True) #Added callback to avoid overfitting\n",
        "# create and fit the LSTM network\n",
        "model = Sequential()\n",
        "model.add(LSTM(4, input_shape=(1, look_back))) \n",
        "model.add(Dense(1)) #increase numbered of neurons in dense layer\n",
        "model.compile(loss='mean_squared_error', optimizer='adam')\n",
        "mod = model.fit(trainX, trainY, epochs=100, batch_size=1, verbose=2, callbacks=callback, validation_data=(testX, testY)) #added validation to plot loss curve and address over or under fitting\n"
      ],
      "execution_count": 21,
      "outputs": [
        {
          "output_type": "stream",
          "text": [
            "Epoch 1/100\n",
            "59/59 - 2s - loss: 0.1158 - val_loss: 0.2925\n",
            "Epoch 2/100\n",
            "59/59 - 0s - loss: 0.0258 - val_loss: 0.0464\n",
            "Epoch 3/100\n",
            "59/59 - 0s - loss: 0.0079 - val_loss: 0.0228\n",
            "Epoch 4/100\n",
            "59/59 - 0s - loss: 0.0072 - val_loss: 0.0188\n",
            "Epoch 5/100\n",
            "59/59 - 0s - loss: 0.0069 - val_loss: 0.0195\n",
            "Epoch 6/100\n",
            "59/59 - 0s - loss: 0.0066 - val_loss: 0.0165\n",
            "Epoch 7/100\n",
            "59/59 - 0s - loss: 0.0063 - val_loss: 0.0137\n",
            "Epoch 8/100\n",
            "59/59 - 0s - loss: 0.0061 - val_loss: 0.0141\n",
            "Epoch 9/100\n",
            "59/59 - 0s - loss: 0.0054 - val_loss: 0.0161\n",
            "Epoch 10/100\n",
            "59/59 - 0s - loss: 0.0052 - val_loss: 0.0129\n",
            "Epoch 11/100\n",
            "59/59 - 0s - loss: 0.0048 - val_loss: 0.0120\n",
            "Epoch 12/100\n",
            "59/59 - 0s - loss: 0.0046 - val_loss: 0.0102\n",
            "Epoch 13/100\n",
            "59/59 - 0s - loss: 0.0040 - val_loss: 0.0072\n",
            "Epoch 14/100\n",
            "59/59 - 0s - loss: 0.0039 - val_loss: 0.0066\n",
            "Epoch 15/100\n",
            "59/59 - 0s - loss: 0.0035 - val_loss: 0.0057\n",
            "Epoch 16/100\n",
            "59/59 - 0s - loss: 0.0032 - val_loss: 0.0044\n",
            "Epoch 17/100\n",
            "59/59 - 0s - loss: 0.0030 - val_loss: 0.0042\n",
            "Epoch 18/100\n",
            "59/59 - 0s - loss: 0.0027 - val_loss: 0.0036\n",
            "Epoch 19/100\n",
            "59/59 - 0s - loss: 0.0025 - val_loss: 0.0034\n",
            "Epoch 20/100\n",
            "59/59 - 0s - loss: 0.0024 - val_loss: 0.0030\n",
            "Epoch 21/100\n",
            "59/59 - 0s - loss: 0.0021 - val_loss: 0.0043\n",
            "Epoch 22/100\n",
            "59/59 - 0s - loss: 0.0019 - val_loss: 0.0047\n",
            "Epoch 23/100\n",
            "59/59 - 0s - loss: 0.0018 - val_loss: 0.0024\n",
            "Epoch 24/100\n",
            "59/59 - 0s - loss: 0.0016 - val_loss: 0.0040\n",
            "Epoch 25/100\n",
            "59/59 - 0s - loss: 0.0015 - val_loss: 0.0039\n",
            "Epoch 26/100\n",
            "59/59 - 0s - loss: 0.0013 - val_loss: 0.0085\n",
            "Epoch 27/100\n",
            "59/59 - 0s - loss: 0.0014 - val_loss: 0.0039\n",
            "Epoch 28/100\n",
            "59/59 - 0s - loss: 0.0012 - val_loss: 0.0031\n",
            "Epoch 29/100\n",
            "59/59 - 0s - loss: 0.0011 - val_loss: 0.0066\n",
            "Epoch 30/100\n",
            "59/59 - 0s - loss: 0.0011 - val_loss: 0.0021\n",
            "Epoch 31/100\n",
            "59/59 - 0s - loss: 0.0011 - val_loss: 0.0028\n",
            "Epoch 32/100\n",
            "59/59 - 0s - loss: 0.0011 - val_loss: 0.0030\n",
            "Epoch 33/100\n",
            "59/59 - 0s - loss: 0.0011 - val_loss: 0.0069\n",
            "Epoch 34/100\n",
            "59/59 - 0s - loss: 0.0012 - val_loss: 0.0063\n",
            "Epoch 35/100\n",
            "59/59 - 0s - loss: 9.2253e-04 - val_loss: 0.0032\n",
            "Epoch 36/100\n",
            "59/59 - 0s - loss: 9.5806e-04 - val_loss: 0.0067\n",
            "Epoch 37/100\n",
            "59/59 - 0s - loss: 8.4255e-04 - val_loss: 0.0023\n",
            "Epoch 38/100\n",
            "59/59 - 0s - loss: 8.5875e-04 - val_loss: 0.0022\n",
            "Epoch 39/100\n",
            "59/59 - 0s - loss: 9.1343e-04 - val_loss: 0.0029\n",
            "Epoch 40/100\n",
            "59/59 - 0s - loss: 8.2302e-04 - val_loss: 0.0035\n"
          ],
          "name": "stdout"
        }
      ]
    },
    {
      "cell_type": "code",
      "metadata": {
        "colab": {
          "base_uri": "https://localhost:8080/",
          "height": 295
        },
        "id": "CwZ3x9dXjt_T",
        "outputId": "8e9def02-e000-47a4-fa28-409bdf00938d"
      },
      "source": [
        "plot_curve('loss')"
      ],
      "execution_count": 22,
      "outputs": [
        {
          "output_type": "display_data",
          "data": {
            "image/png": "[encoded data removed]",
            "text/plain": [
              "<Figure size 432x288 with 1 Axes>"
            ]
          },
          "metadata": {
            "tags": [],
            "needs_background": "light"
          }
        }
      ]
    },
    {
      "cell_type": "code",
      "metadata": {
        "colab": {
          "base_uri": "https://localhost:8080/"
        },
        "id": "B2HzGMADli7x",
        "outputId": "90c43d02-03a9-4f93-e202-4084d64d80a3"
      },
      "source": [
        "# make predictions\n",
        "trainPredict = model.predict(trainX)\n",
        "testPredict = model.predict(testX)\n",
        "# invert predictions\n",
        "trainPredict = scaler.inverse_transform(trainPredict)\n",
        "trainY = scaler.inverse_transform([trainY])\n",
        "testPredict = scaler.inverse_transform(testPredict)\n",
        "testY = scaler.inverse_transform([testY])\n",
        "# calculate root mean squared error\n",
        "trainScore = math.sqrt(mean_squared_error(trainY[0], trainPredict[:,0]))\n",
        "print('Train Score: %.2f RMSE' % (trainScore))\n",
        "testScore = math.sqrt(mean_squared_error(testY[0], testPredict[:,0]))\n",
        "print('Test Score: %.2f RMSE' % (testScore))"
      ],
      "execution_count": 23,
      "outputs": [
        {
          "output_type": "stream",
          "text": [
            "WARNING:tensorflow:5 out of the last 16 calls to <function Model.make_predict_function.<locals>.predict_function at 0x7f14e7f303b0> triggered tf.function retracing. Tracing is expensive and the excessive number of tracings could be due to (1) creating @tf.function repeatedly in a loop, (2) passing tensors with different shapes, (3) passing Python objects instead of tensors. For (1), please define your @tf.function outside of the loop. For (2), @tf.function has experimental_relax_shapes=True option that relaxes argument shapes that can avoid unnecessary retracing. For (3), please refer to https://www.tensorflow.org/guide/function#controlling_retracing and https://www.tensorflow.org/api_docs/python/tf/function for  more details.\n",
            "Train Score: 16.88 RMSE\n",
            "Test Score: 23.84 RMSE\n"
          ],
          "name": "stdout"
        }
      ]
    },
    {
      "cell_type": "code",
      "metadata": {
        "colab": {
          "base_uri": "https://localhost:8080/",
          "height": 265
        },
        "id": "0sPjuF2pmCdM",
        "outputId": "85485896-8d1d-4b7c-bc1b-c6a2d6ee19dc"
      },
      "source": [
        "# shift train predictions for plotting\n",
        "trainPredictPlot = numpy.empty_like(dataset)\n",
        "trainPredictPlot[:, :] = numpy.nan\n",
        "trainPredictPlot[look_back:len(trainPredict)+look_back, :] = trainPredict\n",
        "# shift test predictions for plotting\n",
        "testPredictPlot = numpy.empty_like(dataset)\n",
        "testPredictPlot[:, :] = numpy.nan\n",
        "testPredictPlot[len(trainPredict)+(look_back*2)+1:len(dataset)-1, :] = testPredict\n",
        "# plot baseline and predictions\n",
        "plt.plot(scaler.inverse_transform(dataset))\n",
        "plt.plot(trainPredictPlot)\n",
        "plt.plot(testPredictPlot)\n",
        "plt.show()"
      ],
      "execution_count": 24,
      "outputs": [
        {
          "output_type": "display_data",
          "data": {
            "image/png": "[encoded data removed]",
            "text/plain": [
              "<Figure size 432x288 with 1 Axes>"
            ]
          },
          "metadata": {
            "tags": [],
            "needs_background": "light"
          }
        }
      ]
    },
    {
      "cell_type": "markdown",
      "metadata": {
        "id": "rsxM0EcemTT_"
      },
      "source": [
        "Increased performance from train score : 22:64 RMSE Test score: 52.71 RMSE, \n",
        "to Train Score: 16.88 RMSE Test Score: 23.84 RMSE by changing lookback to 40, train size to 70% , lstm layer neurons 4, and adding a callback monitoring validation loss with patience 5"
      ]
    }
  ]
}