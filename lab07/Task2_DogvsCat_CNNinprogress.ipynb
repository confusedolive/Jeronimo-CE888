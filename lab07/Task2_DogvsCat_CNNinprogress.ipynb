{
  "nbformat": 4,
  "nbformat_minor": 0,
  "metadata": {
    "colab": {
      "name": "lab07Exercise2_DogvsCat_CNN.ipynb",
      "provenance": [],
      "toc_visible": true,
      "include_colab_link": true
    },
    "kernelspec": {
      "name": "python3",
      "display_name": "Python 3"
    },
    "accelerator": "GPU"
  },
  "cells": [
    {
      "cell_type": "markdown",
      "metadata": {
        "id": "view-in-github",
        "colab_type": "text"
      },
      "source": [
        "<a href=\"https://colab.research.google.com/github/confusedolive/Jeronimo-CE888/blob/main/lab07/Task2_DogvsCat_CNNinprogress.ipynb\" target=\"_parent\"><img src=\"https://colab.research.google.com/assets/colab-badge.svg\" alt=\"Open In Colab\"/></a>"
      ]
    },
    {
      "cell_type": "markdown",
      "metadata": {
        "id": "qTh9DiKVslsJ"
      },
      "source": [
        "## Dogs vs. Cats \n",
        "\n",
        "In this competition, you'll write an algorithm to classify whether images contain either a dog or a cat.  This is easy for humans, dogs, and cats. Your computer will find it a bit more difficult.\n",
        "\n",
        "![alt text](https://miro.medium.com/max/3000/1*bhFifratH9DjKqMBTeQG5A.gif)\n",
        "\n",
        "Ref: https://medium.com/@thegrigorian/rolling-in-the-deep-cnn-c8d3f7108c8c"
      ]
    },
    {
      "cell_type": "markdown",
      "metadata": {
        "id": "RSBI-_mSSY1g"
      },
      "source": [
        "Get your API Key from Kaggle using following steps:\n",
        "1. Login to [Kaggle](https://www.kaggle.com/) or Register if you don't have account\n",
        "2. Open Dataset (https://www.kaggle.com/c/dogs-vs-cats/rules) and accept terms and condition. \n",
        "3. On the top right corner click on your Icon and go to accounts and press a button \"Create New API Token\". It will download a JSON file containing your username and key. \n",
        "4. Now, paste both below. \n"
      ]
    },
    {
      "cell_type": "code",
      "metadata": {
        "id": "YmXSOc0tZIGA",
        "colab": {
          "base_uri": "https://localhost:8080/"
        },
        "outputId": "898010d4-4c3b-4873-9739-bb8a0dbd5281"
      },
      "source": [
        "import os\n",
        "os.environ['KAGGLE_USERNAME'] = 'jeroolivacano'\n",
        "os.environ['KAGGLE_KEY'] = 'f107275d3b4d14df4f799fee1183e8bd'\n",
        "!kaggle competitions download -c dogs-vs-cats"
      ],
      "execution_count": 1,
      "outputs": [
        {
          "output_type": "stream",
          "text": [
            "Warning: Looks like you're using an outdated API Version, please consider updating (server 1.5.12 / client 1.5.4)\n",
            "Downloading train.zip to /content\n",
            " 97% 526M/543M [00:03<00:00, 140MB/s]\n",
            "100% 543M/543M [00:03<00:00, 157MB/s]\n",
            "Downloading test1.zip to /content\n",
            " 98% 267M/271M [00:02<00:00, 96.9MB/s]\n",
            "100% 271M/271M [00:02<00:00, 95.3MB/s]\n",
            "Downloading sampleSubmission.csv to /content\n",
            "  0% 0.00/86.8k [00:00<?, ?B/s]\n",
            "100% 86.8k/86.8k [00:00<00:00, 90.2MB/s]\n"
          ],
          "name": "stdout"
        }
      ]
    },
    {
      "cell_type": "code",
      "metadata": {
        "id": "PiwIL8d1n7eS",
        "colab": {
          "base_uri": "https://localhost:8080/"
        },
        "outputId": "a57fa1c9-af4f-40e6-eab2-084165ad54c8"
      },
      "source": [
        "# Unzip training data\n",
        "from zipfile import ZipFile\n",
        "file_name = \"/content/train.zip\"\n",
        "with ZipFile(file_name, 'r') as zip:\n",
        "  zip.extractall()\n",
        "  print('done')"
      ],
      "execution_count": 2,
      "outputs": [
        {
          "output_type": "stream",
          "text": [
            "done\n"
          ],
          "name": "stdout"
        }
      ]
    },
    {
      "cell_type": "code",
      "metadata": {
        "id": "sa2Bj5i7pPKV",
        "colab": {
          "base_uri": "https://localhost:8080/"
        },
        "outputId": "6b42d6f8-482b-4d73-ac90-4003c235b59b"
      },
      "source": [
        "# Get all the paths\n",
        "data_dir_list = os.listdir('/content/train')\n",
        "#print(data_dir_list)\n",
        "path, dirs, files = next(os.walk(\"/content/train\"))\n",
        "file_count = len(files)\n",
        "print(file_count)"
      ],
      "execution_count": 3,
      "outputs": [
        {
          "output_type": "stream",
          "text": [
            "25000\n"
          ],
          "name": "stdout"
        }
      ]
    },
    {
      "cell_type": "code",
      "metadata": {
        "id": "0ERlHkfHqpK8",
        "colab": {
          "base_uri": "https://localhost:8080/",
          "height": 197
        },
        "outputId": "bcb8c496-375b-43f7-b3e6-13c8cd6b4b88"
      },
      "source": [
        "# Make new base directory\n",
        "original_dataset_dir = '/content/train'\n",
        "base_dir = '/content/cats_and_dogs_small'\n",
        "os.mkdir(base_dir)"
      ],
      "execution_count": 5,
      "outputs": [
        {
          "output_type": "error",
          "ename": "FileExistsError",
          "evalue": "ignored",
          "traceback": [
            "\u001b[0;31m---------------------------------------------------------------------------\u001b[0m",
            "\u001b[0;31mFileExistsError\u001b[0m                           Traceback (most recent call last)",
            "\u001b[0;32m<ipython-input-5-b62abd036009>\u001b[0m in \u001b[0;36m<module>\u001b[0;34m()\u001b[0m\n\u001b[1;32m      2\u001b[0m \u001b[0moriginal_dataset_dir\u001b[0m \u001b[0;34m=\u001b[0m \u001b[0;34m'/content/train'\u001b[0m\u001b[0;34m\u001b[0m\u001b[0;34m\u001b[0m\u001b[0m\n\u001b[1;32m      3\u001b[0m \u001b[0mbase_dir\u001b[0m \u001b[0;34m=\u001b[0m \u001b[0;34m'/content/cats_and_dogs_small'\u001b[0m\u001b[0;34m\u001b[0m\u001b[0;34m\u001b[0m\u001b[0m\n\u001b[0;32m----> 4\u001b[0;31m \u001b[0mos\u001b[0m\u001b[0;34m.\u001b[0m\u001b[0mmkdir\u001b[0m\u001b[0;34m(\u001b[0m\u001b[0mbase_dir\u001b[0m\u001b[0;34m)\u001b[0m\u001b[0;34m\u001b[0m\u001b[0;34m\u001b[0m\u001b[0m\n\u001b[0m",
            "\u001b[0;31mFileExistsError\u001b[0m: [Errno 17] File exists: '/content/cats_and_dogs_small'"
          ]
        }
      ]
    },
    {
      "cell_type": "code",
      "metadata": {
        "id": "AANB1UJ6rQhM"
      },
      "source": [
        "train_dir = os.path.join(base_dir, 'train')\n",
        "os.mkdir(train_dir)\n",
        "\n",
        "validation_dir = os.path.join(base_dir, 'validation')\n",
        "os.mkdir(validation_dir)\n",
        "\n",
        "test_dir = os.path.join(base_dir, 'test')\n",
        "os.mkdir(test_dir)\n",
        "\n",
        "train_cats_dir = os.path.join(train_dir, 'cats')\n",
        "os.mkdir(train_cats_dir)\n",
        "\n",
        "train_dogs_dir = os.path.join(train_dir, 'dogs')\n",
        "os.mkdir(train_dogs_dir)\n",
        "\n",
        "validation_cats_dir = os.path.join(validation_dir, 'cats')\n",
        "os.mkdir(validation_cats_dir)\n",
        "\n",
        "validation_dogs_dir = os.path.join(validation_dir, 'dogs')\n",
        "os.mkdir(validation_dogs_dir)\n",
        "\n",
        "test_cats_dir = os.path.join(test_dir, 'cats')\n",
        "os.mkdir(test_cats_dir)\n",
        "\n",
        "test_dogs_dir = os.path.join(test_dir, 'dogs')\n",
        "os.mkdir(test_dogs_dir)"
      ],
      "execution_count": 6,
      "outputs": []
    },
    {
      "cell_type": "code",
      "metadata": {
        "id": "ULRgL9s9rV8T"
      },
      "source": [
        "import shutil\n",
        "fnames = ['cat.{}.jpg'.format(i) for i in range(1000)]\n",
        "for fname in fnames:\n",
        "    src = os.path.join(original_dataset_dir, fname)\n",
        "    dst = os.path.join(train_cats_dir, fname)\n",
        "    #print(src,dst)\n",
        "    shutil.copyfile(src, dst)\n",
        "    \n",
        "fnames = ['cat.{}.jpg'.format(i) for i in range(1000, 1500)]\n",
        "for fname in fnames:\n",
        "    src = os.path.join(original_dataset_dir, fname)\n",
        "    dst = os.path.join(validation_cats_dir, fname)\n",
        "    shutil.copyfile(src, dst)\n",
        "\n",
        "fnames = ['cat.{}.jpg'.format(i) for i in range(1500, 2000)]\n",
        "for fname in fnames:\n",
        "    src = os.path.join(original_dataset_dir, fname)\n",
        "    dst = os.path.join(test_cats_dir, fname)\n",
        "    shutil.copyfile(src, dst)\n",
        "    \n",
        "fnames = ['dog.{}.jpg'.format(i) for i in range(1000)]\n",
        "for fname in fnames:\n",
        "    src = os.path.join(original_dataset_dir, fname)\n",
        "    dst = os.path.join(train_dogs_dir, fname)\n",
        "    shutil.copyfile(src, dst)\n",
        "\n",
        "fnames = ['dog.{}.jpg'.format(i) for i in range(1000, 1500)]\n",
        "for fname in fnames:\n",
        "    src = os.path.join(original_dataset_dir, fname)\n",
        "    dst = os.path.join(validation_dogs_dir, fname)\n",
        "    shutil.copyfile(src, dst)\n",
        "\n",
        "fnames = ['dog.{}.jpg'.format(i) for i in range(1500, 2000)]\n",
        "for fname in fnames:\n",
        "    src = os.path.join(original_dataset_dir, fname)\n",
        "    dst = os.path.join(test_dogs_dir, fname)\n",
        "    shutil.copyfile(src, dst)"
      ],
      "execution_count": 7,
      "outputs": []
    },
    {
      "cell_type": "code",
      "metadata": {
        "id": "ul3XAbIyr7vC",
        "colab": {
          "base_uri": "https://localhost:8080/"
        },
        "outputId": "e95e5827-2d2c-44a4-b008-bb1826b10b97"
      },
      "source": [
        "print('total training cat images:', len(os.listdir(train_cats_dir)))\n",
        "print('total training dog images:', len(os.listdir(train_dogs_dir)))\n",
        "print('total validation cat images:', len(os.listdir(validation_cats_dir)))\n",
        "\n",
        "print('total validation dog images:', len(os.listdir(validation_dogs_dir)))\n",
        "print('total test cat images:', len(os.listdir(test_cats_dir)))\n",
        "print('total test dog images:', len(os.listdir(test_dogs_dir)))"
      ],
      "execution_count": 8,
      "outputs": [
        {
          "output_type": "stream",
          "text": [
            "total training cat images: 1000\n",
            "total training dog images: 1000\n",
            "total validation cat images: 500\n",
            "total validation dog images: 500\n",
            "total test cat images: 500\n",
            "total test dog images: 500\n"
          ],
          "name": "stdout"
        }
      ]
    },
    {
      "cell_type": "code",
      "metadata": {
        "id": "o9yTA21_r-ma",
        "colab": {
          "base_uri": "https://localhost:8080/"
        },
        "outputId": "d480c804-37a2-41c0-d143-774c0d37c241"
      },
      "source": [
        "from keras import layers\n",
        "from keras import models\n",
        "\n",
        "model = models.Sequential()\n",
        "model.add(layers.Conv2D(32, (3, 3), activation='relu', input_shape=(150, 150, 3)))\n",
        "model.add(layers.MaxPooling2D((2, 2)))\n",
        "model.add(layers.Conv2D(64, (3, 3), activation='relu'))\n",
        "model.add(layers.MaxPooling2D((2, 2)))\n",
        "model.add(layers.Conv2D(128, (3, 3), activation='relu'))\n",
        "model.add(layers.MaxPooling2D((2, 2)))\n",
        "model.add(layers.Conv2D(128, (3, 3), activation='relu'))\n",
        "model.add(layers.MaxPooling2D((2, 2)))\n",
        "model.add(layers.Flatten())\n",
        "model.add(layers.Dense(512, activation='relu'))\n",
        "model.add(layers.Dense(1, activation='sigmoid'))\n",
        "model.summary()"
      ],
      "execution_count": 9,
      "outputs": [
        {
          "output_type": "stream",
          "text": [
            "Model: \"sequential\"\n",
            "_________________________________________________________________\n",
            "Layer (type)                 Output Shape              Param #   \n",
            "=================================================================\n",
            "conv2d (Conv2D)              (None, 148, 148, 32)      896       \n",
            "_________________________________________________________________\n",
            "max_pooling2d (MaxPooling2D) (None, 74, 74, 32)        0         \n",
            "_________________________________________________________________\n",
            "conv2d_1 (Conv2D)            (None, 72, 72, 64)        18496     \n",
            "_________________________________________________________________\n",
            "max_pooling2d_1 (MaxPooling2 (None, 36, 36, 64)        0         \n",
            "_________________________________________________________________\n",
            "conv2d_2 (Conv2D)            (None, 34, 34, 128)       73856     \n",
            "_________________________________________________________________\n",
            "max_pooling2d_2 (MaxPooling2 (None, 17, 17, 128)       0         \n",
            "_________________________________________________________________\n",
            "conv2d_3 (Conv2D)            (None, 15, 15, 128)       147584    \n",
            "_________________________________________________________________\n",
            "max_pooling2d_3 (MaxPooling2 (None, 7, 7, 128)         0         \n",
            "_________________________________________________________________\n",
            "flatten (Flatten)            (None, 6272)              0         \n",
            "_________________________________________________________________\n",
            "dense (Dense)                (None, 512)               3211776   \n",
            "_________________________________________________________________\n",
            "dense_1 (Dense)              (None, 1)                 513       \n",
            "=================================================================\n",
            "Total params: 3,453,121\n",
            "Trainable params: 3,453,121\n",
            "Non-trainable params: 0\n",
            "_________________________________________________________________\n"
          ],
          "name": "stdout"
        }
      ]
    },
    {
      "cell_type": "code",
      "metadata": {
        "id": "2mG8wekxsBVS"
      },
      "source": [
        "from keras import optimizers\n",
        "model.compile(loss='binary_crossentropy', \n",
        "              optimizer=optimizers.RMSprop(lr=1e-4),\n",
        "              metrics=['acc'])"
      ],
      "execution_count": 10,
      "outputs": []
    },
    {
      "cell_type": "markdown",
      "metadata": {
        "id": "7zS4Klm8qWp6"
      },
      "source": [
        "## Using ImageDataGenerator to read images from directories\n",
        "As you know by now, data should be formatted into appropriately preprocessed floatingpoint tensors before being fed into the network. Currently, the data sits on a drive as JPEG files, so the steps for getting it into the network are roughly as follows:\n",
        "\n",
        "* Read the picture files.\n",
        "* Decode the JPEG content to RGB grids of pixels.\n",
        "* Convert these into floating-point tensors.\n",
        "* Rescale the pixel values (between 0 and 255) to the [0, 1] interval (as you know, neural networks prefer to deal with small input values).\n",
        "\n",
        "It may seem a bit daunting, but fortunately Keras has utilities to take care of these steps automatically. Keras has a module with image-processing helper tools, located at keras.preprocessing.image. In particular, it contains the class ImageDataGenerator,which lets you quickly set up Python generators that can automatically turn image files on disk into batches of preprocessed tensors."
      ]
    },
    {
      "cell_type": "code",
      "metadata": {
        "id": "XJ7XU7t9sEh6",
        "colab": {
          "base_uri": "https://localhost:8080/"
        },
        "outputId": "5c4081b7-a0e9-4b30-9011-84b35d0f00d6"
      },
      "source": [
        "from keras.preprocessing.image import ImageDataGenerator\n",
        "\n",
        "train_datagen = ImageDataGenerator(rescale=1./255)\n",
        "test_datagen = ImageDataGenerator(rescale=1./255)\n",
        "\n",
        "train_generator = train_datagen.flow_from_directory(train_dir,\n",
        "                                                    target_size=(150, 150), \n",
        "                                                    batch_size=20,\n",
        "                                                    class_mode='binary')\n",
        "\n",
        "validation_generator = test_datagen.flow_from_directory(validation_dir,\n",
        "                                                        target_size=(150, 150),\n",
        "                                                        batch_size=20,\n",
        "                                                        class_mode='binary')"
      ],
      "execution_count": null,
      "outputs": [
        {
          "output_type": "stream",
          "text": [
            "Found 2000 images belonging to 2 classes.\n",
            "Found 1000 images belonging to 2 classes.\n"
          ],
          "name": "stdout"
        }
      ]
    },
    {
      "cell_type": "markdown",
      "metadata": {
        "id": "SEgLywySqm4u"
      },
      "source": [
        "Let’s fit the model to the data using the generator. You do so using the fit_generator method, the equivalent of fit for data generators like this one. It expects as its first argument a Python generator that will yield batches of inputs and targets indefinitely,like this one does. Because the data is being generated endlessly, the Keras model needs to know how many samples to draw from the generator before declaring anepoch over. This is the role of the `steps_per_epoch` argument: after having drawn `steps_per_epoch` batches from the generator—that is, after having run for `steps_per_epoch` gradient descent steps—the fitting process will go to the next epoch. In this case, batches are 20 samples, so it will take 100 batches until you see your target of 2,000 samples.\n",
        "\n",
        "When using fit_generator, you can pass a validation_data argument, much as with the fit method. It’s important to note that this argument is allowed to be a data generator, but it could also be a tuple of Numpy arrays. If you pass a generator as validation_data, then this generator is expected to yield batches of validation data endlessly; thus you should also specify the validation_steps argument, which tells the process how many batches to draw from the validation generator for evaluation."
      ]
    },
    {
      "cell_type": "code",
      "metadata": {
        "id": "yMyfPphJsJG6",
        "colab": {
          "base_uri": "https://localhost:8080/"
        },
        "outputId": "95ad8b83-f429-4045-b966-098f9b6eddc8"
      },
      "source": [
        "history = model.fit_generator(train_generator,\n",
        "                              steps_per_epoch=100,\n",
        "                              epochs=30,\n",
        "                              validation_data=validation_generator,\n",
        "                              validation_steps=10)"
      ],
      "execution_count": null,
      "outputs": [
        {
          "output_type": "stream",
          "text": [
            "/usr/local/lib/python3.7/dist-packages/tensorflow/python/keras/engine/training.py:1844: UserWarning: `Model.fit_generator` is deprecated and will be removed in a future version. Please use `Model.fit`, which supports generators.\n",
            "  warnings.warn('`Model.fit_generator` is deprecated and '\n"
          ],
          "name": "stderr"
        },
        {
          "output_type": "stream",
          "text": [
            "Epoch 1/30\n",
            "100/100 [==============================] - 40s 67ms/step - loss: 0.7025 - acc: 0.5181 - val_loss: 0.6768 - val_acc: 0.5850\n",
            "Epoch 2/30\n",
            "100/100 [==============================] - 7s 65ms/step - loss: 0.6669 - acc: 0.5985 - val_loss: 0.6671 - val_acc: 0.6000\n",
            "Epoch 3/30\n",
            "100/100 [==============================] - 7s 66ms/step - loss: 0.6267 - acc: 0.6585 - val_loss: 0.6187 - val_acc: 0.6550\n",
            "Epoch 4/30\n",
            "100/100 [==============================] - 7s 65ms/step - loss: 0.5817 - acc: 0.6975 - val_loss: 0.5829 - val_acc: 0.7000\n",
            "Epoch 5/30\n",
            "100/100 [==============================] - 7s 66ms/step - loss: 0.5346 - acc: 0.7342 - val_loss: 0.5461 - val_acc: 0.7200\n",
            "Epoch 6/30\n",
            "100/100 [==============================] - 7s 66ms/step - loss: 0.5212 - acc: 0.7430 - val_loss: 0.5732 - val_acc: 0.6700\n",
            "Epoch 7/30\n",
            "100/100 [==============================] - 7s 66ms/step - loss: 0.4830 - acc: 0.7606 - val_loss: 0.6504 - val_acc: 0.6800\n",
            "Epoch 8/30\n",
            "100/100 [==============================] - 7s 67ms/step - loss: 0.4529 - acc: 0.7809 - val_loss: 0.5698 - val_acc: 0.7000\n",
            "Epoch 9/30\n",
            "100/100 [==============================] - 7s 66ms/step - loss: 0.4149 - acc: 0.8199 - val_loss: 0.6036 - val_acc: 0.6800\n",
            "Epoch 10/30\n",
            "100/100 [==============================] - 7s 66ms/step - loss: 0.3974 - acc: 0.8207 - val_loss: 0.5286 - val_acc: 0.7400\n",
            "Epoch 11/30\n",
            "100/100 [==============================] - 7s 68ms/step - loss: 0.3692 - acc: 0.8353 - val_loss: 0.5717 - val_acc: 0.6950\n",
            "Epoch 12/30\n",
            "100/100 [==============================] - 7s 68ms/step - loss: 0.3293 - acc: 0.8510 - val_loss: 0.5781 - val_acc: 0.7200\n",
            "Epoch 13/30\n",
            "100/100 [==============================] - 7s 67ms/step - loss: 0.3180 - acc: 0.8679 - val_loss: 0.5625 - val_acc: 0.7250\n",
            "Epoch 14/30\n",
            "100/100 [==============================] - 7s 68ms/step - loss: 0.2971 - acc: 0.8816 - val_loss: 0.5819 - val_acc: 0.7500\n",
            "Epoch 15/30\n",
            "100/100 [==============================] - 7s 68ms/step - loss: 0.2667 - acc: 0.8874 - val_loss: 0.6290 - val_acc: 0.7050\n",
            "Epoch 16/30\n",
            "100/100 [==============================] - 7s 67ms/step - loss: 0.2465 - acc: 0.9118 - val_loss: 0.7211 - val_acc: 0.6950\n",
            "Epoch 17/30\n",
            "100/100 [==============================] - 7s 68ms/step - loss: 0.2245 - acc: 0.9194 - val_loss: 0.5781 - val_acc: 0.7650\n",
            "Epoch 18/30\n",
            "100/100 [==============================] - 7s 67ms/step - loss: 0.2060 - acc: 0.9228 - val_loss: 0.6575 - val_acc: 0.7050\n",
            "Epoch 19/30\n",
            "100/100 [==============================] - 7s 67ms/step - loss: 0.1918 - acc: 0.9303 - val_loss: 0.6784 - val_acc: 0.7200\n",
            "Epoch 20/30\n",
            "100/100 [==============================] - 7s 65ms/step - loss: 0.1522 - acc: 0.9536 - val_loss: 1.0874 - val_acc: 0.6950\n",
            "Epoch 21/30\n",
            "100/100 [==============================] - 7s 65ms/step - loss: 0.1767 - acc: 0.9342 - val_loss: 0.7149 - val_acc: 0.7400\n",
            "Epoch 22/30\n",
            "100/100 [==============================] - 7s 66ms/step - loss: 0.1329 - acc: 0.9578 - val_loss: 0.7391 - val_acc: 0.7400\n",
            "Epoch 23/30\n",
            "100/100 [==============================] - 7s 67ms/step - loss: 0.1181 - acc: 0.9589 - val_loss: 0.7322 - val_acc: 0.7500\n",
            "Epoch 24/30\n",
            "100/100 [==============================] - 7s 66ms/step - loss: 0.1037 - acc: 0.9660 - val_loss: 0.8230 - val_acc: 0.7400\n",
            "Epoch 25/30\n",
            "100/100 [==============================] - 7s 65ms/step - loss: 0.0728 - acc: 0.9822 - val_loss: 0.7502 - val_acc: 0.7450\n",
            "Epoch 26/30\n",
            "100/100 [==============================] - 7s 66ms/step - loss: 0.0661 - acc: 0.9855 - val_loss: 0.9497 - val_acc: 0.7300\n",
            "Epoch 27/30\n",
            "100/100 [==============================] - 7s 65ms/step - loss: 0.0615 - acc: 0.9819 - val_loss: 0.7097 - val_acc: 0.7850\n",
            "Epoch 28/30\n",
            "100/100 [==============================] - 7s 66ms/step - loss: 0.0535 - acc: 0.9876 - val_loss: 0.8334 - val_acc: 0.7550\n",
            "Epoch 29/30\n",
            "100/100 [==============================] - 7s 67ms/step - loss: 0.0528 - acc: 0.9878 - val_loss: 0.9818 - val_acc: 0.7000\n",
            "Epoch 30/30\n",
            "100/100 [==============================] - 7s 66ms/step - loss: 0.0353 - acc: 0.9929 - val_loss: 0.9964 - val_acc: 0.7450\n"
          ],
          "name": "stdout"
        }
      ]
    },
    {
      "cell_type": "code",
      "metadata": {
        "id": "MZaZ2HWZsNUi",
        "colab": {
          "base_uri": "https://localhost:8080/",
          "height": 545
        },
        "outputId": "e1c8d929-d45e-40dd-de2a-e9d936fa92d2"
      },
      "source": [
        "model.save('cats_and_dogs_small_1.h5')\n",
        "\n",
        "import matplotlib.pyplot as plt\n",
        "\n",
        "acc = history.history['acc']\n",
        "val_acc = history.history['val_acc']\n",
        "loss = history.history['loss']\n",
        "val_loss = history.history['val_loss']\n",
        "\n",
        "epochs = range(1, len(acc) + 1)\n",
        "\n",
        "plt.plot(epochs, acc, 'bo', label='Training acc')\n",
        "plt.plot(epochs, val_acc, 'b', label='Validation acc')\n",
        "plt.title('Training and validation accuracy')\n",
        "plt.legend()\n",
        "\n",
        "plt.figure()\n",
        "\n",
        "plt.plot(epochs, loss, 'bo', label='Training loss')\n",
        "plt.plot(epochs, val_loss, 'b', label='Validation loss')\n",
        "plt.title('Training and validation loss')\n",
        "plt.legend()\n",
        "\n",
        "plt.show()"
      ],
      "execution_count": null,
      "outputs": [
        {
          "output_type": "display_data",
          "data": {
            "image/png": "[encoded data removed]",
            "text/plain": [
              "<Figure size 432x288 with 1 Axes>"
            ]
          },
          "metadata": {
            "tags": [],
            "needs_background": "light"
          }
        },
        {
          "output_type": "display_data",
          "data": {
            "image/png": "[encoded data removed]",
            "text/plain": [
              "<Figure size 432x288 with 1 Axes>"
            ]
          },
          "metadata": {
            "tags": [],
            "needs_background": "light"
          }
        }
      ]
    },
    {
      "cell_type": "markdown",
      "metadata": {
        "id": "XKZmXmBcq_8-"
      },
      "source": [
        "## Convolutional Networks with Dropout\n",
        "\n",
        "![alt text](https://camo.githubusercontent.com/ee6fa1073247cd2c3d241300caf110d7a7541bc5/68747470733a2f2f63646e2d696d616765732d312e6d656469756d2e636f6d2f6d61782f3830302f312a4972644a355067684439596f4f7956415137334d4a772e676966)\n",
        "\n",
        "Ref: https://github.com/mneha4/Training-Neural-Nets---Guidelines"
      ]
    },
    {
      "cell_type": "code",
      "metadata": {
        "id": "wu3cqeYQrDeN"
      },
      "source": [
        "model = models.Sequential()\n",
        "model.add(layers.Conv2D(32, (3, 3), activation='relu',\n",
        "input_shape=(150, 150, 3)))\n",
        "model.add(layers.MaxPooling2D((2, 2)))\n",
        "model.add(layers.Conv2D(64, (3, 3), activation='relu'))\n",
        "model.add(layers.MaxPooling2D((2, 2)))\n",
        "model.add(layers.Conv2D(128, (3, 3), activation='relu'))\n",
        "model.add(layers.MaxPooling2D((2, 2)))\n",
        "model.add(layers.Conv2D(128, (3, 3), activation='relu'))\n",
        "model.add(layers.MaxPooling2D((2, 2)))\n",
        "model.add(layers.Flatten())\n",
        "model.add(layers.Dropout(0.5))\n",
        "model.add(layers.Dense(512, activation='relu'))\n",
        "model.add(layers.Dense(1, activation='sigmoid'))\n",
        "\n",
        "model.compile(loss='binary_crossentropy',\n",
        "              optimizer=optimizers.RMSprop(lr=1e-4),\n",
        "              metrics=['acc'])"
      ],
      "execution_count": null,
      "outputs": []
    },
    {
      "cell_type": "code",
      "metadata": {
        "id": "QSeLpvY0rH7F",
        "colab": {
          "base_uri": "https://localhost:8080/"
        },
        "outputId": "68bf56a8-a95f-402b-9e1f-a89ca2dd4617"
      },
      "source": [
        "train_datagen = ImageDataGenerator(rescale=1./255,\n",
        "                                   rotation_range=40,\n",
        "                                   width_shift_range=0.2,\n",
        "                                   height_shift_range=0.2,\n",
        "                                   shear_range=0.2,\n",
        "                                   zoom_range=0.2,\n",
        "                                   horizontal_flip=True,)\n",
        "\n",
        "test_datagen = ImageDataGenerator(rescale=1./255)\n",
        "\n",
        "train_generator = train_datagen.flow_from_directory(train_dir,\n",
        "                                                    target_size=(150, 150),\n",
        "                                                    batch_size=10,\n",
        "                                                    class_mode='binary')\n",
        "\n",
        "validation_generator = test_datagen.flow_from_directory(validation_dir,\n",
        "                                                        target_size=(150, 150),\n",
        "                                                        batch_size=10,\n",
        "                                                        class_mode='binary')\n",
        "\n",
        "history = model.fit_generator(train_generator,\n",
        "                              steps_per_epoch=200,\n",
        "                              epochs=20,\n",
        "                              validation_data=validation_generator,\n",
        "                              validation_steps=100)"
      ],
      "execution_count": null,
      "outputs": [
        {
          "output_type": "stream",
          "text": [
            "Found 2000 images belonging to 2 classes.\n",
            "Found 1000 images belonging to 2 classes.\n"
          ],
          "name": "stdout"
        },
        {
          "output_type": "stream",
          "text": [
            "/usr/local/lib/python3.7/dist-packages/tensorflow/python/keras/engine/training.py:1844: UserWarning: `Model.fit_generator` is deprecated and will be removed in a future version. Please use `Model.fit`, which supports generators.\n",
            "  warnings.warn('`Model.fit_generator` is deprecated and '\n"
          ],
          "name": "stderr"
        },
        {
          "output_type": "stream",
          "text": [
            "Epoch 1/20\n",
            "200/200 [==============================] - 18s 87ms/step - loss: 0.5959 - acc: 0.7075 - val_loss: 0.5287 - val_acc: 0.7570\n",
            "Epoch 2/20\n",
            "200/200 [==============================] - 17s 86ms/step - loss: 0.5851 - acc: 0.7105 - val_loss: 0.5628 - val_acc: 0.6930\n",
            "Epoch 3/20\n",
            "200/200 [==============================] - 17s 86ms/step - loss: 0.5725 - acc: 0.7165 - val_loss: 0.5390 - val_acc: 0.7520\n",
            "Epoch 4/20\n",
            "200/200 [==============================] - 17s 86ms/step - loss: 0.5757 - acc: 0.7120 - val_loss: 0.5273 - val_acc: 0.7410\n",
            "Epoch 5/20\n",
            "200/200 [==============================] - 17s 86ms/step - loss: 0.5854 - acc: 0.7120 - val_loss: 0.5320 - val_acc: 0.7130\n",
            "Epoch 6/20\n",
            "200/200 [==============================] - 17s 86ms/step - loss: 0.5780 - acc: 0.7175 - val_loss: 0.5818 - val_acc: 0.6900\n",
            "Epoch 7/20\n",
            "200/200 [==============================] - 17s 86ms/step - loss: 0.5957 - acc: 0.7055 - val_loss: 0.5465 - val_acc: 0.7730\n",
            "Epoch 8/20\n",
            "200/200 [==============================] - 17s 87ms/step - loss: 0.5835 - acc: 0.7130 - val_loss: 0.6210 - val_acc: 0.6520\n",
            "Epoch 9/20\n",
            "200/200 [==============================] - 17s 86ms/step - loss: 0.5712 - acc: 0.7190 - val_loss: 0.5282 - val_acc: 0.7360\n",
            "Epoch 10/20\n",
            "200/200 [==============================] - 17s 87ms/step - loss: 0.5786 - acc: 0.7165 - val_loss: 1.8120 - val_acc: 0.6570\n",
            "Epoch 11/20\n",
            "200/200 [==============================] - 17s 85ms/step - loss: 0.6047 - acc: 0.7200 - val_loss: 0.5397 - val_acc: 0.7320\n",
            "Epoch 12/20\n",
            "200/200 [==============================] - 17s 86ms/step - loss: 0.5840 - acc: 0.7335 - val_loss: 0.4632 - val_acc: 0.7820\n",
            "Epoch 13/20\n",
            "200/200 [==============================] - 17s 86ms/step - loss: 0.5762 - acc: 0.7220 - val_loss: 0.5157 - val_acc: 0.7730\n",
            "Epoch 14/20\n",
            "200/200 [==============================] - 17s 86ms/step - loss: 0.5970 - acc: 0.7310 - val_loss: 0.5088 - val_acc: 0.7660\n",
            "Epoch 15/20\n",
            "200/200 [==============================] - 17s 86ms/step - loss: 0.5667 - acc: 0.7315 - val_loss: 0.5218 - val_acc: 0.7680\n",
            "Epoch 16/20\n",
            "200/200 [==============================] - 17s 86ms/step - loss: 0.5754 - acc: 0.7290 - val_loss: 0.4857 - val_acc: 0.7770\n",
            "Epoch 17/20\n",
            "200/200 [==============================] - 17s 86ms/step - loss: 0.5805 - acc: 0.7140 - val_loss: 0.5762 - val_acc: 0.7160\n",
            "Epoch 18/20\n",
            "200/200 [==============================] - 17s 87ms/step - loss: 0.5603 - acc: 0.7420 - val_loss: 0.5399 - val_acc: 0.7540\n",
            "Epoch 19/20\n",
            "200/200 [==============================] - 17s 86ms/step - loss: 0.5846 - acc: 0.7150 - val_loss: 0.5209 - val_acc: 0.7840\n",
            "Epoch 20/20\n",
            "200/200 [==============================] - 17s 86ms/step - loss: 0.5780 - acc: 0.7330 - val_loss: 0.5200 - val_acc: 0.7580\n"
          ],
          "name": "stdout"
        }
      ]
    },
    {
      "cell_type": "markdown",
      "metadata": {
        "id": "BRdU5yrkUF_b"
      },
      "source": [
        "# Task 2:\n",
        "\n",
        "We have used Dropout to enhance the performance of the CNN model. Can you please use whatever you like to further enhance the performance from `val_acc: 0.7506`? "
      ]
    },
    {
      "cell_type": "code",
      "metadata": {
        "id": "Zai6ITdm8eGL"
      },
      "source": [
        "from keras import layers\n",
        "from keras import models\n",
        "from keras import optimizers\n",
        "from keras import regularizers\n",
        "\n",
        "\n",
        "model = models.Sequential()\n",
        "model.add(layers.Conv2D(32, (3, 3), activation='relu', padding='same', input_shape=(150, 150, 3)))\n",
        "model.add(layers.MaxPooling2D((2, 2)))\n",
        "model.add(layers.Conv2D(64, (3, 3), activation='relu', padding='same'))\n",
        "model.add(layers.MaxPooling2D((2, 2)))\n",
        "model.add(layers.Dropout(0.25))\n",
        "model.add(layers.Conv2D(128, (3, 3), activation='relu',padding='same'))\n",
        "model.add(layers.MaxPooling2D((2, 2)))\n",
        "model.add(layers.Dropout(0.5))\n",
        "model.add(layers.Flatten())\n",
        "model.add(layers.Dense(256, activation='relu'))\n",
        "model.add(layers.Dense(1, activation='sigmoid'))\n",
        "\n",
        "model.compile(loss='binary_crossentropy',\n",
        "              optimizer=optimizers.RMSprop(lr=1e-4),\n",
        "              metrics=['acc'])\n"
      ],
      "execution_count": 55,
      "outputs": []
    },
    {
      "cell_type": "code",
      "metadata": {
        "colab": {
          "base_uri": "https://localhost:8080/"
        },
        "id": "hEviNoOlwuZ8",
        "outputId": "484c6406-dae9-4a76-bab2-15651cce247e"
      },
      "source": [
        "from keras.preprocessing.image import ImageDataGenerator\n",
        "from keras.callbacks import EarlyStopping\n",
        "\n",
        "callback = EarlyStopping(monitor='val_loss', patience=5, restore_best_weights=True)\n",
        "train_datagen = ImageDataGenerator(rescale=1./255,\n",
        "                                   width_shift_range=0.2,\n",
        "                                   height_shift_range=0.2,\n",
        "                                   horizontal_flip=True,)\n",
        "#test_datagen = ImageDataGenerator(rescale=1./255)\n",
        "\n",
        "train_generator = train_datagen.flow_from_directory(train_dir,\n",
        "                                                    target_size=(150, 150),\n",
        "                                                    batch_size=20,\n",
        "                                                    class_mode='binary')\n",
        "\n",
        "validation_generator = test_datagen.flow_from_directory(validation_dir,\n",
        "                                                        target_size=(150, 150),\n",
        "                                                        batch_size=20,\n",
        "                                                        class_mode='binary')\n",
        "\n",
        "history = model.fit_generator(train_generator,\n",
        "                              steps_per_epoch=100,\n",
        "                              epochs=40,\n",
        "                              validation_data=validation_generator,\n",
        "                              validation_steps=10)\n"
      ],
      "execution_count": 57,
      "outputs": [
        {
          "output_type": "stream",
          "text": [
            "Found 2000 images belonging to 2 classes.\n",
            "Found 1000 images belonging to 2 classes.\n"
          ],
          "name": "stdout"
        },
        {
          "output_type": "stream",
          "text": [
            "/usr/local/lib/python3.7/dist-packages/tensorflow/python/keras/engine/training.py:1844: UserWarning: `Model.fit_generator` is deprecated and will be removed in a future version. Please use `Model.fit`, which supports generators.\n",
            "  warnings.warn('`Model.fit_generator` is deprecated and '\n"
          ],
          "name": "stderr"
        },
        {
          "output_type": "stream",
          "text": [
            "Epoch 1/40\n",
            "100/100 [==============================] - 15s 150ms/step - loss: 0.4792 - acc: 0.7705 - val_loss: 0.4761 - val_acc: 0.7700\n",
            "Epoch 2/40\n",
            "100/100 [==============================] - 15s 150ms/step - loss: 0.4793 - acc: 0.7775 - val_loss: 0.4362 - val_acc: 0.7950\n",
            "Epoch 3/40\n",
            "100/100 [==============================] - 15s 149ms/step - loss: 0.4760 - acc: 0.7770 - val_loss: 0.4378 - val_acc: 0.7900\n",
            "Epoch 4/40\n",
            "100/100 [==============================] - 15s 149ms/step - loss: 0.4788 - acc: 0.7660 - val_loss: 0.3891 - val_acc: 0.8350\n",
            "Epoch 5/40\n",
            "100/100 [==============================] - 15s 149ms/step - loss: 0.4784 - acc: 0.7685 - val_loss: 0.5144 - val_acc: 0.7600\n",
            "Epoch 6/40\n",
            "100/100 [==============================] - 15s 150ms/step - loss: 0.4654 - acc: 0.7755 - val_loss: 0.4082 - val_acc: 0.8300\n",
            "Epoch 7/40\n",
            "100/100 [==============================] - 15s 149ms/step - loss: 0.4630 - acc: 0.7725 - val_loss: 0.5211 - val_acc: 0.7450\n",
            "Epoch 8/40\n",
            "100/100 [==============================] - 15s 149ms/step - loss: 0.4553 - acc: 0.7875 - val_loss: 0.4589 - val_acc: 0.7750\n",
            "Epoch 9/40\n",
            "100/100 [==============================] - 15s 149ms/step - loss: 0.4711 - acc: 0.7635 - val_loss: 0.5071 - val_acc: 0.7050\n",
            "Epoch 10/40\n",
            "100/100 [==============================] - 15s 153ms/step - loss: 0.4583 - acc: 0.7875 - val_loss: 0.4995 - val_acc: 0.7600\n",
            "Epoch 11/40\n",
            "100/100 [==============================] - 15s 148ms/step - loss: 0.4858 - acc: 0.7665 - val_loss: 0.5104 - val_acc: 0.7750\n",
            "Epoch 12/40\n",
            "100/100 [==============================] - 15s 151ms/step - loss: 0.4540 - acc: 0.7855 - val_loss: 0.4927 - val_acc: 0.7550\n",
            "Epoch 13/40\n",
            "100/100 [==============================] - 15s 149ms/step - loss: 0.4576 - acc: 0.7830 - val_loss: 0.4088 - val_acc: 0.8150\n",
            "Epoch 14/40\n",
            "100/100 [==============================] - 15s 152ms/step - loss: 0.4519 - acc: 0.7790 - val_loss: 0.4662 - val_acc: 0.7500\n",
            "Epoch 15/40\n",
            "100/100 [==============================] - 15s 150ms/step - loss: 0.4439 - acc: 0.7860 - val_loss: 0.4587 - val_acc: 0.7950\n",
            "Epoch 16/40\n",
            "100/100 [==============================] - 15s 150ms/step - loss: 0.4472 - acc: 0.7935 - val_loss: 0.4318 - val_acc: 0.8100\n",
            "Epoch 17/40\n",
            "100/100 [==============================] - 15s 149ms/step - loss: 0.4460 - acc: 0.7880 - val_loss: 0.4036 - val_acc: 0.8000\n",
            "Epoch 18/40\n",
            "100/100 [==============================] - 15s 149ms/step - loss: 0.4397 - acc: 0.8000 - val_loss: 0.4003 - val_acc: 0.8300\n",
            "Epoch 19/40\n",
            "100/100 [==============================] - 15s 151ms/step - loss: 0.4481 - acc: 0.7935 - val_loss: 0.4391 - val_acc: 0.7900\n",
            "Epoch 20/40\n",
            "100/100 [==============================] - 15s 150ms/step - loss: 0.4450 - acc: 0.7910 - val_loss: 0.4001 - val_acc: 0.8200\n",
            "Epoch 21/40\n",
            "100/100 [==============================] - 16s 158ms/step - loss: 0.4337 - acc: 0.7925 - val_loss: 0.5279 - val_acc: 0.7400\n",
            "Epoch 22/40\n",
            "100/100 [==============================] - 16s 161ms/step - loss: 0.4210 - acc: 0.8000 - val_loss: 0.4107 - val_acc: 0.8150\n",
            "Epoch 23/40\n",
            "100/100 [==============================] - 16s 163ms/step - loss: 0.4319 - acc: 0.8010 - val_loss: 0.3970 - val_acc: 0.7850\n",
            "Epoch 24/40\n",
            "100/100 [==============================] - 16s 164ms/step - loss: 0.4261 - acc: 0.8020 - val_loss: 0.4385 - val_acc: 0.7750\n",
            "Epoch 25/40\n",
            "100/100 [==============================] - 16s 161ms/step - loss: 0.4288 - acc: 0.8025 - val_loss: 0.4696 - val_acc: 0.7600\n",
            "Epoch 26/40\n",
            "100/100 [==============================] - 16s 159ms/step - loss: 0.4248 - acc: 0.7955 - val_loss: 0.4357 - val_acc: 0.7900\n",
            "Epoch 27/40\n",
            "100/100 [==============================] - 15s 153ms/step - loss: 0.4359 - acc: 0.7945 - val_loss: 0.4800 - val_acc: 0.7350\n",
            "Epoch 28/40\n",
            "100/100 [==============================] - 15s 152ms/step - loss: 0.4280 - acc: 0.8080 - val_loss: 0.4994 - val_acc: 0.7550\n",
            "Epoch 29/40\n",
            "100/100 [==============================] - 16s 158ms/step - loss: 0.4143 - acc: 0.8125 - val_loss: 0.4644 - val_acc: 0.8000\n",
            "Epoch 30/40\n",
            "100/100 [==============================] - 16s 158ms/step - loss: 0.4205 - acc: 0.8055 - val_loss: 0.4634 - val_acc: 0.7500\n",
            "Epoch 31/40\n",
            "100/100 [==============================] - 17s 166ms/step - loss: 0.4099 - acc: 0.8015 - val_loss: 0.4692 - val_acc: 0.7500\n",
            "Epoch 32/40\n",
            "100/100 [==============================] - 16s 162ms/step - loss: 0.4131 - acc: 0.8050 - val_loss: 0.5371 - val_acc: 0.7100\n",
            "Epoch 33/40\n",
            "100/100 [==============================] - 16s 158ms/step - loss: 0.4031 - acc: 0.8155 - val_loss: 0.4415 - val_acc: 0.7900\n",
            "Epoch 34/40\n",
            "100/100 [==============================] - 15s 153ms/step - loss: 0.4221 - acc: 0.8015 - val_loss: 0.4466 - val_acc: 0.7950\n",
            "Epoch 35/40\n",
            "100/100 [==============================] - 16s 157ms/step - loss: 0.4139 - acc: 0.8135 - val_loss: 0.4594 - val_acc: 0.7900\n",
            "Epoch 36/40\n",
            "100/100 [==============================] - 16s 157ms/step - loss: 0.4236 - acc: 0.8150 - val_loss: 0.5341 - val_acc: 0.7600\n",
            "Epoch 37/40\n",
            "100/100 [==============================] - 16s 159ms/step - loss: 0.4083 - acc: 0.8115 - val_loss: 0.4045 - val_acc: 0.7600\n",
            "Epoch 38/40\n",
            "100/100 [==============================] - 16s 157ms/step - loss: 0.4299 - acc: 0.7930 - val_loss: 0.4803 - val_acc: 0.7350\n",
            "Epoch 39/40\n",
            "100/100 [==============================] - 16s 156ms/step - loss: 0.4199 - acc: 0.8140 - val_loss: 0.4388 - val_acc: 0.8050\n",
            "Epoch 40/40\n",
            "100/100 [==============================] - 16s 160ms/step - loss: 0.4148 - acc: 0.8165 - val_loss: 0.3899 - val_acc: 0.8200\n"
          ],
          "name": "stdout"
        }
      ]
    }
  ]
}